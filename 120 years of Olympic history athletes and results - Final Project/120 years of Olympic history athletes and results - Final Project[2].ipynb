{
 "cells": [
  {
   "cell_type": "markdown",
   "id": "5091a0ac",
   "metadata": {},
   "source": [
    "# Import Libraries"
   ]
  },
  {
   "cell_type": "code",
   "execution_count": 1,
   "id": "8c63b4c6",
   "metadata": {},
   "outputs": [],
   "source": [
    "import numpy as np   ## numpy is a randon or array\n",
    "import pandas as pd   ## pandas is a reading the dataset\n",
    "import matplotlib.pyplot as plt  ## Plot the data\n",
    "import seaborn as sns        ## Library that uses Matplotlib underneath to plot graphs.\n",
    "import warnings  ## a way to warn programmers about changes in language or library features\n",
    "warnings.filterwarnings('ignore')   ##  It allows you to ignore warnings from specified module."
   ]
  },
  {
   "cell_type": "markdown",
   "id": "7ad5d530",
   "metadata": {},
   "source": [
    "# Goals"
   ]
  },
  {
   "cell_type": "markdown",
   "id": "649dbda0",
   "metadata": {},
   "source": [
    "The goal of Olympism is to place sport at the service of the harmonious development of humankind, with a view to promoting a peaceful society concerned with the preservation of human dignity.”"
   ]
  },
  {
   "cell_type": "markdown",
   "id": "7d6612a2",
   "metadata": {},
   "source": [
    "# Reading Data"
   ]
  },
  {
   "cell_type": "code",
   "execution_count": 2,
   "id": "eeefbef6",
   "metadata": {},
   "outputs": [
    {
     "data": {
      "text/html": [
       "<div>\n",
       "<style scoped>\n",
       "    .dataframe tbody tr th:only-of-type {\n",
       "        vertical-align: middle;\n",
       "    }\n",
       "\n",
       "    .dataframe tbody tr th {\n",
       "        vertical-align: top;\n",
       "    }\n",
       "\n",
       "    .dataframe thead th {\n",
       "        text-align: right;\n",
       "    }\n",
       "</style>\n",
       "<table border=\"1\" class=\"dataframe\">\n",
       "  <thead>\n",
       "    <tr style=\"text-align: right;\">\n",
       "      <th></th>\n",
       "      <th>ID</th>\n",
       "      <th>Name</th>\n",
       "      <th>Sex</th>\n",
       "      <th>Age</th>\n",
       "      <th>Height</th>\n",
       "      <th>Weight</th>\n",
       "      <th>Team</th>\n",
       "      <th>NOC</th>\n",
       "      <th>Games</th>\n",
       "      <th>Year</th>\n",
       "      <th>Season</th>\n",
       "      <th>City</th>\n",
       "      <th>Sport</th>\n",
       "      <th>Event</th>\n",
       "      <th>Medal</th>\n",
       "    </tr>\n",
       "  </thead>\n",
       "  <tbody>\n",
       "    <tr>\n",
       "      <th>0</th>\n",
       "      <td>1</td>\n",
       "      <td>A Dijiang</td>\n",
       "      <td>M</td>\n",
       "      <td>24.0</td>\n",
       "      <td>180.0</td>\n",
       "      <td>80.0</td>\n",
       "      <td>China</td>\n",
       "      <td>CHN</td>\n",
       "      <td>1992 Summer</td>\n",
       "      <td>1992</td>\n",
       "      <td>Summer</td>\n",
       "      <td>Barcelona</td>\n",
       "      <td>Basketball</td>\n",
       "      <td>Basketball Men's Basketball</td>\n",
       "      <td>No Medal</td>\n",
       "    </tr>\n",
       "    <tr>\n",
       "      <th>1</th>\n",
       "      <td>2</td>\n",
       "      <td>A Lamusi</td>\n",
       "      <td>M</td>\n",
       "      <td>23.0</td>\n",
       "      <td>170.0</td>\n",
       "      <td>60.0</td>\n",
       "      <td>China</td>\n",
       "      <td>CHN</td>\n",
       "      <td>2012 Summer</td>\n",
       "      <td>2012</td>\n",
       "      <td>Summer</td>\n",
       "      <td>London</td>\n",
       "      <td>Judo</td>\n",
       "      <td>Judo Men's Extra-Lightweight</td>\n",
       "      <td>No Medal</td>\n",
       "    </tr>\n",
       "    <tr>\n",
       "      <th>2</th>\n",
       "      <td>3</td>\n",
       "      <td>Gunnar Nielsen Aaby</td>\n",
       "      <td>M</td>\n",
       "      <td>24.0</td>\n",
       "      <td>NaN</td>\n",
       "      <td>NaN</td>\n",
       "      <td>Denmark</td>\n",
       "      <td>DEN</td>\n",
       "      <td>1920 Summer</td>\n",
       "      <td>1920</td>\n",
       "      <td>Summer</td>\n",
       "      <td>Antwerpen</td>\n",
       "      <td>Football</td>\n",
       "      <td>Football Men's Football</td>\n",
       "      <td>No Medal</td>\n",
       "    </tr>\n",
       "    <tr>\n",
       "      <th>3</th>\n",
       "      <td>4</td>\n",
       "      <td>Edgar Lindenau Aabye</td>\n",
       "      <td>M</td>\n",
       "      <td>34.0</td>\n",
       "      <td>NaN</td>\n",
       "      <td>NaN</td>\n",
       "      <td>Denmark/Sweden</td>\n",
       "      <td>DEN</td>\n",
       "      <td>1900 Summer</td>\n",
       "      <td>1900</td>\n",
       "      <td>Summer</td>\n",
       "      <td>Paris</td>\n",
       "      <td>Tug-Of-War</td>\n",
       "      <td>Tug-Of-War Men's Tug-Of-War</td>\n",
       "      <td>Gold</td>\n",
       "    </tr>\n",
       "    <tr>\n",
       "      <th>4</th>\n",
       "      <td>5</td>\n",
       "      <td>Christine Jacoba Aaftink</td>\n",
       "      <td>F</td>\n",
       "      <td>21.0</td>\n",
       "      <td>185.0</td>\n",
       "      <td>82.0</td>\n",
       "      <td>Netherlands</td>\n",
       "      <td>NED</td>\n",
       "      <td>1988 Winter</td>\n",
       "      <td>1988</td>\n",
       "      <td>Winter</td>\n",
       "      <td>Calgary</td>\n",
       "      <td>Speed Skating</td>\n",
       "      <td>Speed Skating Women's 500 metres</td>\n",
       "      <td>No Medal</td>\n",
       "    </tr>\n",
       "    <tr>\n",
       "      <th>...</th>\n",
       "      <td>...</td>\n",
       "      <td>...</td>\n",
       "      <td>...</td>\n",
       "      <td>...</td>\n",
       "      <td>...</td>\n",
       "      <td>...</td>\n",
       "      <td>...</td>\n",
       "      <td>...</td>\n",
       "      <td>...</td>\n",
       "      <td>...</td>\n",
       "      <td>...</td>\n",
       "      <td>...</td>\n",
       "      <td>...</td>\n",
       "      <td>...</td>\n",
       "      <td>...</td>\n",
       "    </tr>\n",
       "    <tr>\n",
       "      <th>65530</th>\n",
       "      <td>33537</td>\n",
       "      <td>Nelson vora</td>\n",
       "      <td>M</td>\n",
       "      <td>24.0</td>\n",
       "      <td>183.0</td>\n",
       "      <td>76.0</td>\n",
       "      <td>Portugal</td>\n",
       "      <td>POR</td>\n",
       "      <td>2008 Summer</td>\n",
       "      <td>2008</td>\n",
       "      <td>Summer</td>\n",
       "      <td>Beijing</td>\n",
       "      <td>Athletics</td>\n",
       "      <td>Athletics Men's Triple Jump</td>\n",
       "      <td>Gold</td>\n",
       "    </tr>\n",
       "    <tr>\n",
       "      <th>65531</th>\n",
       "      <td>33537</td>\n",
       "      <td>Nelson vora</td>\n",
       "      <td>M</td>\n",
       "      <td>32.0</td>\n",
       "      <td>183.0</td>\n",
       "      <td>76.0</td>\n",
       "      <td>Portugal</td>\n",
       "      <td>POR</td>\n",
       "      <td>2016 Summer</td>\n",
       "      <td>2016</td>\n",
       "      <td>Summer</td>\n",
       "      <td>Rio de Janeiro</td>\n",
       "      <td>Athletics</td>\n",
       "      <td>Athletics Men's Triple Jump</td>\n",
       "      <td>No Medal</td>\n",
       "    </tr>\n",
       "    <tr>\n",
       "      <th>65532</th>\n",
       "      <td>33538</td>\n",
       "      <td>Joseph Evouna</td>\n",
       "      <td>M</td>\n",
       "      <td>19.0</td>\n",
       "      <td>172.0</td>\n",
       "      <td>69.0</td>\n",
       "      <td>Cameroon</td>\n",
       "      <td>CMR</td>\n",
       "      <td>1972 Summer</td>\n",
       "      <td>1972</td>\n",
       "      <td>Summer</td>\n",
       "      <td>Munich</td>\n",
       "      <td>Cycling</td>\n",
       "      <td>Cycling Men's Road Race, Individual</td>\n",
       "      <td>No Medal</td>\n",
       "    </tr>\n",
       "    <tr>\n",
       "      <th>65533</th>\n",
       "      <td>33538</td>\n",
       "      <td>Joseph Evouna</td>\n",
       "      <td>M</td>\n",
       "      <td>19.0</td>\n",
       "      <td>172.0</td>\n",
       "      <td>69.0</td>\n",
       "      <td>Cameroon</td>\n",
       "      <td>CMR</td>\n",
       "      <td>1972 Summer</td>\n",
       "      <td>1972</td>\n",
       "      <td>Summer</td>\n",
       "      <td>Munich</td>\n",
       "      <td>Cycling</td>\n",
       "      <td>Cycling Men's 100 kilometres Team Time Trial</td>\n",
       "      <td>No Medal</td>\n",
       "    </tr>\n",
       "    <tr>\n",
       "      <th>65534</th>\n",
       "      <td>33538</td>\n",
       "      <td>Joseph Evouna</td>\n",
       "      <td>M</td>\n",
       "      <td>27.0</td>\n",
       "      <td>172.0</td>\n",
       "      <td>69.0</td>\n",
       "      <td>Cameroon</td>\n",
       "      <td>CMR</td>\n",
       "      <td>1980 Summer</td>\n",
       "      <td>1980</td>\n",
       "      <td>Summer</td>\n",
       "      <td>Moskva</td>\n",
       "      <td>Cycling</td>\n",
       "      <td>Cycling Men's Road Race, Individual</td>\n",
       "      <td>No Medal</td>\n",
       "    </tr>\n",
       "  </tbody>\n",
       "</table>\n",
       "<p>65535 rows × 15 columns</p>\n",
       "</div>"
      ],
      "text/plain": [
       "          ID                      Name Sex   Age  Height  Weight  \\\n",
       "0          1                 A Dijiang   M  24.0   180.0    80.0   \n",
       "1          2                  A Lamusi   M  23.0   170.0    60.0   \n",
       "2          3       Gunnar Nielsen Aaby   M  24.0     NaN     NaN   \n",
       "3          4      Edgar Lindenau Aabye   M  34.0     NaN     NaN   \n",
       "4          5  Christine Jacoba Aaftink   F  21.0   185.0    82.0   \n",
       "...      ...                       ...  ..   ...     ...     ...   \n",
       "65530  33537               Nelson vora   M  24.0   183.0    76.0   \n",
       "65531  33537               Nelson vora   M  32.0   183.0    76.0   \n",
       "65532  33538             Joseph Evouna   M  19.0   172.0    69.0   \n",
       "65533  33538             Joseph Evouna   M  19.0   172.0    69.0   \n",
       "65534  33538             Joseph Evouna   M  27.0   172.0    69.0   \n",
       "\n",
       "                 Team  NOC        Games  Year  Season            City  \\\n",
       "0               China  CHN  1992 Summer  1992  Summer       Barcelona   \n",
       "1               China  CHN  2012 Summer  2012  Summer          London   \n",
       "2             Denmark  DEN  1920 Summer  1920  Summer       Antwerpen   \n",
       "3      Denmark/Sweden  DEN  1900 Summer  1900  Summer           Paris   \n",
       "4         Netherlands  NED  1988 Winter  1988  Winter         Calgary   \n",
       "...               ...  ...          ...   ...     ...             ...   \n",
       "65530        Portugal  POR  2008 Summer  2008  Summer         Beijing   \n",
       "65531        Portugal  POR  2016 Summer  2016  Summer  Rio de Janeiro   \n",
       "65532        Cameroon  CMR  1972 Summer  1972  Summer          Munich   \n",
       "65533        Cameroon  CMR  1972 Summer  1972  Summer          Munich   \n",
       "65534        Cameroon  CMR  1980 Summer  1980  Summer          Moskva   \n",
       "\n",
       "               Sport                                         Event     Medal  \n",
       "0         Basketball                   Basketball Men's Basketball  No Medal  \n",
       "1               Judo                  Judo Men's Extra-Lightweight  No Medal  \n",
       "2           Football                       Football Men's Football  No Medal  \n",
       "3         Tug-Of-War                   Tug-Of-War Men's Tug-Of-War      Gold  \n",
       "4      Speed Skating              Speed Skating Women's 500 metres  No Medal  \n",
       "...              ...                                           ...       ...  \n",
       "65530      Athletics                   Athletics Men's Triple Jump      Gold  \n",
       "65531      Athletics                   Athletics Men's Triple Jump  No Medal  \n",
       "65532        Cycling           Cycling Men's Road Race, Individual  No Medal  \n",
       "65533        Cycling  Cycling Men's 100 kilometres Team Time Trial  No Medal  \n",
       "65534        Cycling           Cycling Men's Road Race, Individual  No Medal  \n",
       "\n",
       "[65535 rows x 15 columns]"
      ]
     },
     "execution_count": 2,
     "metadata": {},
     "output_type": "execute_result"
    }
   ],
   "source": [
    "ath = pd.read_csv('120 years of Olympic history athletes and results.csv')  ## Read the data\n",
    "ath"
   ]
  },
  {
   "cell_type": "markdown",
   "id": "af18c5ba",
   "metadata": {},
   "source": [
    "# Reading Second Data"
   ]
  },
  {
   "cell_type": "code",
   "execution_count": 3,
   "id": "eb22c51b",
   "metadata": {},
   "outputs": [
    {
     "data": {
      "text/html": [
       "<div>\n",
       "<style scoped>\n",
       "    .dataframe tbody tr th:only-of-type {\n",
       "        vertical-align: middle;\n",
       "    }\n",
       "\n",
       "    .dataframe tbody tr th {\n",
       "        vertical-align: top;\n",
       "    }\n",
       "\n",
       "    .dataframe thead th {\n",
       "        text-align: right;\n",
       "    }\n",
       "</style>\n",
       "<table border=\"1\" class=\"dataframe\">\n",
       "  <thead>\n",
       "    <tr style=\"text-align: right;\">\n",
       "      <th></th>\n",
       "      <th>NOC</th>\n",
       "      <th>region</th>\n",
       "      <th>notes</th>\n",
       "    </tr>\n",
       "  </thead>\n",
       "  <tbody>\n",
       "    <tr>\n",
       "      <th>0</th>\n",
       "      <td>AFG</td>\n",
       "      <td>Afghanistan</td>\n",
       "      <td>NaN</td>\n",
       "    </tr>\n",
       "    <tr>\n",
       "      <th>1</th>\n",
       "      <td>AHO</td>\n",
       "      <td>Curacao</td>\n",
       "      <td>Netherlands Antilles</td>\n",
       "    </tr>\n",
       "    <tr>\n",
       "      <th>2</th>\n",
       "      <td>ALB</td>\n",
       "      <td>Albania</td>\n",
       "      <td>NaN</td>\n",
       "    </tr>\n",
       "    <tr>\n",
       "      <th>3</th>\n",
       "      <td>ALG</td>\n",
       "      <td>Algeria</td>\n",
       "      <td>NaN</td>\n",
       "    </tr>\n",
       "    <tr>\n",
       "      <th>4</th>\n",
       "      <td>AND</td>\n",
       "      <td>Andorra</td>\n",
       "      <td>NaN</td>\n",
       "    </tr>\n",
       "    <tr>\n",
       "      <th>...</th>\n",
       "      <td>...</td>\n",
       "      <td>...</td>\n",
       "      <td>...</td>\n",
       "    </tr>\n",
       "    <tr>\n",
       "      <th>225</th>\n",
       "      <td>YEM</td>\n",
       "      <td>Yemen</td>\n",
       "      <td>NaN</td>\n",
       "    </tr>\n",
       "    <tr>\n",
       "      <th>226</th>\n",
       "      <td>YMD</td>\n",
       "      <td>Yemen</td>\n",
       "      <td>South Yemen</td>\n",
       "    </tr>\n",
       "    <tr>\n",
       "      <th>227</th>\n",
       "      <td>YUG</td>\n",
       "      <td>Serbia</td>\n",
       "      <td>Yugoslavia</td>\n",
       "    </tr>\n",
       "    <tr>\n",
       "      <th>228</th>\n",
       "      <td>ZAM</td>\n",
       "      <td>Zambia</td>\n",
       "      <td>NaN</td>\n",
       "    </tr>\n",
       "    <tr>\n",
       "      <th>229</th>\n",
       "      <td>ZIM</td>\n",
       "      <td>Zimbabwe</td>\n",
       "      <td>NaN</td>\n",
       "    </tr>\n",
       "  </tbody>\n",
       "</table>\n",
       "<p>230 rows × 3 columns</p>\n",
       "</div>"
      ],
      "text/plain": [
       "     NOC       region                 notes\n",
       "0    AFG  Afghanistan                   NaN\n",
       "1    AHO      Curacao  Netherlands Antilles\n",
       "2    ALB      Albania                   NaN\n",
       "3    ALG      Algeria                   NaN\n",
       "4    AND      Andorra                   NaN\n",
       "..   ...          ...                   ...\n",
       "225  YEM        Yemen                   NaN\n",
       "226  YMD        Yemen           South Yemen\n",
       "227  YUG       Serbia            Yugoslavia\n",
       "228  ZAM       Zambia                   NaN\n",
       "229  ZIM     Zimbabwe                   NaN\n",
       "\n",
       "[230 rows x 3 columns]"
      ]
     },
     "execution_count": 3,
     "metadata": {},
     "output_type": "execute_result"
    }
   ],
   "source": [
    "reg = pd.read_csv('noc_regions.csv')  ##Read the second data\n",
    "reg"
   ]
  },
  {
   "cell_type": "markdown",
   "id": "733dd814",
   "metadata": {},
   "source": [
    "# Merging Both Data"
   ]
  },
  {
   "cell_type": "code",
   "execution_count": 4,
   "id": "b6bb5cda",
   "metadata": {},
   "outputs": [],
   "source": [
    "ath_df = ath.merge(reg,on = 'NOC')\n",
    "\n",
    "# on is used for common column that is NOC\n",
    "# how is used to that where we have to merge on left or right"
   ]
  },
  {
   "cell_type": "code",
   "execution_count": 5,
   "id": "7e786a01",
   "metadata": {},
   "outputs": [
    {
     "data": {
      "text/html": [
       "<div>\n",
       "<style scoped>\n",
       "    .dataframe tbody tr th:only-of-type {\n",
       "        vertical-align: middle;\n",
       "    }\n",
       "\n",
       "    .dataframe tbody tr th {\n",
       "        vertical-align: top;\n",
       "    }\n",
       "\n",
       "    .dataframe thead th {\n",
       "        text-align: right;\n",
       "    }\n",
       "</style>\n",
       "<table border=\"1\" class=\"dataframe\">\n",
       "  <thead>\n",
       "    <tr style=\"text-align: right;\">\n",
       "      <th></th>\n",
       "      <th>ID</th>\n",
       "      <th>Name</th>\n",
       "      <th>Sex</th>\n",
       "      <th>Age</th>\n",
       "      <th>Height</th>\n",
       "      <th>Weight</th>\n",
       "      <th>Team</th>\n",
       "      <th>NOC</th>\n",
       "      <th>Games</th>\n",
       "      <th>Year</th>\n",
       "      <th>Season</th>\n",
       "      <th>City</th>\n",
       "      <th>Sport</th>\n",
       "      <th>Event</th>\n",
       "      <th>Medal</th>\n",
       "      <th>region</th>\n",
       "      <th>notes</th>\n",
       "    </tr>\n",
       "  </thead>\n",
       "  <tbody>\n",
       "    <tr>\n",
       "      <th>0</th>\n",
       "      <td>1</td>\n",
       "      <td>A Dijiang</td>\n",
       "      <td>M</td>\n",
       "      <td>24.0</td>\n",
       "      <td>180.0</td>\n",
       "      <td>80.0</td>\n",
       "      <td>China</td>\n",
       "      <td>CHN</td>\n",
       "      <td>1992 Summer</td>\n",
       "      <td>1992</td>\n",
       "      <td>Summer</td>\n",
       "      <td>Barcelona</td>\n",
       "      <td>Basketball</td>\n",
       "      <td>Basketball Men's Basketball</td>\n",
       "      <td>No Medal</td>\n",
       "      <td>China</td>\n",
       "      <td>NaN</td>\n",
       "    </tr>\n",
       "    <tr>\n",
       "      <th>1</th>\n",
       "      <td>2</td>\n",
       "      <td>A Lamusi</td>\n",
       "      <td>M</td>\n",
       "      <td>23.0</td>\n",
       "      <td>170.0</td>\n",
       "      <td>60.0</td>\n",
       "      <td>China</td>\n",
       "      <td>CHN</td>\n",
       "      <td>2012 Summer</td>\n",
       "      <td>2012</td>\n",
       "      <td>Summer</td>\n",
       "      <td>London</td>\n",
       "      <td>Judo</td>\n",
       "      <td>Judo Men's Extra-Lightweight</td>\n",
       "      <td>No Medal</td>\n",
       "      <td>China</td>\n",
       "      <td>NaN</td>\n",
       "    </tr>\n",
       "    <tr>\n",
       "      <th>2</th>\n",
       "      <td>602</td>\n",
       "      <td>Abudoureheman</td>\n",
       "      <td>M</td>\n",
       "      <td>22.0</td>\n",
       "      <td>182.0</td>\n",
       "      <td>75.0</td>\n",
       "      <td>China</td>\n",
       "      <td>CHN</td>\n",
       "      <td>2000 Summer</td>\n",
       "      <td>2000</td>\n",
       "      <td>Summer</td>\n",
       "      <td>Sydney</td>\n",
       "      <td>Boxing</td>\n",
       "      <td>Boxing Men's Middleweight</td>\n",
       "      <td>No Medal</td>\n",
       "      <td>China</td>\n",
       "      <td>NaN</td>\n",
       "    </tr>\n",
       "    <tr>\n",
       "      <th>3</th>\n",
       "      <td>1463</td>\n",
       "      <td>Ai Linuer</td>\n",
       "      <td>M</td>\n",
       "      <td>25.0</td>\n",
       "      <td>160.0</td>\n",
       "      <td>62.0</td>\n",
       "      <td>China</td>\n",
       "      <td>CHN</td>\n",
       "      <td>2004 Summer</td>\n",
       "      <td>2004</td>\n",
       "      <td>Summer</td>\n",
       "      <td>Athina</td>\n",
       "      <td>Wrestling</td>\n",
       "      <td>Wrestling Men's Lightweight, Greco-Roman</td>\n",
       "      <td>No Medal</td>\n",
       "      <td>China</td>\n",
       "      <td>NaN</td>\n",
       "    </tr>\n",
       "    <tr>\n",
       "      <th>4</th>\n",
       "      <td>1464</td>\n",
       "      <td>Ai Yanhan</td>\n",
       "      <td>F</td>\n",
       "      <td>14.0</td>\n",
       "      <td>168.0</td>\n",
       "      <td>54.0</td>\n",
       "      <td>China</td>\n",
       "      <td>CHN</td>\n",
       "      <td>2016 Summer</td>\n",
       "      <td>2016</td>\n",
       "      <td>Summer</td>\n",
       "      <td>Rio de Janeiro</td>\n",
       "      <td>Swimming</td>\n",
       "      <td>Swimming Women's 200 metres Freestyle</td>\n",
       "      <td>No Medal</td>\n",
       "      <td>China</td>\n",
       "      <td>NaN</td>\n",
       "    </tr>\n",
       "    <tr>\n",
       "      <th>...</th>\n",
       "      <td>...</td>\n",
       "      <td>...</td>\n",
       "      <td>...</td>\n",
       "      <td>...</td>\n",
       "      <td>...</td>\n",
       "      <td>...</td>\n",
       "      <td>...</td>\n",
       "      <td>...</td>\n",
       "      <td>...</td>\n",
       "      <td>...</td>\n",
       "      <td>...</td>\n",
       "      <td>...</td>\n",
       "      <td>...</td>\n",
       "      <td>...</td>\n",
       "      <td>...</td>\n",
       "      <td>...</td>\n",
       "      <td>...</td>\n",
       "    </tr>\n",
       "    <tr>\n",
       "      <th>65482</th>\n",
       "      <td>23772</td>\n",
       "      <td>Mariana Cress</td>\n",
       "      <td>F</td>\n",
       "      <td>17.0</td>\n",
       "      <td>159.0</td>\n",
       "      <td>52.0</td>\n",
       "      <td>Marshall Islands</td>\n",
       "      <td>MHL</td>\n",
       "      <td>2016 Summer</td>\n",
       "      <td>2016</td>\n",
       "      <td>Summer</td>\n",
       "      <td>Rio de Janeiro</td>\n",
       "      <td>Athletics</td>\n",
       "      <td>Athletics Women's 100 metres</td>\n",
       "      <td>No Medal</td>\n",
       "      <td>Marshall Islands</td>\n",
       "      <td>NaN</td>\n",
       "    </tr>\n",
       "    <tr>\n",
       "      <th>65483</th>\n",
       "      <td>23773</td>\n",
       "      <td>Roman William Cress</td>\n",
       "      <td>M</td>\n",
       "      <td>31.0</td>\n",
       "      <td>NaN</td>\n",
       "      <td>NaN</td>\n",
       "      <td>Marshall Islands</td>\n",
       "      <td>MHL</td>\n",
       "      <td>2008 Summer</td>\n",
       "      <td>2008</td>\n",
       "      <td>Summer</td>\n",
       "      <td>Beijing</td>\n",
       "      <td>Athletics</td>\n",
       "      <td>Athletics Men's 100 metres</td>\n",
       "      <td>No Medal</td>\n",
       "      <td>Marshall Islands</td>\n",
       "      <td>NaN</td>\n",
       "    </tr>\n",
       "    <tr>\n",
       "      <th>65484</th>\n",
       "      <td>25568</td>\n",
       "      <td>Kaingaue David</td>\n",
       "      <td>F</td>\n",
       "      <td>17.0</td>\n",
       "      <td>167.0</td>\n",
       "      <td>67.0</td>\n",
       "      <td>Kiribati</td>\n",
       "      <td>KIR</td>\n",
       "      <td>2012 Summer</td>\n",
       "      <td>2012</td>\n",
       "      <td>Summer</td>\n",
       "      <td>London</td>\n",
       "      <td>Athletics</td>\n",
       "      <td>Athletics Women's 100 metres</td>\n",
       "      <td>No Medal</td>\n",
       "      <td>Kiribati</td>\n",
       "      <td>NaN</td>\n",
       "    </tr>\n",
       "    <tr>\n",
       "      <th>65485</th>\n",
       "      <td>31292</td>\n",
       "      <td>Fritz Eccard</td>\n",
       "      <td>M</td>\n",
       "      <td>NaN</td>\n",
       "      <td>NaN</td>\n",
       "      <td>NaN</td>\n",
       "      <td>Unknown</td>\n",
       "      <td>UNK</td>\n",
       "      <td>1912 Summer</td>\n",
       "      <td>1912</td>\n",
       "      <td>Summer</td>\n",
       "      <td>Stockholm</td>\n",
       "      <td>Art Competitions</td>\n",
       "      <td>Art Competitions Mixed Architecture</td>\n",
       "      <td>No Medal</td>\n",
       "      <td>NaN</td>\n",
       "      <td>Unknown</td>\n",
       "    </tr>\n",
       "    <tr>\n",
       "      <th>65486</th>\n",
       "      <td>33094</td>\n",
       "      <td>Logona Esau</td>\n",
       "      <td>M</td>\n",
       "      <td>21.0</td>\n",
       "      <td>163.0</td>\n",
       "      <td>69.0</td>\n",
       "      <td>Tuvalu</td>\n",
       "      <td>TUV</td>\n",
       "      <td>2008 Summer</td>\n",
       "      <td>2008</td>\n",
       "      <td>Summer</td>\n",
       "      <td>Beijing</td>\n",
       "      <td>Weightlifting</td>\n",
       "      <td>Weightlifting Men's Lightweight</td>\n",
       "      <td>No Medal</td>\n",
       "      <td>NaN</td>\n",
       "      <td>Tuvalu</td>\n",
       "    </tr>\n",
       "  </tbody>\n",
       "</table>\n",
       "<p>65487 rows × 17 columns</p>\n",
       "</div>"
      ],
      "text/plain": [
       "          ID                 Name Sex   Age  Height  Weight              Team  \\\n",
       "0          1            A Dijiang   M  24.0   180.0    80.0             China   \n",
       "1          2             A Lamusi   M  23.0   170.0    60.0             China   \n",
       "2        602        Abudoureheman   M  22.0   182.0    75.0             China   \n",
       "3       1463            Ai Linuer   M  25.0   160.0    62.0             China   \n",
       "4       1464            Ai Yanhan   F  14.0   168.0    54.0             China   \n",
       "...      ...                  ...  ..   ...     ...     ...               ...   \n",
       "65482  23772        Mariana Cress   F  17.0   159.0    52.0  Marshall Islands   \n",
       "65483  23773  Roman William Cress   M  31.0     NaN     NaN  Marshall Islands   \n",
       "65484  25568       Kaingaue David   F  17.0   167.0    67.0          Kiribati   \n",
       "65485  31292         Fritz Eccard   M   NaN     NaN     NaN           Unknown   \n",
       "65486  33094          Logona Esau   M  21.0   163.0    69.0            Tuvalu   \n",
       "\n",
       "       NOC        Games  Year  Season            City             Sport  \\\n",
       "0      CHN  1992 Summer  1992  Summer       Barcelona        Basketball   \n",
       "1      CHN  2012 Summer  2012  Summer          London              Judo   \n",
       "2      CHN  2000 Summer  2000  Summer          Sydney            Boxing   \n",
       "3      CHN  2004 Summer  2004  Summer          Athina         Wrestling   \n",
       "4      CHN  2016 Summer  2016  Summer  Rio de Janeiro          Swimming   \n",
       "...    ...          ...   ...     ...             ...               ...   \n",
       "65482  MHL  2016 Summer  2016  Summer  Rio de Janeiro         Athletics   \n",
       "65483  MHL  2008 Summer  2008  Summer         Beijing         Athletics   \n",
       "65484  KIR  2012 Summer  2012  Summer          London         Athletics   \n",
       "65485  UNK  1912 Summer  1912  Summer       Stockholm  Art Competitions   \n",
       "65486  TUV  2008 Summer  2008  Summer         Beijing     Weightlifting   \n",
       "\n",
       "                                          Event     Medal            region  \\\n",
       "0                   Basketball Men's Basketball  No Medal             China   \n",
       "1                  Judo Men's Extra-Lightweight  No Medal             China   \n",
       "2                     Boxing Men's Middleweight  No Medal             China   \n",
       "3      Wrestling Men's Lightweight, Greco-Roman  No Medal             China   \n",
       "4         Swimming Women's 200 metres Freestyle  No Medal             China   \n",
       "...                                         ...       ...               ...   \n",
       "65482              Athletics Women's 100 metres  No Medal  Marshall Islands   \n",
       "65483                Athletics Men's 100 metres  No Medal  Marshall Islands   \n",
       "65484              Athletics Women's 100 metres  No Medal          Kiribati   \n",
       "65485       Art Competitions Mixed Architecture  No Medal               NaN   \n",
       "65486           Weightlifting Men's Lightweight  No Medal               NaN   \n",
       "\n",
       "         notes  \n",
       "0          NaN  \n",
       "1          NaN  \n",
       "2          NaN  \n",
       "3          NaN  \n",
       "4          NaN  \n",
       "...        ...  \n",
       "65482      NaN  \n",
       "65483      NaN  \n",
       "65484      NaN  \n",
       "65485  Unknown  \n",
       "65486   Tuvalu  \n",
       "\n",
       "[65487 rows x 17 columns]"
      ]
     },
     "execution_count": 5,
     "metadata": {},
     "output_type": "execute_result"
    }
   ],
   "source": [
    "ath_df"
   ]
  },
  {
   "cell_type": "markdown",
   "id": "baea40c8",
   "metadata": {},
   "source": [
    "# Data Cleaning"
   ]
  },
  {
   "cell_type": "markdown",
   "id": "8f777ea6",
   "metadata": {},
   "source": [
    "# Column Names"
   ]
  },
  {
   "cell_type": "code",
   "execution_count": 6,
   "id": "f993e558",
   "metadata": {},
   "outputs": [
    {
     "data": {
      "text/plain": [
       "Index(['ID', 'Name', 'Sex', 'Age', 'Height', 'Weight', 'Team', 'NOC', 'Games',\n",
       "       'Year', 'Season', 'City', 'Sport', 'Event', 'Medal', 'region', 'notes'],\n",
       "      dtype='object')"
      ]
     },
     "execution_count": 6,
     "metadata": {},
     "output_type": "execute_result"
    }
   ],
   "source": [
    "ath_df.columns"
   ]
  },
  {
   "cell_type": "markdown",
   "id": "05fef1a3",
   "metadata": {},
   "source": [
    "# Checking Unique Values"
   ]
  },
  {
   "cell_type": "code",
   "execution_count": 7,
   "id": "e3baf100",
   "metadata": {},
   "outputs": [
    {
     "data": {
      "text/plain": [
       "ID        33510\n",
       "Name      33417\n",
       "Sex           2\n",
       "Age          68\n",
       "Height       85\n",
       "Weight      171\n",
       "Team        795\n",
       "NOC         225\n",
       "Games        51\n",
       "Year         35\n",
       "Season        2\n",
       "City         42\n",
       "Sport        65\n",
       "Event       742\n",
       "Medal         4\n",
       "region      202\n",
       "notes        20\n",
       "dtype: int64"
      ]
     },
     "execution_count": 7,
     "metadata": {},
     "output_type": "execute_result"
    }
   ],
   "source": [
    "ath_df.nunique()"
   ]
  },
  {
   "cell_type": "markdown",
   "id": "7b355f77",
   "metadata": {},
   "source": [
    "# Top 5 Rows"
   ]
  },
  {
   "cell_type": "code",
   "execution_count": 8,
   "id": "3cebae90",
   "metadata": {},
   "outputs": [
    {
     "data": {
      "text/html": [
       "<div>\n",
       "<style scoped>\n",
       "    .dataframe tbody tr th:only-of-type {\n",
       "        vertical-align: middle;\n",
       "    }\n",
       "\n",
       "    .dataframe tbody tr th {\n",
       "        vertical-align: top;\n",
       "    }\n",
       "\n",
       "    .dataframe thead th {\n",
       "        text-align: right;\n",
       "    }\n",
       "</style>\n",
       "<table border=\"1\" class=\"dataframe\">\n",
       "  <thead>\n",
       "    <tr style=\"text-align: right;\">\n",
       "      <th></th>\n",
       "      <th>ID</th>\n",
       "      <th>Name</th>\n",
       "      <th>Sex</th>\n",
       "      <th>Age</th>\n",
       "      <th>Height</th>\n",
       "      <th>Weight</th>\n",
       "      <th>Team</th>\n",
       "      <th>NOC</th>\n",
       "      <th>Games</th>\n",
       "      <th>Year</th>\n",
       "      <th>Season</th>\n",
       "      <th>City</th>\n",
       "      <th>Sport</th>\n",
       "      <th>Event</th>\n",
       "      <th>Medal</th>\n",
       "      <th>region</th>\n",
       "      <th>notes</th>\n",
       "    </tr>\n",
       "  </thead>\n",
       "  <tbody>\n",
       "    <tr>\n",
       "      <th>0</th>\n",
       "      <td>1</td>\n",
       "      <td>A Dijiang</td>\n",
       "      <td>M</td>\n",
       "      <td>24.0</td>\n",
       "      <td>180.0</td>\n",
       "      <td>80.0</td>\n",
       "      <td>China</td>\n",
       "      <td>CHN</td>\n",
       "      <td>1992 Summer</td>\n",
       "      <td>1992</td>\n",
       "      <td>Summer</td>\n",
       "      <td>Barcelona</td>\n",
       "      <td>Basketball</td>\n",
       "      <td>Basketball Men's Basketball</td>\n",
       "      <td>No Medal</td>\n",
       "      <td>China</td>\n",
       "      <td>NaN</td>\n",
       "    </tr>\n",
       "    <tr>\n",
       "      <th>1</th>\n",
       "      <td>2</td>\n",
       "      <td>A Lamusi</td>\n",
       "      <td>M</td>\n",
       "      <td>23.0</td>\n",
       "      <td>170.0</td>\n",
       "      <td>60.0</td>\n",
       "      <td>China</td>\n",
       "      <td>CHN</td>\n",
       "      <td>2012 Summer</td>\n",
       "      <td>2012</td>\n",
       "      <td>Summer</td>\n",
       "      <td>London</td>\n",
       "      <td>Judo</td>\n",
       "      <td>Judo Men's Extra-Lightweight</td>\n",
       "      <td>No Medal</td>\n",
       "      <td>China</td>\n",
       "      <td>NaN</td>\n",
       "    </tr>\n",
       "    <tr>\n",
       "      <th>2</th>\n",
       "      <td>602</td>\n",
       "      <td>Abudoureheman</td>\n",
       "      <td>M</td>\n",
       "      <td>22.0</td>\n",
       "      <td>182.0</td>\n",
       "      <td>75.0</td>\n",
       "      <td>China</td>\n",
       "      <td>CHN</td>\n",
       "      <td>2000 Summer</td>\n",
       "      <td>2000</td>\n",
       "      <td>Summer</td>\n",
       "      <td>Sydney</td>\n",
       "      <td>Boxing</td>\n",
       "      <td>Boxing Men's Middleweight</td>\n",
       "      <td>No Medal</td>\n",
       "      <td>China</td>\n",
       "      <td>NaN</td>\n",
       "    </tr>\n",
       "    <tr>\n",
       "      <th>3</th>\n",
       "      <td>1463</td>\n",
       "      <td>Ai Linuer</td>\n",
       "      <td>M</td>\n",
       "      <td>25.0</td>\n",
       "      <td>160.0</td>\n",
       "      <td>62.0</td>\n",
       "      <td>China</td>\n",
       "      <td>CHN</td>\n",
       "      <td>2004 Summer</td>\n",
       "      <td>2004</td>\n",
       "      <td>Summer</td>\n",
       "      <td>Athina</td>\n",
       "      <td>Wrestling</td>\n",
       "      <td>Wrestling Men's Lightweight, Greco-Roman</td>\n",
       "      <td>No Medal</td>\n",
       "      <td>China</td>\n",
       "      <td>NaN</td>\n",
       "    </tr>\n",
       "    <tr>\n",
       "      <th>4</th>\n",
       "      <td>1464</td>\n",
       "      <td>Ai Yanhan</td>\n",
       "      <td>F</td>\n",
       "      <td>14.0</td>\n",
       "      <td>168.0</td>\n",
       "      <td>54.0</td>\n",
       "      <td>China</td>\n",
       "      <td>CHN</td>\n",
       "      <td>2016 Summer</td>\n",
       "      <td>2016</td>\n",
       "      <td>Summer</td>\n",
       "      <td>Rio de Janeiro</td>\n",
       "      <td>Swimming</td>\n",
       "      <td>Swimming Women's 200 metres Freestyle</td>\n",
       "      <td>No Medal</td>\n",
       "      <td>China</td>\n",
       "      <td>NaN</td>\n",
       "    </tr>\n",
       "  </tbody>\n",
       "</table>\n",
       "</div>"
      ],
      "text/plain": [
       "     ID           Name Sex   Age  Height  Weight   Team  NOC        Games  \\\n",
       "0     1      A Dijiang   M  24.0   180.0    80.0  China  CHN  1992 Summer   \n",
       "1     2       A Lamusi   M  23.0   170.0    60.0  China  CHN  2012 Summer   \n",
       "2   602  Abudoureheman   M  22.0   182.0    75.0  China  CHN  2000 Summer   \n",
       "3  1463      Ai Linuer   M  25.0   160.0    62.0  China  CHN  2004 Summer   \n",
       "4  1464      Ai Yanhan   F  14.0   168.0    54.0  China  CHN  2016 Summer   \n",
       "\n",
       "   Year  Season            City       Sport  \\\n",
       "0  1992  Summer       Barcelona  Basketball   \n",
       "1  2012  Summer          London        Judo   \n",
       "2  2000  Summer          Sydney      Boxing   \n",
       "3  2004  Summer          Athina   Wrestling   \n",
       "4  2016  Summer  Rio de Janeiro    Swimming   \n",
       "\n",
       "                                      Event     Medal region notes  \n",
       "0               Basketball Men's Basketball  No Medal  China   NaN  \n",
       "1              Judo Men's Extra-Lightweight  No Medal  China   NaN  \n",
       "2                 Boxing Men's Middleweight  No Medal  China   NaN  \n",
       "3  Wrestling Men's Lightweight, Greco-Roman  No Medal  China   NaN  \n",
       "4     Swimming Women's 200 metres Freestyle  No Medal  China   NaN  "
      ]
     },
     "execution_count": 8,
     "metadata": {},
     "output_type": "execute_result"
    }
   ],
   "source": [
    "ath_df.head(5)"
   ]
  },
  {
   "cell_type": "markdown",
   "id": "a9b10dc8",
   "metadata": {},
   "source": [
    "# Bottom 5 Rows"
   ]
  },
  {
   "cell_type": "code",
   "execution_count": 9,
   "id": "564cb9ff",
   "metadata": {},
   "outputs": [
    {
     "data": {
      "text/html": [
       "<div>\n",
       "<style scoped>\n",
       "    .dataframe tbody tr th:only-of-type {\n",
       "        vertical-align: middle;\n",
       "    }\n",
       "\n",
       "    .dataframe tbody tr th {\n",
       "        vertical-align: top;\n",
       "    }\n",
       "\n",
       "    .dataframe thead th {\n",
       "        text-align: right;\n",
       "    }\n",
       "</style>\n",
       "<table border=\"1\" class=\"dataframe\">\n",
       "  <thead>\n",
       "    <tr style=\"text-align: right;\">\n",
       "      <th></th>\n",
       "      <th>ID</th>\n",
       "      <th>Name</th>\n",
       "      <th>Sex</th>\n",
       "      <th>Age</th>\n",
       "      <th>Height</th>\n",
       "      <th>Weight</th>\n",
       "      <th>Team</th>\n",
       "      <th>NOC</th>\n",
       "      <th>Games</th>\n",
       "      <th>Year</th>\n",
       "      <th>Season</th>\n",
       "      <th>City</th>\n",
       "      <th>Sport</th>\n",
       "      <th>Event</th>\n",
       "      <th>Medal</th>\n",
       "      <th>region</th>\n",
       "      <th>notes</th>\n",
       "    </tr>\n",
       "  </thead>\n",
       "  <tbody>\n",
       "    <tr>\n",
       "      <th>65482</th>\n",
       "      <td>23772</td>\n",
       "      <td>Mariana Cress</td>\n",
       "      <td>F</td>\n",
       "      <td>17.0</td>\n",
       "      <td>159.0</td>\n",
       "      <td>52.0</td>\n",
       "      <td>Marshall Islands</td>\n",
       "      <td>MHL</td>\n",
       "      <td>2016 Summer</td>\n",
       "      <td>2016</td>\n",
       "      <td>Summer</td>\n",
       "      <td>Rio de Janeiro</td>\n",
       "      <td>Athletics</td>\n",
       "      <td>Athletics Women's 100 metres</td>\n",
       "      <td>No Medal</td>\n",
       "      <td>Marshall Islands</td>\n",
       "      <td>NaN</td>\n",
       "    </tr>\n",
       "    <tr>\n",
       "      <th>65483</th>\n",
       "      <td>23773</td>\n",
       "      <td>Roman William Cress</td>\n",
       "      <td>M</td>\n",
       "      <td>31.0</td>\n",
       "      <td>NaN</td>\n",
       "      <td>NaN</td>\n",
       "      <td>Marshall Islands</td>\n",
       "      <td>MHL</td>\n",
       "      <td>2008 Summer</td>\n",
       "      <td>2008</td>\n",
       "      <td>Summer</td>\n",
       "      <td>Beijing</td>\n",
       "      <td>Athletics</td>\n",
       "      <td>Athletics Men's 100 metres</td>\n",
       "      <td>No Medal</td>\n",
       "      <td>Marshall Islands</td>\n",
       "      <td>NaN</td>\n",
       "    </tr>\n",
       "    <tr>\n",
       "      <th>65484</th>\n",
       "      <td>25568</td>\n",
       "      <td>Kaingaue David</td>\n",
       "      <td>F</td>\n",
       "      <td>17.0</td>\n",
       "      <td>167.0</td>\n",
       "      <td>67.0</td>\n",
       "      <td>Kiribati</td>\n",
       "      <td>KIR</td>\n",
       "      <td>2012 Summer</td>\n",
       "      <td>2012</td>\n",
       "      <td>Summer</td>\n",
       "      <td>London</td>\n",
       "      <td>Athletics</td>\n",
       "      <td>Athletics Women's 100 metres</td>\n",
       "      <td>No Medal</td>\n",
       "      <td>Kiribati</td>\n",
       "      <td>NaN</td>\n",
       "    </tr>\n",
       "    <tr>\n",
       "      <th>65485</th>\n",
       "      <td>31292</td>\n",
       "      <td>Fritz Eccard</td>\n",
       "      <td>M</td>\n",
       "      <td>NaN</td>\n",
       "      <td>NaN</td>\n",
       "      <td>NaN</td>\n",
       "      <td>Unknown</td>\n",
       "      <td>UNK</td>\n",
       "      <td>1912 Summer</td>\n",
       "      <td>1912</td>\n",
       "      <td>Summer</td>\n",
       "      <td>Stockholm</td>\n",
       "      <td>Art Competitions</td>\n",
       "      <td>Art Competitions Mixed Architecture</td>\n",
       "      <td>No Medal</td>\n",
       "      <td>NaN</td>\n",
       "      <td>Unknown</td>\n",
       "    </tr>\n",
       "    <tr>\n",
       "      <th>65486</th>\n",
       "      <td>33094</td>\n",
       "      <td>Logona Esau</td>\n",
       "      <td>M</td>\n",
       "      <td>21.0</td>\n",
       "      <td>163.0</td>\n",
       "      <td>69.0</td>\n",
       "      <td>Tuvalu</td>\n",
       "      <td>TUV</td>\n",
       "      <td>2008 Summer</td>\n",
       "      <td>2008</td>\n",
       "      <td>Summer</td>\n",
       "      <td>Beijing</td>\n",
       "      <td>Weightlifting</td>\n",
       "      <td>Weightlifting Men's Lightweight</td>\n",
       "      <td>No Medal</td>\n",
       "      <td>NaN</td>\n",
       "      <td>Tuvalu</td>\n",
       "    </tr>\n",
       "  </tbody>\n",
       "</table>\n",
       "</div>"
      ],
      "text/plain": [
       "          ID                 Name Sex   Age  Height  Weight              Team  \\\n",
       "65482  23772        Mariana Cress   F  17.0   159.0    52.0  Marshall Islands   \n",
       "65483  23773  Roman William Cress   M  31.0     NaN     NaN  Marshall Islands   \n",
       "65484  25568       Kaingaue David   F  17.0   167.0    67.0          Kiribati   \n",
       "65485  31292         Fritz Eccard   M   NaN     NaN     NaN           Unknown   \n",
       "65486  33094          Logona Esau   M  21.0   163.0    69.0            Tuvalu   \n",
       "\n",
       "       NOC        Games  Year  Season            City             Sport  \\\n",
       "65482  MHL  2016 Summer  2016  Summer  Rio de Janeiro         Athletics   \n",
       "65483  MHL  2008 Summer  2008  Summer         Beijing         Athletics   \n",
       "65484  KIR  2012 Summer  2012  Summer          London         Athletics   \n",
       "65485  UNK  1912 Summer  1912  Summer       Stockholm  Art Competitions   \n",
       "65486  TUV  2008 Summer  2008  Summer         Beijing     Weightlifting   \n",
       "\n",
       "                                     Event     Medal            region  \\\n",
       "65482         Athletics Women's 100 metres  No Medal  Marshall Islands   \n",
       "65483           Athletics Men's 100 metres  No Medal  Marshall Islands   \n",
       "65484         Athletics Women's 100 metres  No Medal          Kiribati   \n",
       "65485  Art Competitions Mixed Architecture  No Medal               NaN   \n",
       "65486      Weightlifting Men's Lightweight  No Medal               NaN   \n",
       "\n",
       "         notes  \n",
       "65482      NaN  \n",
       "65483      NaN  \n",
       "65484      NaN  \n",
       "65485  Unknown  \n",
       "65486   Tuvalu  "
      ]
     },
     "execution_count": 9,
     "metadata": {},
     "output_type": "execute_result"
    }
   ],
   "source": [
    "ath_df.tail(5)"
   ]
  },
  {
   "cell_type": "markdown",
   "id": "e127ead1",
   "metadata": {},
   "source": [
    "# Shape of Dataset"
   ]
  },
  {
   "cell_type": "code",
   "execution_count": 10,
   "id": "cccc59d0",
   "metadata": {},
   "outputs": [
    {
     "data": {
      "text/plain": [
       "(65487, 17)"
      ]
     },
     "execution_count": 10,
     "metadata": {},
     "output_type": "execute_result"
    }
   ],
   "source": [
    "ath_df.shape"
   ]
  },
  {
   "cell_type": "markdown",
   "id": "0fc55b49",
   "metadata": {},
   "source": [
    "# Rename columns"
   ]
  },
  {
   "cell_type": "code",
   "execution_count": 11,
   "id": "89b03845",
   "metadata": {},
   "outputs": [],
   "source": [
    "ath_df.rename(columns={'region':'Region' , 'notes':'Notes'},inplace=True)"
   ]
  },
  {
   "cell_type": "markdown",
   "id": "1894d849",
   "metadata": {},
   "source": [
    "# Information about data"
   ]
  },
  {
   "cell_type": "code",
   "execution_count": 12,
   "id": "7acf5592",
   "metadata": {},
   "outputs": [
    {
     "name": "stdout",
     "output_type": "stream",
     "text": [
      "<class 'pandas.core.frame.DataFrame'>\n",
      "Int64Index: 65487 entries, 0 to 65486\n",
      "Data columns (total 17 columns):\n",
      " #   Column  Non-Null Count  Dtype  \n",
      "---  ------  --------------  -----  \n",
      " 0   ID      65487 non-null  int64  \n",
      " 1   Name    65487 non-null  object \n",
      " 2   Sex     65487 non-null  object \n",
      " 3   Age     62941 non-null  float64\n",
      " 4   Height  50212 non-null  float64\n",
      " 5   Weight  49421 non-null  float64\n",
      " 6   Team    65487 non-null  object \n",
      " 7   NOC     65487 non-null  object \n",
      " 8   Games   65487 non-null  object \n",
      " 9   Year    65487 non-null  int64  \n",
      " 10  Season  65487 non-null  object \n",
      " 11  City    65487 non-null  object \n",
      " 12  Sport   65487 non-null  object \n",
      " 13  Event   65487 non-null  object \n",
      " 14  Medal   65487 non-null  object \n",
      " 15  Region  65479 non-null  object \n",
      " 16  Notes   1191 non-null   object \n",
      "dtypes: float64(3), int64(2), object(12)\n",
      "memory usage: 9.0+ MB\n"
     ]
    }
   ],
   "source": [
    "ath_df.info()"
   ]
  },
  {
   "cell_type": "markdown",
   "id": "0d28f4fb",
   "metadata": {},
   "source": [
    "# Statistical Information"
   ]
  },
  {
   "cell_type": "code",
   "execution_count": 13,
   "id": "c0be2b8c",
   "metadata": {},
   "outputs": [
    {
     "data": {
      "text/html": [
       "<div>\n",
       "<style scoped>\n",
       "    .dataframe tbody tr th:only-of-type {\n",
       "        vertical-align: middle;\n",
       "    }\n",
       "\n",
       "    .dataframe tbody tr th {\n",
       "        vertical-align: top;\n",
       "    }\n",
       "\n",
       "    .dataframe thead th {\n",
       "        text-align: right;\n",
       "    }\n",
       "</style>\n",
       "<table border=\"1\" class=\"dataframe\">\n",
       "  <thead>\n",
       "    <tr style=\"text-align: right;\">\n",
       "      <th></th>\n",
       "      <th>ID</th>\n",
       "      <th>Age</th>\n",
       "      <th>Height</th>\n",
       "      <th>Weight</th>\n",
       "      <th>Year</th>\n",
       "    </tr>\n",
       "  </thead>\n",
       "  <tbody>\n",
       "    <tr>\n",
       "      <th>count</th>\n",
       "      <td>65487.000000</td>\n",
       "      <td>62941.000000</td>\n",
       "      <td>50212.000000</td>\n",
       "      <td>49421.000000</td>\n",
       "      <td>65487.000000</td>\n",
       "    </tr>\n",
       "    <tr>\n",
       "      <th>mean</th>\n",
       "      <td>16955.900209</td>\n",
       "      <td>25.644206</td>\n",
       "      <td>175.512387</td>\n",
       "      <td>70.914136</td>\n",
       "      <td>1977.715791</td>\n",
       "    </tr>\n",
       "    <tr>\n",
       "      <th>std</th>\n",
       "      <td>9591.980854</td>\n",
       "      <td>6.487744</td>\n",
       "      <td>10.381617</td>\n",
       "      <td>14.235204</td>\n",
       "      <td>30.153737</td>\n",
       "    </tr>\n",
       "    <tr>\n",
       "      <th>min</th>\n",
       "      <td>1.000000</td>\n",
       "      <td>11.000000</td>\n",
       "      <td>127.000000</td>\n",
       "      <td>25.000000</td>\n",
       "      <td>1896.000000</td>\n",
       "    </tr>\n",
       "    <tr>\n",
       "      <th>25%</th>\n",
       "      <td>8797.500000</td>\n",
       "      <td>21.000000</td>\n",
       "      <td>168.000000</td>\n",
       "      <td>61.000000</td>\n",
       "      <td>1960.000000</td>\n",
       "    </tr>\n",
       "    <tr>\n",
       "      <th>50%</th>\n",
       "      <td>16846.000000</td>\n",
       "      <td>25.000000</td>\n",
       "      <td>175.000000</td>\n",
       "      <td>70.000000</td>\n",
       "      <td>1984.000000</td>\n",
       "    </tr>\n",
       "    <tr>\n",
       "      <th>75%</th>\n",
       "      <td>25315.500000</td>\n",
       "      <td>28.000000</td>\n",
       "      <td>183.000000</td>\n",
       "      <td>79.000000</td>\n",
       "      <td>2002.000000</td>\n",
       "    </tr>\n",
       "    <tr>\n",
       "      <th>max</th>\n",
       "      <td>33538.000000</td>\n",
       "      <td>88.000000</td>\n",
       "      <td>223.000000</td>\n",
       "      <td>214.000000</td>\n",
       "      <td>2016.000000</td>\n",
       "    </tr>\n",
       "  </tbody>\n",
       "</table>\n",
       "</div>"
      ],
      "text/plain": [
       "                 ID           Age        Height        Weight          Year\n",
       "count  65487.000000  62941.000000  50212.000000  49421.000000  65487.000000\n",
       "mean   16955.900209     25.644206    175.512387     70.914136   1977.715791\n",
       "std     9591.980854      6.487744     10.381617     14.235204     30.153737\n",
       "min        1.000000     11.000000    127.000000     25.000000   1896.000000\n",
       "25%     8797.500000     21.000000    168.000000     61.000000   1960.000000\n",
       "50%    16846.000000     25.000000    175.000000     70.000000   1984.000000\n",
       "75%    25315.500000     28.000000    183.000000     79.000000   2002.000000\n",
       "max    33538.000000     88.000000    223.000000    214.000000   2016.000000"
      ]
     },
     "execution_count": 13,
     "metadata": {},
     "output_type": "execute_result"
    }
   ],
   "source": [
    "ath_df.describe()"
   ]
  },
  {
   "cell_type": "markdown",
   "id": "0370cd94",
   "metadata": {},
   "source": [
    "# Datatypes"
   ]
  },
  {
   "cell_type": "code",
   "execution_count": 14,
   "id": "3bc2b0ac",
   "metadata": {},
   "outputs": [
    {
     "data": {
      "text/plain": [
       "ID          int64\n",
       "Name       object\n",
       "Sex        object\n",
       "Age       float64\n",
       "Height    float64\n",
       "Weight    float64\n",
       "Team       object\n",
       "NOC        object\n",
       "Games      object\n",
       "Year        int64\n",
       "Season     object\n",
       "City       object\n",
       "Sport      object\n",
       "Event      object\n",
       "Medal      object\n",
       "Region     object\n",
       "Notes      object\n",
       "dtype: object"
      ]
     },
     "execution_count": 14,
     "metadata": {},
     "output_type": "execute_result"
    }
   ],
   "source": [
    "ath_df.dtypes"
   ]
  },
  {
   "cell_type": "markdown",
   "id": "99ab0231",
   "metadata": {},
   "source": [
    "# Droping Column"
   ]
  },
  {
   "cell_type": "code",
   "execution_count": 15,
   "id": "54ee46af",
   "metadata": {},
   "outputs": [],
   "source": [
    "ath_df.drop(['Notes'],axis=1,inplace=True)"
   ]
  },
  {
   "cell_type": "markdown",
   "id": "51420762",
   "metadata": {},
   "source": [
    "# Checking null values"
   ]
  },
  {
   "cell_type": "code",
   "execution_count": 16,
   "id": "ccb69714",
   "metadata": {},
   "outputs": [
    {
     "data": {
      "text/plain": [
       "ID            0\n",
       "Name          0\n",
       "Sex           0\n",
       "Age        2546\n",
       "Height    15275\n",
       "Weight    16066\n",
       "Team          0\n",
       "NOC           0\n",
       "Games         0\n",
       "Year          0\n",
       "Season        0\n",
       "City          0\n",
       "Sport         0\n",
       "Event         0\n",
       "Medal         0\n",
       "Region        8\n",
       "dtype: int64"
      ]
     },
     "execution_count": 16,
     "metadata": {},
     "output_type": "execute_result"
    }
   ],
   "source": [
    "ath_df.isna().sum()"
   ]
  },
  {
   "cell_type": "markdown",
   "id": "d03c3484",
   "metadata": {},
   "source": [
    "# Filling null value"
   ]
  },
  {
   "cell_type": "code",
   "execution_count": 17,
   "id": "bafbc524",
   "metadata": {},
   "outputs": [],
   "source": [
    "ath_df['Age'].fillna('0',inplace=True)\n",
    "ath_df['Height'].fillna('0',inplace=True)\n",
    "ath_df['Weight'].fillna('0',inplace=True)\n",
    "ath_df['Medal'].fillna('No Medal',inplace=True)\n",
    "ath_df['Region'].fillna('No region',inplace=True)"
   ]
  },
  {
   "cell_type": "code",
   "execution_count": 18,
   "id": "671a6938",
   "metadata": {},
   "outputs": [
    {
     "data": {
      "text/plain": [
       "ID        0\n",
       "Name      0\n",
       "Sex       0\n",
       "Age       0\n",
       "Height    0\n",
       "Weight    0\n",
       "Team      0\n",
       "NOC       0\n",
       "Games     0\n",
       "Year      0\n",
       "Season    0\n",
       "City      0\n",
       "Sport     0\n",
       "Event     0\n",
       "Medal     0\n",
       "Region    0\n",
       "dtype: int64"
      ]
     },
     "execution_count": 18,
     "metadata": {},
     "output_type": "execute_result"
    }
   ],
   "source": [
    "ath_df.isna().sum()"
   ]
  },
  {
   "cell_type": "markdown",
   "id": "cfab62e4",
   "metadata": {},
   "source": [
    "# Exploratory Data Analysis"
   ]
  },
  {
   "cell_type": "markdown",
   "id": "c19a5c7f",
   "metadata": {},
   "source": [
    "Exploratory Data Analysis (EDA) is an approach to analyze the data using visual techniques."
   ]
  },
  {
   "cell_type": "markdown",
   "id": "2636835e",
   "metadata": {},
   "source": [
    "# athlets participated from India in olympics"
   ]
  },
  {
   "cell_type": "code",
   "execution_count": 19,
   "id": "314e987b",
   "metadata": {},
   "outputs": [
    {
     "data": {
      "text/html": [
       "<div>\n",
       "<style scoped>\n",
       "    .dataframe tbody tr th:only-of-type {\n",
       "        vertical-align: middle;\n",
       "    }\n",
       "\n",
       "    .dataframe tbody tr th {\n",
       "        vertical-align: top;\n",
       "    }\n",
       "\n",
       "    .dataframe thead th {\n",
       "        text-align: right;\n",
       "    }\n",
       "</style>\n",
       "<table border=\"1\" class=\"dataframe\">\n",
       "  <thead>\n",
       "    <tr style=\"text-align: right;\">\n",
       "      <th></th>\n",
       "      <th>ID</th>\n",
       "      <th>Name</th>\n",
       "      <th>Sex</th>\n",
       "      <th>Age</th>\n",
       "      <th>Height</th>\n",
       "      <th>Weight</th>\n",
       "      <th>Team</th>\n",
       "      <th>NOC</th>\n",
       "      <th>Games</th>\n",
       "      <th>Year</th>\n",
       "      <th>Season</th>\n",
       "      <th>City</th>\n",
       "      <th>Sport</th>\n",
       "      <th>Event</th>\n",
       "      <th>Medal</th>\n",
       "      <th>Region</th>\n",
       "    </tr>\n",
       "  </thead>\n",
       "  <tbody>\n",
       "    <tr>\n",
       "      <th>41167</th>\n",
       "      <td>281</td>\n",
       "      <td>S. Abdul Hamid</td>\n",
       "      <td>M</td>\n",
       "      <td>0</td>\n",
       "      <td>0</td>\n",
       "      <td>0</td>\n",
       "      <td>India</td>\n",
       "      <td>IND</td>\n",
       "      <td>1928 Summer</td>\n",
       "      <td>1928</td>\n",
       "      <td>Summer</td>\n",
       "      <td>Amsterdam</td>\n",
       "      <td>Athletics</td>\n",
       "      <td>Athletics Men's 110 metres Hurdles</td>\n",
       "      <td>No Medal</td>\n",
       "      <td>India</td>\n",
       "    </tr>\n",
       "    <tr>\n",
       "      <th>41168</th>\n",
       "      <td>281</td>\n",
       "      <td>S. Abdul Hamid</td>\n",
       "      <td>M</td>\n",
       "      <td>0</td>\n",
       "      <td>0</td>\n",
       "      <td>0</td>\n",
       "      <td>India</td>\n",
       "      <td>IND</td>\n",
       "      <td>1928 Summer</td>\n",
       "      <td>1928</td>\n",
       "      <td>Summer</td>\n",
       "      <td>Amsterdam</td>\n",
       "      <td>Athletics</td>\n",
       "      <td>Athletics Men's 400 metres Hurdles</td>\n",
       "      <td>No Medal</td>\n",
       "      <td>India</td>\n",
       "    </tr>\n",
       "    <tr>\n",
       "      <th>41169</th>\n",
       "      <td>512</td>\n",
       "      <td>Shiny Kurisingal Abraham-Wilson</td>\n",
       "      <td>F</td>\n",
       "      <td>19.0</td>\n",
       "      <td>167.0</td>\n",
       "      <td>53.0</td>\n",
       "      <td>India</td>\n",
       "      <td>IND</td>\n",
       "      <td>1984 Summer</td>\n",
       "      <td>1984</td>\n",
       "      <td>Summer</td>\n",
       "      <td>Los Angeles</td>\n",
       "      <td>Athletics</td>\n",
       "      <td>Athletics Women's 800 metres</td>\n",
       "      <td>No Medal</td>\n",
       "      <td>India</td>\n",
       "    </tr>\n",
       "    <tr>\n",
       "      <th>41170</th>\n",
       "      <td>512</td>\n",
       "      <td>Shiny Kurisingal Abraham-Wilson</td>\n",
       "      <td>F</td>\n",
       "      <td>19.0</td>\n",
       "      <td>167.0</td>\n",
       "      <td>53.0</td>\n",
       "      <td>India</td>\n",
       "      <td>IND</td>\n",
       "      <td>1984 Summer</td>\n",
       "      <td>1984</td>\n",
       "      <td>Summer</td>\n",
       "      <td>Los Angeles</td>\n",
       "      <td>Athletics</td>\n",
       "      <td>Athletics Women's 4 x 400 metres Relay</td>\n",
       "      <td>No Medal</td>\n",
       "      <td>India</td>\n",
       "    </tr>\n",
       "    <tr>\n",
       "      <th>41171</th>\n",
       "      <td>512</td>\n",
       "      <td>Shiny Kurisingal Abraham-Wilson</td>\n",
       "      <td>F</td>\n",
       "      <td>23.0</td>\n",
       "      <td>167.0</td>\n",
       "      <td>53.0</td>\n",
       "      <td>India</td>\n",
       "      <td>IND</td>\n",
       "      <td>1988 Summer</td>\n",
       "      <td>1988</td>\n",
       "      <td>Summer</td>\n",
       "      <td>Seoul</td>\n",
       "      <td>Athletics</td>\n",
       "      <td>Athletics Women's 800 metres</td>\n",
       "      <td>No Medal</td>\n",
       "      <td>India</td>\n",
       "    </tr>\n",
       "    <tr>\n",
       "      <th>...</th>\n",
       "      <td>...</td>\n",
       "      <td>...</td>\n",
       "      <td>...</td>\n",
       "      <td>...</td>\n",
       "      <td>...</td>\n",
       "      <td>...</td>\n",
       "      <td>...</td>\n",
       "      <td>...</td>\n",
       "      <td>...</td>\n",
       "      <td>...</td>\n",
       "      <td>...</td>\n",
       "      <td>...</td>\n",
       "      <td>...</td>\n",
       "      <td>...</td>\n",
       "      <td>...</td>\n",
       "      <td>...</td>\n",
       "    </tr>\n",
       "    <tr>\n",
       "      <th>41453</th>\n",
       "      <td>31804</td>\n",
       "      <td>Karunagaran Ekambaram</td>\n",
       "      <td>M</td>\n",
       "      <td>26.0</td>\n",
       "      <td>164.0</td>\n",
       "      <td>52.0</td>\n",
       "      <td>India</td>\n",
       "      <td>IND</td>\n",
       "      <td>1980 Summer</td>\n",
       "      <td>1980</td>\n",
       "      <td>Summer</td>\n",
       "      <td>Moskva</td>\n",
       "      <td>Weightlifting</td>\n",
       "      <td>Weightlifting Men's Flyweight</td>\n",
       "      <td>No Medal</td>\n",
       "      <td>India</td>\n",
       "    </tr>\n",
       "    <tr>\n",
       "      <th>41454</th>\n",
       "      <td>31835</td>\n",
       "      <td>Deep Grace Ekka</td>\n",
       "      <td>F</td>\n",
       "      <td>22.0</td>\n",
       "      <td>158.0</td>\n",
       "      <td>63.0</td>\n",
       "      <td>India</td>\n",
       "      <td>IND</td>\n",
       "      <td>2016 Summer</td>\n",
       "      <td>2016</td>\n",
       "      <td>Summer</td>\n",
       "      <td>Rio de Janeiro</td>\n",
       "      <td>Hockey</td>\n",
       "      <td>Hockey Women's Hockey</td>\n",
       "      <td>No Medal</td>\n",
       "      <td>India</td>\n",
       "    </tr>\n",
       "    <tr>\n",
       "      <th>41455</th>\n",
       "      <td>32514</td>\n",
       "      <td>Lionel Charles Renwick Emmett</td>\n",
       "      <td>M</td>\n",
       "      <td>23.0</td>\n",
       "      <td>0</td>\n",
       "      <td>0</td>\n",
       "      <td>India</td>\n",
       "      <td>IND</td>\n",
       "      <td>1936 Summer</td>\n",
       "      <td>1936</td>\n",
       "      <td>Summer</td>\n",
       "      <td>Berlin</td>\n",
       "      <td>Hockey</td>\n",
       "      <td>Hockey Men's Hockey</td>\n",
       "      <td>Gold</td>\n",
       "      <td>India</td>\n",
       "    </tr>\n",
       "    <tr>\n",
       "      <th>41456</th>\n",
       "      <td>33340</td>\n",
       "      <td>Kamineni Eswara Rao</td>\n",
       "      <td>M</td>\n",
       "      <td>33.0</td>\n",
       "      <td>0</td>\n",
       "      <td>88.5</td>\n",
       "      <td>India</td>\n",
       "      <td>IND</td>\n",
       "      <td>1952 Summer</td>\n",
       "      <td>1952</td>\n",
       "      <td>Summer</td>\n",
       "      <td>Helsinki</td>\n",
       "      <td>Weightlifting</td>\n",
       "      <td>Weightlifting Men's Middle-Heavyweight</td>\n",
       "      <td>No Medal</td>\n",
       "      <td>India</td>\n",
       "    </tr>\n",
       "    <tr>\n",
       "      <th>41457</th>\n",
       "      <td>33340</td>\n",
       "      <td>Kamineni Eswara Rao</td>\n",
       "      <td>M</td>\n",
       "      <td>38.0</td>\n",
       "      <td>0</td>\n",
       "      <td>88.5</td>\n",
       "      <td>India</td>\n",
       "      <td>IND</td>\n",
       "      <td>1956 Summer</td>\n",
       "      <td>1956</td>\n",
       "      <td>Summer</td>\n",
       "      <td>Melbourne</td>\n",
       "      <td>Weightlifting</td>\n",
       "      <td>Weightlifting Men's Middle-Heavyweight</td>\n",
       "      <td>No Medal</td>\n",
       "      <td>India</td>\n",
       "    </tr>\n",
       "  </tbody>\n",
       "</table>\n",
       "<p>289 rows × 16 columns</p>\n",
       "</div>"
      ],
      "text/plain": [
       "          ID                             Name Sex   Age Height Weight   Team  \\\n",
       "41167    281                   S. Abdul Hamid   M     0      0      0  India   \n",
       "41168    281                   S. Abdul Hamid   M     0      0      0  India   \n",
       "41169    512  Shiny Kurisingal Abraham-Wilson   F  19.0  167.0   53.0  India   \n",
       "41170    512  Shiny Kurisingal Abraham-Wilson   F  19.0  167.0   53.0  India   \n",
       "41171    512  Shiny Kurisingal Abraham-Wilson   F  23.0  167.0   53.0  India   \n",
       "...      ...                              ...  ..   ...    ...    ...    ...   \n",
       "41453  31804            Karunagaran Ekambaram   M  26.0  164.0   52.0  India   \n",
       "41454  31835                  Deep Grace Ekka   F  22.0  158.0   63.0  India   \n",
       "41455  32514    Lionel Charles Renwick Emmett   M  23.0      0      0  India   \n",
       "41456  33340              Kamineni Eswara Rao   M  33.0      0   88.5  India   \n",
       "41457  33340              Kamineni Eswara Rao   M  38.0      0   88.5  India   \n",
       "\n",
       "       NOC        Games  Year  Season            City          Sport  \\\n",
       "41167  IND  1928 Summer  1928  Summer       Amsterdam      Athletics   \n",
       "41168  IND  1928 Summer  1928  Summer       Amsterdam      Athletics   \n",
       "41169  IND  1984 Summer  1984  Summer     Los Angeles      Athletics   \n",
       "41170  IND  1984 Summer  1984  Summer     Los Angeles      Athletics   \n",
       "41171  IND  1988 Summer  1988  Summer           Seoul      Athletics   \n",
       "...    ...          ...   ...     ...             ...            ...   \n",
       "41453  IND  1980 Summer  1980  Summer          Moskva  Weightlifting   \n",
       "41454  IND  2016 Summer  2016  Summer  Rio de Janeiro         Hockey   \n",
       "41455  IND  1936 Summer  1936  Summer          Berlin         Hockey   \n",
       "41456  IND  1952 Summer  1952  Summer        Helsinki  Weightlifting   \n",
       "41457  IND  1956 Summer  1956  Summer       Melbourne  Weightlifting   \n",
       "\n",
       "                                        Event     Medal Region  \n",
       "41167      Athletics Men's 110 metres Hurdles  No Medal  India  \n",
       "41168      Athletics Men's 400 metres Hurdles  No Medal  India  \n",
       "41169            Athletics Women's 800 metres  No Medal  India  \n",
       "41170  Athletics Women's 4 x 400 metres Relay  No Medal  India  \n",
       "41171            Athletics Women's 800 metres  No Medal  India  \n",
       "...                                       ...       ...    ...  \n",
       "41453           Weightlifting Men's Flyweight  No Medal  India  \n",
       "41454                   Hockey Women's Hockey  No Medal  India  \n",
       "41455                     Hockey Men's Hockey      Gold  India  \n",
       "41456  Weightlifting Men's Middle-Heavyweight  No Medal  India  \n",
       "41457  Weightlifting Men's Middle-Heavyweight  No Medal  India  \n",
       "\n",
       "[289 rows x 16 columns]"
      ]
     },
     "execution_count": 19,
     "metadata": {},
     "output_type": "execute_result"
    }
   ],
   "source": [
    "ath_df.query('Team == \"India\"')"
   ]
  },
  {
   "cell_type": "markdown",
   "id": "230c0e5f",
   "metadata": {},
   "source": [
    "# athlets participated from Japan in olympics"
   ]
  },
  {
   "cell_type": "code",
   "execution_count": 20,
   "id": "8331b685",
   "metadata": {},
   "outputs": [
    {
     "data": {
      "text/html": [
       "<div>\n",
       "<style scoped>\n",
       "    .dataframe tbody tr th:only-of-type {\n",
       "        vertical-align: middle;\n",
       "    }\n",
       "\n",
       "    .dataframe tbody tr th {\n",
       "        vertical-align: top;\n",
       "    }\n",
       "\n",
       "    .dataframe thead th {\n",
       "        text-align: right;\n",
       "    }\n",
       "</style>\n",
       "<table border=\"1\" class=\"dataframe\">\n",
       "  <thead>\n",
       "    <tr style=\"text-align: right;\">\n",
       "      <th></th>\n",
       "      <th>ID</th>\n",
       "      <th>Name</th>\n",
       "      <th>Sex</th>\n",
       "      <th>Age</th>\n",
       "      <th>Height</th>\n",
       "      <th>Weight</th>\n",
       "      <th>Team</th>\n",
       "      <th>NOC</th>\n",
       "      <th>Games</th>\n",
       "      <th>Year</th>\n",
       "      <th>Season</th>\n",
       "      <th>City</th>\n",
       "      <th>Sport</th>\n",
       "      <th>Event</th>\n",
       "      <th>Medal</th>\n",
       "      <th>Region</th>\n",
       "    </tr>\n",
       "  </thead>\n",
       "  <tbody>\n",
       "    <tr>\n",
       "      <th>42628</th>\n",
       "      <td>362</td>\n",
       "      <td>Isao Ko Abe</td>\n",
       "      <td>M</td>\n",
       "      <td>24.0</td>\n",
       "      <td>177.0</td>\n",
       "      <td>75.0</td>\n",
       "      <td>Japan</td>\n",
       "      <td>JPN</td>\n",
       "      <td>1936 Summer</td>\n",
       "      <td>1936</td>\n",
       "      <td>Summer</td>\n",
       "      <td>Berlin</td>\n",
       "      <td>Athletics</td>\n",
       "      <td>Athletics Men's Hammer Throw</td>\n",
       "      <td>No Medal</td>\n",
       "      <td>Japan</td>\n",
       "    </tr>\n",
       "    <tr>\n",
       "      <th>42632</th>\n",
       "      <td>363</td>\n",
       "      <td>Kazumi Abe</td>\n",
       "      <td>M</td>\n",
       "      <td>28.0</td>\n",
       "      <td>178.0</td>\n",
       "      <td>67.0</td>\n",
       "      <td>Japan</td>\n",
       "      <td>JPN</td>\n",
       "      <td>1976 Winter</td>\n",
       "      <td>1976</td>\n",
       "      <td>Winter</td>\n",
       "      <td>Innsbruck</td>\n",
       "      <td>Bobsleigh</td>\n",
       "      <td>Bobsleigh Men's Four</td>\n",
       "      <td>No Medal</td>\n",
       "      <td>Japan</td>\n",
       "    </tr>\n",
       "    <tr>\n",
       "      <th>42633</th>\n",
       "      <td>364</td>\n",
       "      <td>Kazuo Abe</td>\n",
       "      <td>M</td>\n",
       "      <td>25.0</td>\n",
       "      <td>166.0</td>\n",
       "      <td>69.0</td>\n",
       "      <td>Japan</td>\n",
       "      <td>JPN</td>\n",
       "      <td>1960 Summer</td>\n",
       "      <td>1960</td>\n",
       "      <td>Summer</td>\n",
       "      <td>Roma</td>\n",
       "      <td>Wrestling</td>\n",
       "      <td>Wrestling Men's Lightweight, Freestyle</td>\n",
       "      <td>No Medal</td>\n",
       "      <td>Japan</td>\n",
       "    </tr>\n",
       "    <tr>\n",
       "      <th>42634</th>\n",
       "      <td>365</td>\n",
       "      <td>Kinya Abe</td>\n",
       "      <td>M</td>\n",
       "      <td>23.0</td>\n",
       "      <td>168.0</td>\n",
       "      <td>68.0</td>\n",
       "      <td>Japan</td>\n",
       "      <td>JPN</td>\n",
       "      <td>1992 Summer</td>\n",
       "      <td>1992</td>\n",
       "      <td>Summer</td>\n",
       "      <td>Barcelona</td>\n",
       "      <td>Fencing</td>\n",
       "      <td>Fencing Men's Foil, Individual</td>\n",
       "      <td>No Medal</td>\n",
       "      <td>Japan</td>\n",
       "    </tr>\n",
       "    <tr>\n",
       "      <th>42635</th>\n",
       "      <td>366</td>\n",
       "      <td>Kiyoshi Abe</td>\n",
       "      <td>M</td>\n",
       "      <td>25.0</td>\n",
       "      <td>167.0</td>\n",
       "      <td>62.0</td>\n",
       "      <td>Japan</td>\n",
       "      <td>JPN</td>\n",
       "      <td>1972 Summer</td>\n",
       "      <td>1972</td>\n",
       "      <td>Summer</td>\n",
       "      <td>Munich</td>\n",
       "      <td>Wrestling</td>\n",
       "      <td>Wrestling Men's Featherweight, Freestyle</td>\n",
       "      <td>No Medal</td>\n",
       "      <td>Japan</td>\n",
       "    </tr>\n",
       "    <tr>\n",
       "      <th>...</th>\n",
       "      <td>...</td>\n",
       "      <td>...</td>\n",
       "      <td>...</td>\n",
       "      <td>...</td>\n",
       "      <td>...</td>\n",
       "      <td>...</td>\n",
       "      <td>...</td>\n",
       "      <td>...</td>\n",
       "      <td>...</td>\n",
       "      <td>...</td>\n",
       "      <td>...</td>\n",
       "      <td>...</td>\n",
       "      <td>...</td>\n",
       "      <td>...</td>\n",
       "      <td>...</td>\n",
       "      <td>...</td>\n",
       "    </tr>\n",
       "    <tr>\n",
       "      <th>43145</th>\n",
       "      <td>33377</td>\n",
       "      <td>Takashi Eto</td>\n",
       "      <td>M</td>\n",
       "      <td>25.0</td>\n",
       "      <td>183.0</td>\n",
       "      <td>67.0</td>\n",
       "      <td>Japan</td>\n",
       "      <td>JPN</td>\n",
       "      <td>2016 Summer</td>\n",
       "      <td>2016</td>\n",
       "      <td>Summer</td>\n",
       "      <td>Rio de Janeiro</td>\n",
       "      <td>Athletics</td>\n",
       "      <td>Athletics Men's High Jump</td>\n",
       "      <td>No Medal</td>\n",
       "      <td>Japan</td>\n",
       "    </tr>\n",
       "    <tr>\n",
       "      <th>43146</th>\n",
       "      <td>33378</td>\n",
       "      <td>Yosuke Eto</td>\n",
       "      <td>M</td>\n",
       "      <td>25.0</td>\n",
       "      <td>162.0</td>\n",
       "      <td>60.0</td>\n",
       "      <td>Japan</td>\n",
       "      <td>JPN</td>\n",
       "      <td>1960 Winter</td>\n",
       "      <td>1960</td>\n",
       "      <td>Winter</td>\n",
       "      <td>Squaw Valley</td>\n",
       "      <td>Ski Jumping</td>\n",
       "      <td>Ski Jumping Men's Normal Hill, Individual</td>\n",
       "      <td>No Medal</td>\n",
       "      <td>Japan</td>\n",
       "    </tr>\n",
       "    <tr>\n",
       "      <th>43147</th>\n",
       "      <td>33378</td>\n",
       "      <td>Yosuke Eto</td>\n",
       "      <td>M</td>\n",
       "      <td>25.0</td>\n",
       "      <td>162.0</td>\n",
       "      <td>60.0</td>\n",
       "      <td>Japan</td>\n",
       "      <td>JPN</td>\n",
       "      <td>1960 Winter</td>\n",
       "      <td>1960</td>\n",
       "      <td>Winter</td>\n",
       "      <td>Squaw Valley</td>\n",
       "      <td>Nordic Combined</td>\n",
       "      <td>Nordic Combined Men's Individual</td>\n",
       "      <td>No Medal</td>\n",
       "      <td>Japan</td>\n",
       "    </tr>\n",
       "    <tr>\n",
       "      <th>43148</th>\n",
       "      <td>33378</td>\n",
       "      <td>Yosuke Eto</td>\n",
       "      <td>M</td>\n",
       "      <td>29.0</td>\n",
       "      <td>162.0</td>\n",
       "      <td>60.0</td>\n",
       "      <td>Japan</td>\n",
       "      <td>JPN</td>\n",
       "      <td>1964 Winter</td>\n",
       "      <td>1964</td>\n",
       "      <td>Winter</td>\n",
       "      <td>Innsbruck</td>\n",
       "      <td>Ski Jumping</td>\n",
       "      <td>Ski Jumping Men's Normal Hill, Individual</td>\n",
       "      <td>No Medal</td>\n",
       "      <td>Japan</td>\n",
       "    </tr>\n",
       "    <tr>\n",
       "      <th>43149</th>\n",
       "      <td>33378</td>\n",
       "      <td>Yosuke Eto</td>\n",
       "      <td>M</td>\n",
       "      <td>29.0</td>\n",
       "      <td>162.0</td>\n",
       "      <td>60.0</td>\n",
       "      <td>Japan</td>\n",
       "      <td>JPN</td>\n",
       "      <td>1964 Winter</td>\n",
       "      <td>1964</td>\n",
       "      <td>Winter</td>\n",
       "      <td>Innsbruck</td>\n",
       "      <td>Ski Jumping</td>\n",
       "      <td>Ski Jumping Men's Large Hill, Individual</td>\n",
       "      <td>No Medal</td>\n",
       "      <td>Japan</td>\n",
       "    </tr>\n",
       "  </tbody>\n",
       "</table>\n",
       "<p>511 rows × 16 columns</p>\n",
       "</div>"
      ],
      "text/plain": [
       "          ID         Name Sex   Age Height Weight   Team  NOC        Games  \\\n",
       "42628    362  Isao Ko Abe   M  24.0  177.0   75.0  Japan  JPN  1936 Summer   \n",
       "42632    363   Kazumi Abe   M  28.0  178.0   67.0  Japan  JPN  1976 Winter   \n",
       "42633    364    Kazuo Abe   M  25.0  166.0   69.0  Japan  JPN  1960 Summer   \n",
       "42634    365    Kinya Abe   M  23.0  168.0   68.0  Japan  JPN  1992 Summer   \n",
       "42635    366  Kiyoshi Abe   M  25.0  167.0   62.0  Japan  JPN  1972 Summer   \n",
       "...      ...          ...  ..   ...    ...    ...    ...  ...          ...   \n",
       "43145  33377  Takashi Eto   M  25.0  183.0   67.0  Japan  JPN  2016 Summer   \n",
       "43146  33378   Yosuke Eto   M  25.0  162.0   60.0  Japan  JPN  1960 Winter   \n",
       "43147  33378   Yosuke Eto   M  25.0  162.0   60.0  Japan  JPN  1960 Winter   \n",
       "43148  33378   Yosuke Eto   M  29.0  162.0   60.0  Japan  JPN  1964 Winter   \n",
       "43149  33378   Yosuke Eto   M  29.0  162.0   60.0  Japan  JPN  1964 Winter   \n",
       "\n",
       "       Year  Season            City            Sport  \\\n",
       "42628  1936  Summer          Berlin        Athletics   \n",
       "42632  1976  Winter       Innsbruck        Bobsleigh   \n",
       "42633  1960  Summer            Roma        Wrestling   \n",
       "42634  1992  Summer       Barcelona          Fencing   \n",
       "42635  1972  Summer          Munich        Wrestling   \n",
       "...     ...     ...             ...              ...   \n",
       "43145  2016  Summer  Rio de Janeiro        Athletics   \n",
       "43146  1960  Winter    Squaw Valley      Ski Jumping   \n",
       "43147  1960  Winter    Squaw Valley  Nordic Combined   \n",
       "43148  1964  Winter       Innsbruck      Ski Jumping   \n",
       "43149  1964  Winter       Innsbruck      Ski Jumping   \n",
       "\n",
       "                                           Event     Medal Region  \n",
       "42628               Athletics Men's Hammer Throw  No Medal  Japan  \n",
       "42632                       Bobsleigh Men's Four  No Medal  Japan  \n",
       "42633     Wrestling Men's Lightweight, Freestyle  No Medal  Japan  \n",
       "42634             Fencing Men's Foil, Individual  No Medal  Japan  \n",
       "42635   Wrestling Men's Featherweight, Freestyle  No Medal  Japan  \n",
       "...                                          ...       ...    ...  \n",
       "43145                  Athletics Men's High Jump  No Medal  Japan  \n",
       "43146  Ski Jumping Men's Normal Hill, Individual  No Medal  Japan  \n",
       "43147           Nordic Combined Men's Individual  No Medal  Japan  \n",
       "43148  Ski Jumping Men's Normal Hill, Individual  No Medal  Japan  \n",
       "43149   Ski Jumping Men's Large Hill, Individual  No Medal  Japan  \n",
       "\n",
       "[511 rows x 16 columns]"
      ]
     },
     "execution_count": 20,
     "metadata": {},
     "output_type": "execute_result"
    }
   ],
   "source": [
    "ath_df.query('Team == \"Japan\"')"
   ]
  },
  {
   "cell_type": "markdown",
   "id": "e166d88e",
   "metadata": {},
   "source": [
    "# Top Countries Participating"
   ]
  },
  {
   "cell_type": "code",
   "execution_count": 21,
   "id": "67892eb7",
   "metadata": {},
   "outputs": [],
   "source": [
    "top_10_countries = ath_df.Team.value_counts().sort_values(ascending=False).head(10)"
   ]
  },
  {
   "cell_type": "code",
   "execution_count": 22,
   "id": "753640f7",
   "metadata": {},
   "outputs": [
    {
     "data": {
      "text/plain": [
       "United States    4659\n",
       "France           4345\n",
       "Italy            3634\n",
       "Great Britain    3120\n",
       "Canada           2405\n",
       "Australia        2108\n",
       "Sweden           1942\n",
       "Germany          1808\n",
       "Spain            1641\n",
       "Netherlands      1434\n",
       "Name: Team, dtype: int64"
      ]
     },
     "execution_count": 22,
     "metadata": {},
     "output_type": "execute_result"
    }
   ],
   "source": [
    "top_10_countries"
   ]
  },
  {
   "cell_type": "markdown",
   "id": "c405feb6",
   "metadata": {},
   "source": [
    "# Plot graph for top 10 countries with index"
   ]
  },
  {
   "cell_type": "code",
   "execution_count": 23,
   "id": "1953cd02",
   "metadata": {},
   "outputs": [
    {
     "data": {
      "image/png": "[encoded data removed]",
      "text/plain": [
       "<Figure size 864x432 with 1 Axes>"
      ]
     },
     "metadata": {
      "needs_background": "light"
     },
     "output_type": "display_data"
    }
   ],
   "source": [
    "plt.figure(figsize=(12,6))\n",
    "plt.xticks(rotation=20)\n",
    "plt.title('Overall participation by top 10 country')\n",
    "sns.barplot(x=top_10_countries.index,y=top_10_countries)\n",
    "plt.show()"
   ]
  },
  {
   "cell_type": "markdown",
   "id": "f2ee4da0",
   "metadata": {},
   "source": [
    "From USA most of the participant participated in olympics"
   ]
  },
  {
   "cell_type": "markdown",
   "id": "0904d1e7",
   "metadata": {},
   "source": [
    "# Plot graph for top 10 countries without index,with exact number"
   ]
  },
  {
   "cell_type": "code",
   "execution_count": 24,
   "id": "0c8411ee",
   "metadata": {},
   "outputs": [
    {
     "data": {
      "image/png": "[encoded data removed]",
      "text/plain": [
       "<Figure size 864x432 with 1 Axes>"
      ]
     },
     "metadata": {
      "needs_background": "light"
     },
     "output_type": "display_data"
    }
   ],
   "source": [
    "plt.figure(figsize=(12,6))\n",
    "plt.xticks(rotation=20)\n",
    "plt.title('Overall participation by top 10 country')\n",
    "sns.barplot(x=top_10_countries,y=top_10_countries)\n",
    "plt.show()"
   ]
  },
  {
   "cell_type": "markdown",
   "id": "0af83732",
   "metadata": {},
   "source": [
    "# Last of bottom 20 countries"
   ]
  },
  {
   "cell_type": "code",
   "execution_count": 25,
   "id": "d792a55e",
   "metadata": {},
   "outputs": [],
   "source": [
    "bottom_20_countries = ath_df.Team.value_counts().sort_values(ascending=True).head(20)"
   ]
  },
  {
   "cell_type": "code",
   "execution_count": 26,
   "id": "f237782f",
   "metadata": {},
   "outputs": [
    {
     "data": {
      "text/plain": [
       "Tuvalu                        1\n",
       "Tornade-16                    1\n",
       "Rozenn-3                      1\n",
       "Plume-patte-32                1\n",
       "Pierre et Jean-3              1\n",
       "Sidi Fekkar-36                1\n",
       "Souvenance                    1\n",
       "Crabe I-11                    1\n",
       "Calimucho                     1\n",
       "Crabe I-3                     1\n",
       "Gwendoline-22                 1\n",
       "Virginie                      1\n",
       "Fada                          1\n",
       "Bagatelle Polo Club, Paris    1\n",
       "Rowing Club Castillon-3       1\n",
       "Tournade-40                   1\n",
       "Frip IV                       1\n",
       "Hb-20                         1\n",
       "Mignon-29                     1\n",
       "Favorite-17                   1\n",
       "Name: Team, dtype: int64"
      ]
     },
     "execution_count": 26,
     "metadata": {},
     "output_type": "execute_result"
    }
   ],
   "source": [
    "bottom_20_countries"
   ]
  },
  {
   "cell_type": "markdown",
   "id": "95682d89",
   "metadata": {},
   "source": [
    "# plot graph for bottom 20 countries"
   ]
  },
  {
   "cell_type": "code",
   "execution_count": 27,
   "id": "dd048f14",
   "metadata": {},
   "outputs": [
    {
     "data": {
      "image/png": "[encoded data removed]",
      "text/plain": [
       "<Figure size 864x432 with 1 Axes>"
      ]
     },
     "metadata": {
      "needs_background": "light"
     },
     "output_type": "display_data"
    }
   ],
   "source": [
    "plt.figure(figsize=(12,6))\n",
    "plt.xticks(rotation=20)\n",
    "plt.title('Overall participation by top 10 country')\n",
    "sns.barplot(x=bottom_20_countries.index,y=bottom_20_countries)\n",
    "plt.show()"
   ]
  },
  {
   "cell_type": "markdown",
   "id": "dc59b14d",
   "metadata": {},
   "source": [
    "# Year wise Distribution of the Participants"
   ]
  },
  {
   "cell_type": "code",
   "execution_count": 28,
   "id": "d7604780",
   "metadata": {},
   "outputs": [
    {
     "data": {
      "image/png": "[encoded data removed]",
      "text/plain": [
       "<Figure size 864x432 with 1 Axes>"
      ]
     },
     "metadata": {
      "needs_background": "light"
     },
     "output_type": "display_data"
    }
   ],
   "source": [
    "plt.figure(figsize=(12,6))\n",
    "plt.title('Year Disturibution of Athletes')\n",
    "plt.xlabel('Year')\n",
    "plt.ylabel('Number of Participants')\n",
    "plt.hist(ath_df.Year,color='orange',bins=np.arange(1896,2020,5),edgecolor='white')\n",
    "plt.show()"
   ]
  },
  {
   "cell_type": "markdown",
   "id": "318156ee",
   "metadata": {},
   "source": [
    "In year 2015 and in year 2000 most participant participate in olympics"
   ]
  },
  {
   "cell_type": "markdown",
   "id": "0785064a",
   "metadata": {},
   "source": [
    "# Height wise distribution "
   ]
  },
  {
   "cell_type": "code",
   "execution_count": 29,
   "id": "27a97a52",
   "metadata": {},
   "outputs": [],
   "source": [
    "#converting height column from float to integer\n",
    "ath_df['Height']=ath_df['Height'].astype(int)"
   ]
  },
  {
   "cell_type": "code",
   "execution_count": 30,
   "id": "06649b11",
   "metadata": {},
   "outputs": [
    {
     "data": {
      "image/png": "[encoded data removed]",
      "text/plain": [
       "<Figure size 864x432 with 1 Axes>"
      ]
     },
     "metadata": {
      "needs_background": "light"
     },
     "output_type": "display_data"
    }
   ],
   "source": [
    "plt.figure(figsize=(12,6))\n",
    "plt.title('Height Disturibution of Athletes')\n",
    "plt.xlabel('Height')\n",
    "plt.ylabel('Number of Participants')\n",
    "plt.hist(ath_df.Height,color='orange',bins=np.arange(100,200,5),edgecolor='white')\n",
    "plt.show()"
   ]
  },
  {
   "cell_type": "markdown",
   "id": "2957e242",
   "metadata": {},
   "source": [
    "Paricipants whose height from 170cm to 190cm has participated most in olympics"
   ]
  },
  {
   "cell_type": "markdown",
   "id": "85e3a394",
   "metadata": {},
   "source": [
    "# Weight Wise Distribution"
   ]
  },
  {
   "cell_type": "code",
   "execution_count": 31,
   "id": "1f9724fe",
   "metadata": {},
   "outputs": [],
   "source": [
    "#converting Weight column from float to integer\n",
    "ath_df['Weight']=ath_df['Weight'].astype(int)"
   ]
  },
  {
   "cell_type": "code",
   "execution_count": 32,
   "id": "e732a494",
   "metadata": {},
   "outputs": [
    {
     "data": {
      "image/png": "[encoded data removed]",
      "text/plain": [
       "<Figure size 864x432 with 1 Axes>"
      ]
     },
     "metadata": {
      "needs_background": "light"
     },
     "output_type": "display_data"
    }
   ],
   "source": [
    "plt.figure(figsize=(12,6))\n",
    "plt.title('Weight Disturibution of Athletes')\n",
    "plt.xlabel('Weight')\n",
    "plt.ylabel('Number of Participants')\n",
    "plt.hist(ath_df.Weight,color='orange',bins=np.arange(20,150,5),edgecolor='white')\n",
    "plt.show()"
   ]
  },
  {
   "cell_type": "markdown",
   "id": "3101b25d",
   "metadata": {},
   "source": [
    "athletes whose weight is between 60kg to 80kg participated most in olympic"
   ]
  },
  {
   "cell_type": "markdown",
   "id": "6bbfd4c7",
   "metadata": {},
   "source": [
    "# Age wise Distribution"
   ]
  },
  {
   "cell_type": "code",
   "execution_count": 33,
   "id": "970f6082",
   "metadata": {},
   "outputs": [],
   "source": [
    "#converting age column from float to integer\n",
    "ath_df['Age']=ath_df['Age'].astype(int)"
   ]
  },
  {
   "cell_type": "code",
   "execution_count": 34,
   "id": "d73c33ee",
   "metadata": {},
   "outputs": [
    {
     "data": {
      "image/png": "[encoded data removed]",
      "text/plain": [
       "<Figure size 864x432 with 1 Axes>"
      ]
     },
     "metadata": {
      "needs_background": "light"
     },
     "output_type": "display_data"
    }
   ],
   "source": [
    "plt.figure(figsize=(12,6))\n",
    "plt.title('Age Disturibution of Athletes')\n",
    "plt.xlabel('Age')\n",
    "plt.ylabel('Number of Participants')\n",
    "plt.hist(ath_df.Age,color='orange',edgecolor='white')\n",
    "plt.show()"
   ]
  },
  {
   "cell_type": "markdown",
   "id": "45277032",
   "metadata": {},
   "source": [
    "athletes whose age is between 20 to 30 participated most in olympic"
   ]
  },
  {
   "cell_type": "markdown",
   "id": "2956ffd6",
   "metadata": {},
   "source": [
    "# City wise Participants"
   ]
  },
  {
   "cell_type": "code",
   "execution_count": 35,
   "id": "a5fc5abf",
   "metadata": {},
   "outputs": [
    {
     "data": {
      "image/png": "[encoded data removed]",
      "text/plain": [
       "<Figure size 720x720 with 1 Axes>"
      ]
     },
     "metadata": {
      "needs_background": "light"
     },
     "output_type": "display_data"
    }
   ],
   "source": [
    "#with 45 degree rotation\n",
    "\n",
    "plt.figure(figsize=(10,10))\n",
    "sns.countplot(y=ath_df['City'])\n",
    "plt.xticks(rotation=45)\n",
    "plt.show()"
   ]
  },
  {
   "cell_type": "code",
   "execution_count": 36,
   "id": "1ff25223",
   "metadata": {},
   "outputs": [
    {
     "data": {
      "image/png": "[encoded data removed]",
      "text/plain": [
       "<Figure size 720x360 with 1 Axes>"
      ]
     },
     "metadata": {
      "needs_background": "light"
     },
     "output_type": "display_data"
    }
   ],
   "source": [
    "#with 90 degree rotation\n",
    "\n",
    "plt.figure(figsize=(10,5))\n",
    "sns.countplot(x=ath_df['City'])\n",
    "plt.xticks(rotation=90)\n",
    "plt.show()"
   ]
  },
  {
   "cell_type": "markdown",
   "id": "524c7fe1",
   "metadata": {},
   "source": [
    "athletes from London Participated most in olympics"
   ]
  },
  {
   "cell_type": "markdown",
   "id": "cd36ca0c",
   "metadata": {},
   "source": [
    "# Checking unique values in Medal"
   ]
  },
  {
   "cell_type": "code",
   "execution_count": 37,
   "id": "d2be3ca7",
   "metadata": {},
   "outputs": [
    {
     "data": {
      "text/plain": [
       "array(['No Medal', 'Silver', 'Bronze', 'Gold'], dtype=object)"
      ]
     },
     "execution_count": 37,
     "metadata": {},
     "output_type": "execute_result"
    }
   ],
   "source": [
    "ath_df['Medal'].unique()"
   ]
  },
  {
   "cell_type": "code",
   "execution_count": 38,
   "id": "0a8d085e",
   "metadata": {},
   "outputs": [
    {
     "data": {
      "text/plain": [
       "No Medal    56419\n",
       "Gold         3051\n",
       "Bronze       3023\n",
       "Silver       2994\n",
       "Name: Medal, dtype: int64"
      ]
     },
     "execution_count": 38,
     "metadata": {},
     "output_type": "execute_result"
    }
   ],
   "source": [
    "medal = ath_df.Medal.value_counts()\n",
    "medal"
   ]
  },
  {
   "cell_type": "markdown",
   "id": "1717a14d",
   "metadata": {},
   "source": [
    "# Ploting Graph for Medal"
   ]
  },
  {
   "cell_type": "code",
   "execution_count": 39,
   "id": "0c42b742",
   "metadata": {},
   "outputs": [
    {
     "data": {
      "image/png": "[encoded data removed]",
      "text/plain": [
       "<Figure size 864x432 with 1 Axes>"
      ]
     },
     "metadata": {
      "needs_background": "light"
     },
     "output_type": "display_data"
    }
   ],
   "source": [
    "plt.figure(figsize=(12,6))\n",
    "plt.xticks(rotation=20)\n",
    "plt.title('Overall Medals')\n",
    "sns.barplot(x=medal.index,y=medal)\n",
    "plt.show()"
   ]
  },
  {
   "cell_type": "markdown",
   "id": "2199a8a9",
   "metadata": {},
   "source": [
    "From Graph it is clearly seen that count of no medal is too high than Gold,Silver,Bronze"
   ]
  },
  {
   "cell_type": "markdown",
   "id": "2da1cf34",
   "metadata": {},
   "source": [
    "# Name of sports played in winter"
   ]
  },
  {
   "cell_type": "code",
   "execution_count": 40,
   "id": "129553b6",
   "metadata": {},
   "outputs": [
    {
     "data": {
      "text/plain": [
       "array(['Speed Skating', 'Short Track Speed Skating', 'Curling',\n",
       "       'Figure Skating', 'Snowboarding', 'Cross Country Skiing',\n",
       "       'Ice Hockey', 'Freestyle Skiing', 'Alpine Skiing', 'Bobsleigh',\n",
       "       'Nordic Combined', 'Biathlon', 'Ski Jumping', 'Skeleton', 'Luge',\n",
       "       'Military Ski Patrol', 'Alpinism'], dtype=object)"
      ]
     },
     "execution_count": 40,
     "metadata": {},
     "output_type": "execute_result"
    }
   ],
   "source": [
    "winter_sports = ath_df[ath_df.Season == 'Winter'].Sport.unique()\n",
    "winter_sports"
   ]
  },
  {
   "cell_type": "markdown",
   "id": "3e3fdd2f",
   "metadata": {},
   "source": [
    "# Name of sports played in Summer"
   ]
  },
  {
   "cell_type": "code",
   "execution_count": 41,
   "id": "b693a20b",
   "metadata": {},
   "outputs": [
    {
     "data": {
      "text/plain": [
       "array(['Basketball', 'Judo', 'Boxing', 'Wrestling', 'Swimming',\n",
       "       'Softball', 'Hockey', 'Archery', 'Triathlon', 'Football',\n",
       "       'Rhythmic Gymnastics', 'Athletics', 'Badminton', 'Fencing',\n",
       "       'Gymnastics', 'Volleyball', 'Baseball', 'Water Polo', 'Shooting',\n",
       "       'Weightlifting', 'Cycling', 'Rowing', 'Sailing', 'Diving',\n",
       "       'Modern Pentathlon', 'Art Competitions', 'Synchronized Swimming',\n",
       "       'Handball', 'Canoeing', 'Table Tennis', 'Tennis', 'Taekwondo',\n",
       "       'Beach Volleyball', 'Trampolining', 'Tug-Of-War', 'Equestrianism',\n",
       "       'Golf', 'Polo', 'Rugby Sevens', 'Ice Hockey', 'Figure Skating',\n",
       "       'Roque', 'Rugby', 'Lacrosse', 'Cricket', 'Croquet',\n",
       "       'Basque Pelota', 'Alpinism', 'Racquets', 'Motorboating',\n",
       "       'Jeu De Paume'], dtype=object)"
      ]
     },
     "execution_count": 41,
     "metadata": {},
     "output_type": "execute_result"
    }
   ],
   "source": [
    "summer_sports = ath_df[ath_df.Season == 'Summer'].Sport.unique()\n",
    "summer_sports"
   ]
  },
  {
   "cell_type": "markdown",
   "id": "8e5903d3",
   "metadata": {},
   "source": [
    "# Count of Male and Female Participant"
   ]
  },
  {
   "cell_type": "code",
   "execution_count": 42,
   "id": "fd3f6d81",
   "metadata": {},
   "outputs": [
    {
     "data": {
      "text/plain": [
       "M    48581\n",
       "F    16906\n",
       "Name: Sex, dtype: int64"
      ]
     },
     "execution_count": 42,
     "metadata": {},
     "output_type": "execute_result"
    }
   ],
   "source": [
    "gender_counts=ath_df['Sex'].value_counts()\n",
    "gender_counts"
   ]
  },
  {
   "cell_type": "code",
   "execution_count": 43,
   "id": "f3099c7a",
   "metadata": {},
   "outputs": [
    {
     "data": {
      "image/png": "[encoded data removed]",
      "text/plain": [
       "<Figure size 720x360 with 1 Axes>"
      ]
     },
     "metadata": {},
     "output_type": "display_data"
    }
   ],
   "source": [
    "plt.figure(figsize=(10,5))\n",
    "plt.title('Gender Distribution')\n",
    "plt.pie(gender_counts,labels=gender_counts,shadow=True)\n",
    "plt.show()"
   ]
  },
  {
   "cell_type": "code",
   "execution_count": 44,
   "id": "0266f590",
   "metadata": {},
   "outputs": [
    {
     "data": {
      "image/png": "[encoded data removed]",
      "text/plain": [
       "<Figure size 720x360 with 1 Axes>"
      ]
     },
     "metadata": {},
     "output_type": "display_data"
    }
   ],
   "source": [
    "plt.figure(figsize=(10,5))\n",
    "plt.title('Gender Distribution')\n",
    "plt.pie(gender_counts,labels=gender_counts.index,shadow=True,autopct='%1.1f%%')\n",
    "plt.show()"
   ]
  },
  {
   "cell_type": "markdown",
   "id": "f5dc93ad",
   "metadata": {},
   "source": [
    "from piechart it is clearly seen that Male participant are more than female i.e- 72.5%"
   ]
  },
  {
   "cell_type": "markdown",
   "id": "b7c375ba",
   "metadata": {},
   "source": [
    "# total medal won by athletes"
   ]
  },
  {
   "cell_type": "code",
   "execution_count": 45,
   "id": "1037216d",
   "metadata": {},
   "outputs": [
    {
     "data": {
      "text/plain": [
       "No Medal    56419\n",
       "Gold         3051\n",
       "Bronze       3023\n",
       "Silver       2994\n",
       "Name: Medal, dtype: int64"
      ]
     },
     "execution_count": 45,
     "metadata": {},
     "output_type": "execute_result"
    }
   ],
   "source": [
    "medal_counts = ath_df.Medal.value_counts()\n",
    "medal_counts"
   ]
  },
  {
   "cell_type": "code",
   "execution_count": 46,
   "id": "85487072",
   "metadata": {},
   "outputs": [
    {
     "data": {
      "image/png": "[encoded data removed]",
      "text/plain": [
       "<Figure size 720x360 with 1 Axes>"
      ]
     },
     "metadata": {},
     "output_type": "display_data"
    }
   ],
   "source": [
    "plt.figure(figsize=(10,5))\n",
    "plt.title('Medal Distribution')\n",
    "plt.pie(medal_counts,labels=medal_counts.index,shadow=True,autopct='%.2f%%')\n",
    "plt.show()"
   ]
  },
  {
   "cell_type": "markdown",
   "id": "960d36c5",
   "metadata": {},
   "source": [
    "4.84% won silver,4.90% won bronze and 4.94% won gold"
   ]
  },
  {
   "cell_type": "markdown",
   "id": "ea3b173e",
   "metadata": {},
   "source": [
    "# Total number of female athletes in each olympics"
   ]
  },
  {
   "cell_type": "code",
   "execution_count": 47,
   "id": "7dec431d",
   "metadata": {},
   "outputs": [],
   "source": [
    "female_participants = ath_df[(ath_df.Sex=='F')][['Sex','Year']]\n",
    "female_participants1 = female_participants.groupby('Year').count().reset_index()"
   ]
  },
  {
   "cell_type": "code",
   "execution_count": 48,
   "id": "e1c53cac",
   "metadata": {},
   "outputs": [
    {
     "data": {
      "text/html": [
       "<div>\n",
       "<style scoped>\n",
       "    .dataframe tbody tr th:only-of-type {\n",
       "        vertical-align: middle;\n",
       "    }\n",
       "\n",
       "    .dataframe tbody tr th {\n",
       "        vertical-align: top;\n",
       "    }\n",
       "\n",
       "    .dataframe thead th {\n",
       "        text-align: right;\n",
       "    }\n",
       "</style>\n",
       "<table border=\"1\" class=\"dataframe\">\n",
       "  <thead>\n",
       "    <tr style=\"text-align: right;\">\n",
       "      <th></th>\n",
       "      <th>Year</th>\n",
       "      <th>Sex</th>\n",
       "    </tr>\n",
       "  </thead>\n",
       "  <tbody>\n",
       "    <tr>\n",
       "      <th>24</th>\n",
       "      <td>1998</td>\n",
       "      <td>290</td>\n",
       "    </tr>\n",
       "    <tr>\n",
       "      <th>25</th>\n",
       "      <td>2000</td>\n",
       "      <td>1253</td>\n",
       "    </tr>\n",
       "    <tr>\n",
       "      <th>26</th>\n",
       "      <td>2002</td>\n",
       "      <td>308</td>\n",
       "    </tr>\n",
       "    <tr>\n",
       "      <th>27</th>\n",
       "      <td>2004</td>\n",
       "      <td>1198</td>\n",
       "    </tr>\n",
       "    <tr>\n",
       "      <th>28</th>\n",
       "      <td>2006</td>\n",
       "      <td>342</td>\n",
       "    </tr>\n",
       "    <tr>\n",
       "      <th>29</th>\n",
       "      <td>2008</td>\n",
       "      <td>1341</td>\n",
       "    </tr>\n",
       "    <tr>\n",
       "      <th>30</th>\n",
       "      <td>2010</td>\n",
       "      <td>319</td>\n",
       "    </tr>\n",
       "    <tr>\n",
       "      <th>31</th>\n",
       "      <td>2012</td>\n",
       "      <td>1385</td>\n",
       "    </tr>\n",
       "    <tr>\n",
       "      <th>32</th>\n",
       "      <td>2014</td>\n",
       "      <td>409</td>\n",
       "    </tr>\n",
       "    <tr>\n",
       "      <th>33</th>\n",
       "      <td>2016</td>\n",
       "      <td>1502</td>\n",
       "    </tr>\n",
       "  </tbody>\n",
       "</table>\n",
       "</div>"
      ],
      "text/plain": [
       "    Year   Sex\n",
       "24  1998   290\n",
       "25  2000  1253\n",
       "26  2002   308\n",
       "27  2004  1198\n",
       "28  2006   342\n",
       "29  2008  1341\n",
       "30  2010   319\n",
       "31  2012  1385\n",
       "32  2014   409\n",
       "33  2016  1502"
      ]
     },
     "execution_count": 48,
     "metadata": {},
     "output_type": "execute_result"
    }
   ],
   "source": [
    "female_participants1.tail(10)   ## result for bottom 10 years"
   ]
  },
  {
   "cell_type": "code",
   "execution_count": 49,
   "id": "e69f6438",
   "metadata": {},
   "outputs": [
    {
     "data": {
      "image/png": "[encoded data removed]",
      "text/plain": [
       "<Figure size 1440x720 with 1 Axes>"
      ]
     },
     "metadata": {},
     "output_type": "display_data"
    }
   ],
   "source": [
    "sns.set(style='darkgrid')\n",
    "plt.figure(figsize=(20,10))\n",
    "sns.countplot(x='Year',data=female_participants,palette='Spectral')\n",
    "plt.title('Female Participants')\n",
    "plt.show()"
   ]
  },
  {
   "cell_type": "markdown",
   "id": "fa752bd5",
   "metadata": {},
   "source": [
    "In year 2016 most females participated in olympics then in year 2012 to 2008 count is nearly same."
   ]
  },
  {
   "cell_type": "markdown",
   "id": "435bb844",
   "metadata": {},
   "source": [
    "# Total number of male athletes in each olympics "
   ]
  },
  {
   "cell_type": "code",
   "execution_count": 50,
   "id": "99921b15",
   "metadata": {},
   "outputs": [
    {
     "data": {
      "text/html": [
       "<div>\n",
       "<style scoped>\n",
       "    .dataframe tbody tr th:only-of-type {\n",
       "        vertical-align: middle;\n",
       "    }\n",
       "\n",
       "    .dataframe tbody tr th {\n",
       "        vertical-align: top;\n",
       "    }\n",
       "\n",
       "    .dataframe thead th {\n",
       "        text-align: right;\n",
       "    }\n",
       "</style>\n",
       "<table border=\"1\" class=\"dataframe\">\n",
       "  <thead>\n",
       "    <tr style=\"text-align: right;\">\n",
       "      <th></th>\n",
       "      <th>Year</th>\n",
       "      <th>Sex</th>\n",
       "    </tr>\n",
       "  </thead>\n",
       "  <tbody>\n",
       "    <tr>\n",
       "      <th>25</th>\n",
       "      <td>1998</td>\n",
       "      <td>511</td>\n",
       "    </tr>\n",
       "    <tr>\n",
       "      <th>26</th>\n",
       "      <td>2000</td>\n",
       "      <td>2046</td>\n",
       "    </tr>\n",
       "    <tr>\n",
       "      <th>27</th>\n",
       "      <td>2002</td>\n",
       "      <td>557</td>\n",
       "    </tr>\n",
       "    <tr>\n",
       "      <th>28</th>\n",
       "      <td>2004</td>\n",
       "      <td>1994</td>\n",
       "    </tr>\n",
       "    <tr>\n",
       "      <th>29</th>\n",
       "      <td>2006</td>\n",
       "      <td>599</td>\n",
       "    </tr>\n",
       "    <tr>\n",
       "      <th>30</th>\n",
       "      <td>2008</td>\n",
       "      <td>1943</td>\n",
       "    </tr>\n",
       "    <tr>\n",
       "      <th>31</th>\n",
       "      <td>2010</td>\n",
       "      <td>509</td>\n",
       "    </tr>\n",
       "    <tr>\n",
       "      <th>32</th>\n",
       "      <td>2012</td>\n",
       "      <td>1772</td>\n",
       "    </tr>\n",
       "    <tr>\n",
       "      <th>33</th>\n",
       "      <td>2014</td>\n",
       "      <td>615</td>\n",
       "    </tr>\n",
       "    <tr>\n",
       "      <th>34</th>\n",
       "      <td>2016</td>\n",
       "      <td>1979</td>\n",
       "    </tr>\n",
       "  </tbody>\n",
       "</table>\n",
       "</div>"
      ],
      "text/plain": [
       "    Year   Sex\n",
       "25  1998   511\n",
       "26  2000  2046\n",
       "27  2002   557\n",
       "28  2004  1994\n",
       "29  2006   599\n",
       "30  2008  1943\n",
       "31  2010   509\n",
       "32  2012  1772\n",
       "33  2014   615\n",
       "34  2016  1979"
      ]
     },
     "execution_count": 50,
     "metadata": {},
     "output_type": "execute_result"
    }
   ],
   "source": [
    "male_participants = ath_df[(ath_df.Sex=='M')][['Sex','Year']]\n",
    "male_participants1 = male_participants.groupby('Year').count().reset_index()\n",
    "male_participants1.tail(10)   ## result for bottom 10 years"
   ]
  },
  {
   "cell_type": "code",
   "execution_count": 51,
   "id": "397d633d",
   "metadata": {},
   "outputs": [
    {
     "data": {
      "image/png": "[encoded data removed]",
      "text/plain": [
       "<Figure size 1440x720 with 1 Axes>"
      ]
     },
     "metadata": {},
     "output_type": "display_data"
    }
   ],
   "source": [
    "sns.set(style='darkgrid')\n",
    "plt.figure(figsize=(20,10))\n",
    "sns.countplot(x='Year',data=male_participants,palette='Spectral')\n",
    "plt.title('Male Participants')\n",
    "plt.show()"
   ]
  },
  {
   "cell_type": "markdown",
   "id": "191a540d",
   "metadata": {},
   "source": [
    "In year 1992 most male athletes participated in olympic"
   ]
  },
  {
   "cell_type": "markdown",
   "id": "cb9585d5",
   "metadata": {},
   "source": [
    "# Gold medal athletes"
   ]
  },
  {
   "cell_type": "code",
   "execution_count": 52,
   "id": "ae128305",
   "metadata": {},
   "outputs": [
    {
     "data": {
      "text/html": [
       "<div>\n",
       "<style scoped>\n",
       "    .dataframe tbody tr th:only-of-type {\n",
       "        vertical-align: middle;\n",
       "    }\n",
       "\n",
       "    .dataframe tbody tr th {\n",
       "        vertical-align: top;\n",
       "    }\n",
       "\n",
       "    .dataframe thead th {\n",
       "        text-align: right;\n",
       "    }\n",
       "</style>\n",
       "<table border=\"1\" class=\"dataframe\">\n",
       "  <thead>\n",
       "    <tr style=\"text-align: right;\">\n",
       "      <th></th>\n",
       "      <th>ID</th>\n",
       "      <th>Name</th>\n",
       "      <th>Sex</th>\n",
       "      <th>Age</th>\n",
       "      <th>Height</th>\n",
       "      <th>Weight</th>\n",
       "      <th>Team</th>\n",
       "      <th>NOC</th>\n",
       "      <th>Games</th>\n",
       "      <th>Year</th>\n",
       "      <th>Season</th>\n",
       "      <th>City</th>\n",
       "      <th>Sport</th>\n",
       "      <th>Event</th>\n",
       "      <th>Medal</th>\n",
       "      <th>Region</th>\n",
       "    </tr>\n",
       "  </thead>\n",
       "  <tbody>\n",
       "    <tr>\n",
       "      <th>68</th>\n",
       "      <td>17294</td>\n",
       "      <td>Cai Yalin</td>\n",
       "      <td>M</td>\n",
       "      <td>23</td>\n",
       "      <td>174</td>\n",
       "      <td>60</td>\n",
       "      <td>China</td>\n",
       "      <td>CHN</td>\n",
       "      <td>2000 Summer</td>\n",
       "      <td>2000</td>\n",
       "      <td>Summer</td>\n",
       "      <td>Sydney</td>\n",
       "      <td>Shooting</td>\n",
       "      <td>Shooting Men's Air Rifle, 10 metres</td>\n",
       "      <td>Gold</td>\n",
       "      <td>China</td>\n",
       "    </tr>\n",
       "    <tr>\n",
       "      <th>77</th>\n",
       "      <td>17299</td>\n",
       "      <td>Cai Yun</td>\n",
       "      <td>M</td>\n",
       "      <td>32</td>\n",
       "      <td>181</td>\n",
       "      <td>68</td>\n",
       "      <td>China-1</td>\n",
       "      <td>CHN</td>\n",
       "      <td>2012 Summer</td>\n",
       "      <td>2012</td>\n",
       "      <td>Summer</td>\n",
       "      <td>London</td>\n",
       "      <td>Badminton</td>\n",
       "      <td>Badminton Men's Doubles</td>\n",
       "      <td>Gold</td>\n",
       "      <td>China</td>\n",
       "    </tr>\n",
       "    <tr>\n",
       "      <th>87</th>\n",
       "      <td>17995</td>\n",
       "      <td>Cao Lei</td>\n",
       "      <td>F</td>\n",
       "      <td>24</td>\n",
       "      <td>168</td>\n",
       "      <td>75</td>\n",
       "      <td>China</td>\n",
       "      <td>CHN</td>\n",
       "      <td>2008 Summer</td>\n",
       "      <td>2008</td>\n",
       "      <td>Summer</td>\n",
       "      <td>Beijing</td>\n",
       "      <td>Weightlifting</td>\n",
       "      <td>Weightlifting Women's Heavyweight</td>\n",
       "      <td>Gold</td>\n",
       "      <td>China</td>\n",
       "    </tr>\n",
       "    <tr>\n",
       "      <th>104</th>\n",
       "      <td>18005</td>\n",
       "      <td>Cao Yuan</td>\n",
       "      <td>M</td>\n",
       "      <td>17</td>\n",
       "      <td>160</td>\n",
       "      <td>42</td>\n",
       "      <td>China</td>\n",
       "      <td>CHN</td>\n",
       "      <td>2012 Summer</td>\n",
       "      <td>2012</td>\n",
       "      <td>Summer</td>\n",
       "      <td>London</td>\n",
       "      <td>Diving</td>\n",
       "      <td>Diving Men's Synchronized Platform</td>\n",
       "      <td>Gold</td>\n",
       "      <td>China</td>\n",
       "    </tr>\n",
       "    <tr>\n",
       "      <th>105</th>\n",
       "      <td>18005</td>\n",
       "      <td>Cao Yuan</td>\n",
       "      <td>M</td>\n",
       "      <td>21</td>\n",
       "      <td>160</td>\n",
       "      <td>42</td>\n",
       "      <td>China</td>\n",
       "      <td>CHN</td>\n",
       "      <td>2016 Summer</td>\n",
       "      <td>2016</td>\n",
       "      <td>Summer</td>\n",
       "      <td>Rio de Janeiro</td>\n",
       "      <td>Diving</td>\n",
       "      <td>Diving Men's Springboard</td>\n",
       "      <td>Gold</td>\n",
       "      <td>China</td>\n",
       "    </tr>\n",
       "    <tr>\n",
       "      <th>125</th>\n",
       "      <td>20150</td>\n",
       "      <td>Chen Aisen</td>\n",
       "      <td>M</td>\n",
       "      <td>20</td>\n",
       "      <td>168</td>\n",
       "      <td>60</td>\n",
       "      <td>China</td>\n",
       "      <td>CHN</td>\n",
       "      <td>2016 Summer</td>\n",
       "      <td>2016</td>\n",
       "      <td>Summer</td>\n",
       "      <td>Rio de Janeiro</td>\n",
       "      <td>Diving</td>\n",
       "      <td>Diving Men's Platform</td>\n",
       "      <td>Gold</td>\n",
       "      <td>China</td>\n",
       "    </tr>\n",
       "    <tr>\n",
       "      <th>126</th>\n",
       "      <td>20150</td>\n",
       "      <td>Chen Aisen</td>\n",
       "      <td>M</td>\n",
       "      <td>20</td>\n",
       "      <td>168</td>\n",
       "      <td>60</td>\n",
       "      <td>China</td>\n",
       "      <td>CHN</td>\n",
       "      <td>2016 Summer</td>\n",
       "      <td>2016</td>\n",
       "      <td>Summer</td>\n",
       "      <td>Rio de Janeiro</td>\n",
       "      <td>Diving</td>\n",
       "      <td>Diving Men's Synchronized Platform</td>\n",
       "      <td>Gold</td>\n",
       "      <td>China</td>\n",
       "    </tr>\n",
       "    <tr>\n",
       "      <th>141</th>\n",
       "      <td>20182</td>\n",
       "      <td>Chen Ding</td>\n",
       "      <td>M</td>\n",
       "      <td>19</td>\n",
       "      <td>175</td>\n",
       "      <td>62</td>\n",
       "      <td>China</td>\n",
       "      <td>CHN</td>\n",
       "      <td>2012 Summer</td>\n",
       "      <td>2012</td>\n",
       "      <td>Summer</td>\n",
       "      <td>London</td>\n",
       "      <td>Athletics</td>\n",
       "      <td>Athletics Men's 20 kilometres Walk</td>\n",
       "      <td>Gold</td>\n",
       "      <td>China</td>\n",
       "    </tr>\n",
       "    <tr>\n",
       "      <th>180</th>\n",
       "      <td>20217</td>\n",
       "      <td>Chen Jing</td>\n",
       "      <td>F</td>\n",
       "      <td>19</td>\n",
       "      <td>170</td>\n",
       "      <td>60</td>\n",
       "      <td>China</td>\n",
       "      <td>CHN</td>\n",
       "      <td>1988 Summer</td>\n",
       "      <td>1988</td>\n",
       "      <td>Summer</td>\n",
       "      <td>Seoul</td>\n",
       "      <td>Table Tennis</td>\n",
       "      <td>Table Tennis Women's Singles</td>\n",
       "      <td>Gold</td>\n",
       "      <td>China</td>\n",
       "    </tr>\n",
       "    <tr>\n",
       "      <th>186</th>\n",
       "      <td>20220</td>\n",
       "      <td>Chen Jing</td>\n",
       "      <td>F</td>\n",
       "      <td>28</td>\n",
       "      <td>182</td>\n",
       "      <td>75</td>\n",
       "      <td>China</td>\n",
       "      <td>CHN</td>\n",
       "      <td>2004 Summer</td>\n",
       "      <td>2004</td>\n",
       "      <td>Summer</td>\n",
       "      <td>Athina</td>\n",
       "      <td>Volleyball</td>\n",
       "      <td>Volleyball Women's Volleyball</td>\n",
       "      <td>Gold</td>\n",
       "      <td>China</td>\n",
       "    </tr>\n",
       "  </tbody>\n",
       "</table>\n",
       "</div>"
      ],
      "text/plain": [
       "        ID        Name Sex  Age  Height  Weight     Team  NOC        Games  \\\n",
       "68   17294   Cai Yalin   M   23     174      60    China  CHN  2000 Summer   \n",
       "77   17299     Cai Yun   M   32     181      68  China-1  CHN  2012 Summer   \n",
       "87   17995     Cao Lei   F   24     168      75    China  CHN  2008 Summer   \n",
       "104  18005    Cao Yuan   M   17     160      42    China  CHN  2012 Summer   \n",
       "105  18005    Cao Yuan   M   21     160      42    China  CHN  2016 Summer   \n",
       "125  20150  Chen Aisen   M   20     168      60    China  CHN  2016 Summer   \n",
       "126  20150  Chen Aisen   M   20     168      60    China  CHN  2016 Summer   \n",
       "141  20182   Chen Ding   M   19     175      62    China  CHN  2012 Summer   \n",
       "180  20217   Chen Jing   F   19     170      60    China  CHN  1988 Summer   \n",
       "186  20220   Chen Jing   F   28     182      75    China  CHN  2004 Summer   \n",
       "\n",
       "     Year  Season            City          Sport  \\\n",
       "68   2000  Summer          Sydney       Shooting   \n",
       "77   2012  Summer          London      Badminton   \n",
       "87   2008  Summer         Beijing  Weightlifting   \n",
       "104  2012  Summer          London         Diving   \n",
       "105  2016  Summer  Rio de Janeiro         Diving   \n",
       "125  2016  Summer  Rio de Janeiro         Diving   \n",
       "126  2016  Summer  Rio de Janeiro         Diving   \n",
       "141  2012  Summer          London      Athletics   \n",
       "180  1988  Summer           Seoul   Table Tennis   \n",
       "186  2004  Summer          Athina     Volleyball   \n",
       "\n",
       "                                   Event Medal Region  \n",
       "68   Shooting Men's Air Rifle, 10 metres  Gold  China  \n",
       "77               Badminton Men's Doubles  Gold  China  \n",
       "87     Weightlifting Women's Heavyweight  Gold  China  \n",
       "104   Diving Men's Synchronized Platform  Gold  China  \n",
       "105             Diving Men's Springboard  Gold  China  \n",
       "125                Diving Men's Platform  Gold  China  \n",
       "126   Diving Men's Synchronized Platform  Gold  China  \n",
       "141   Athletics Men's 20 kilometres Walk  Gold  China  \n",
       "180         Table Tennis Women's Singles  Gold  China  \n",
       "186        Volleyball Women's Volleyball  Gold  China  "
      ]
     },
     "execution_count": 52,
     "metadata": {},
     "output_type": "execute_result"
    }
   ],
   "source": [
    "gold_medals = ath_df[(ath_df.Medal == 'Gold')]\n",
    "gold_medals.head(10)"
   ]
  },
  {
   "cell_type": "code",
   "execution_count": 53,
   "id": "97fdcfa7",
   "metadata": {},
   "outputs": [
    {
     "data": {
      "image/png": "[encoded data removed]",
      "text/plain": [
       "<Figure size 1440x720 with 1 Axes>"
      ]
     },
     "metadata": {},
     "output_type": "display_data"
    }
   ],
   "source": [
    "sns.set(style='darkgrid')\n",
    "plt.figure(figsize=(20,10))\n",
    "sns.countplot(gold_medals['Age'])\n",
    "plt.title('Distribution of Gold Medals')\n",
    "plt.show()"
   ]
  },
  {
   "cell_type": "markdown",
   "id": "fae4d562",
   "metadata": {},
   "source": [
    "athletes whose age are 23 and 24 won most gold medals"
   ]
  },
  {
   "cell_type": "markdown",
   "id": "bb233458",
   "metadata": {},
   "source": [
    "# Silver medal athletes"
   ]
  },
  {
   "cell_type": "code",
   "execution_count": 54,
   "id": "40e0da5b",
   "metadata": {},
   "outputs": [
    {
     "data": {
      "text/html": [
       "<div>\n",
       "<style scoped>\n",
       "    .dataframe tbody tr th:only-of-type {\n",
       "        vertical-align: middle;\n",
       "    }\n",
       "\n",
       "    .dataframe tbody tr th {\n",
       "        vertical-align: top;\n",
       "    }\n",
       "\n",
       "    .dataframe thead th {\n",
       "        text-align: right;\n",
       "    }\n",
       "</style>\n",
       "<table border=\"1\" class=\"dataframe\">\n",
       "  <thead>\n",
       "    <tr style=\"text-align: right;\">\n",
       "      <th></th>\n",
       "      <th>ID</th>\n",
       "      <th>Name</th>\n",
       "      <th>Sex</th>\n",
       "      <th>Age</th>\n",
       "      <th>Height</th>\n",
       "      <th>Weight</th>\n",
       "      <th>Team</th>\n",
       "      <th>NOC</th>\n",
       "      <th>Games</th>\n",
       "      <th>Year</th>\n",
       "      <th>Season</th>\n",
       "      <th>City</th>\n",
       "      <th>Sport</th>\n",
       "      <th>Event</th>\n",
       "      <th>Medal</th>\n",
       "      <th>Region</th>\n",
       "    </tr>\n",
       "  </thead>\n",
       "  <tbody>\n",
       "    <tr>\n",
       "      <th>8</th>\n",
       "      <td>3610</td>\n",
       "      <td>An Yulong</td>\n",
       "      <td>M</td>\n",
       "      <td>19</td>\n",
       "      <td>173</td>\n",
       "      <td>70</td>\n",
       "      <td>China</td>\n",
       "      <td>CHN</td>\n",
       "      <td>1998 Winter</td>\n",
       "      <td>1998</td>\n",
       "      <td>Winter</td>\n",
       "      <td>Nagano</td>\n",
       "      <td>Short Track Speed Skating</td>\n",
       "      <td>Short Track Speed Skating Men's 500 metres</td>\n",
       "      <td>Silver</td>\n",
       "      <td>China</td>\n",
       "    </tr>\n",
       "    <tr>\n",
       "      <th>12</th>\n",
       "      <td>3611</td>\n",
       "      <td>An Zhongxin</td>\n",
       "      <td>F</td>\n",
       "      <td>23</td>\n",
       "      <td>170</td>\n",
       "      <td>65</td>\n",
       "      <td>China</td>\n",
       "      <td>CHN</td>\n",
       "      <td>1996 Summer</td>\n",
       "      <td>1996</td>\n",
       "      <td>Summer</td>\n",
       "      <td>Atlanta</td>\n",
       "      <td>Softball</td>\n",
       "      <td>Softball Women's Softball</td>\n",
       "      <td>Silver</td>\n",
       "      <td>China</td>\n",
       "    </tr>\n",
       "    <tr>\n",
       "      <th>33</th>\n",
       "      <td>7597</td>\n",
       "      <td>Bao Yingying</td>\n",
       "      <td>F</td>\n",
       "      <td>24</td>\n",
       "      <td>172</td>\n",
       "      <td>67</td>\n",
       "      <td>China</td>\n",
       "      <td>CHN</td>\n",
       "      <td>2008 Summer</td>\n",
       "      <td>2008</td>\n",
       "      <td>Summer</td>\n",
       "      <td>Beijing</td>\n",
       "      <td>Fencing</td>\n",
       "      <td>Fencing Women's Sabre, Team</td>\n",
       "      <td>Silver</td>\n",
       "      <td>China</td>\n",
       "    </tr>\n",
       "    <tr>\n",
       "      <th>41</th>\n",
       "      <td>11223</td>\n",
       "      <td>Bi Wenjing</td>\n",
       "      <td>F</td>\n",
       "      <td>14</td>\n",
       "      <td>142</td>\n",
       "      <td>35</td>\n",
       "      <td>China</td>\n",
       "      <td>CHN</td>\n",
       "      <td>1996 Summer</td>\n",
       "      <td>1996</td>\n",
       "      <td>Summer</td>\n",
       "      <td>Atlanta</td>\n",
       "      <td>Gymnastics</td>\n",
       "      <td>Gymnastics Women's Uneven Bars</td>\n",
       "      <td>Silver</td>\n",
       "      <td>China</td>\n",
       "    </tr>\n",
       "    <tr>\n",
       "      <th>63</th>\n",
       "      <td>17289</td>\n",
       "      <td>Cai Tongtong</td>\n",
       "      <td>F</td>\n",
       "      <td>18</td>\n",
       "      <td>168</td>\n",
       "      <td>48</td>\n",
       "      <td>China</td>\n",
       "      <td>CHN</td>\n",
       "      <td>2008 Summer</td>\n",
       "      <td>2008</td>\n",
       "      <td>Summer</td>\n",
       "      <td>Beijing</td>\n",
       "      <td>Rhythmic Gymnastics</td>\n",
       "      <td>Rhythmic Gymnastics Women's Group</td>\n",
       "      <td>Silver</td>\n",
       "      <td>China</td>\n",
       "    </tr>\n",
       "    <tr>\n",
       "      <th>76</th>\n",
       "      <td>17299</td>\n",
       "      <td>Cai Yun</td>\n",
       "      <td>M</td>\n",
       "      <td>28</td>\n",
       "      <td>181</td>\n",
       "      <td>68</td>\n",
       "      <td>China-1</td>\n",
       "      <td>CHN</td>\n",
       "      <td>2008 Summer</td>\n",
       "      <td>2008</td>\n",
       "      <td>Summer</td>\n",
       "      <td>Beijing</td>\n",
       "      <td>Badminton</td>\n",
       "      <td>Badminton Men's Doubles</td>\n",
       "      <td>Silver</td>\n",
       "      <td>China</td>\n",
       "    </tr>\n",
       "    <tr>\n",
       "      <th>79</th>\n",
       "      <td>17300</td>\n",
       "      <td>Cai Zelin</td>\n",
       "      <td>M</td>\n",
       "      <td>25</td>\n",
       "      <td>175</td>\n",
       "      <td>55</td>\n",
       "      <td>China</td>\n",
       "      <td>CHN</td>\n",
       "      <td>2016 Summer</td>\n",
       "      <td>2016</td>\n",
       "      <td>Summer</td>\n",
       "      <td>Rio de Janeiro</td>\n",
       "      <td>Athletics</td>\n",
       "      <td>Athletics Men's 20 kilometres Walk</td>\n",
       "      <td>Silver</td>\n",
       "      <td>China</td>\n",
       "    </tr>\n",
       "    <tr>\n",
       "      <th>91</th>\n",
       "      <td>17996</td>\n",
       "      <td>Cao Mianying</td>\n",
       "      <td>F</td>\n",
       "      <td>29</td>\n",
       "      <td>176</td>\n",
       "      <td>71</td>\n",
       "      <td>China</td>\n",
       "      <td>CHN</td>\n",
       "      <td>1996 Summer</td>\n",
       "      <td>1996</td>\n",
       "      <td>Summer</td>\n",
       "      <td>Atlanta</td>\n",
       "      <td>Rowing</td>\n",
       "      <td>Rowing Women's Double Sculls</td>\n",
       "      <td>Silver</td>\n",
       "      <td>China</td>\n",
       "    </tr>\n",
       "    <tr>\n",
       "      <th>109</th>\n",
       "      <td>18007</td>\n",
       "      <td>Cao Zhongrong</td>\n",
       "      <td>M</td>\n",
       "      <td>30</td>\n",
       "      <td>180</td>\n",
       "      <td>73</td>\n",
       "      <td>China</td>\n",
       "      <td>CHN</td>\n",
       "      <td>2012 Summer</td>\n",
       "      <td>2012</td>\n",
       "      <td>Summer</td>\n",
       "      <td>London</td>\n",
       "      <td>Modern Pentathlon</td>\n",
       "      <td>Modern Pentathlon Men's Individual</td>\n",
       "      <td>Silver</td>\n",
       "      <td>China</td>\n",
       "    </tr>\n",
       "    <tr>\n",
       "      <th>118</th>\n",
       "      <td>19779</td>\n",
       "      <td>Chang Si</td>\n",
       "      <td>F</td>\n",
       "      <td>25</td>\n",
       "      <td>170</td>\n",
       "      <td>56</td>\n",
       "      <td>China</td>\n",
       "      <td>CHN</td>\n",
       "      <td>2012 Summer</td>\n",
       "      <td>2012</td>\n",
       "      <td>Summer</td>\n",
       "      <td>London</td>\n",
       "      <td>Synchronized Swimming</td>\n",
       "      <td>Synchronized Swimming Women's Team</td>\n",
       "      <td>Silver</td>\n",
       "      <td>China</td>\n",
       "    </tr>\n",
       "  </tbody>\n",
       "</table>\n",
       "</div>"
      ],
      "text/plain": [
       "        ID           Name Sex  Age  Height  Weight     Team  NOC        Games  \\\n",
       "8     3610      An Yulong   M   19     173      70    China  CHN  1998 Winter   \n",
       "12    3611    An Zhongxin   F   23     170      65    China  CHN  1996 Summer   \n",
       "33    7597   Bao Yingying   F   24     172      67    China  CHN  2008 Summer   \n",
       "41   11223     Bi Wenjing   F   14     142      35    China  CHN  1996 Summer   \n",
       "63   17289   Cai Tongtong   F   18     168      48    China  CHN  2008 Summer   \n",
       "76   17299        Cai Yun   M   28     181      68  China-1  CHN  2008 Summer   \n",
       "79   17300      Cai Zelin   M   25     175      55    China  CHN  2016 Summer   \n",
       "91   17996   Cao Mianying   F   29     176      71    China  CHN  1996 Summer   \n",
       "109  18007  Cao Zhongrong   M   30     180      73    China  CHN  2012 Summer   \n",
       "118  19779       Chang Si   F   25     170      56    China  CHN  2012 Summer   \n",
       "\n",
       "     Year  Season            City                      Sport  \\\n",
       "8    1998  Winter          Nagano  Short Track Speed Skating   \n",
       "12   1996  Summer         Atlanta                   Softball   \n",
       "33   2008  Summer         Beijing                    Fencing   \n",
       "41   1996  Summer         Atlanta                 Gymnastics   \n",
       "63   2008  Summer         Beijing        Rhythmic Gymnastics   \n",
       "76   2008  Summer         Beijing                  Badminton   \n",
       "79   2016  Summer  Rio de Janeiro                  Athletics   \n",
       "91   1996  Summer         Atlanta                     Rowing   \n",
       "109  2012  Summer          London          Modern Pentathlon   \n",
       "118  2012  Summer          London      Synchronized Swimming   \n",
       "\n",
       "                                          Event   Medal Region  \n",
       "8    Short Track Speed Skating Men's 500 metres  Silver  China  \n",
       "12                    Softball Women's Softball  Silver  China  \n",
       "33                  Fencing Women's Sabre, Team  Silver  China  \n",
       "41               Gymnastics Women's Uneven Bars  Silver  China  \n",
       "63            Rhythmic Gymnastics Women's Group  Silver  China  \n",
       "76                      Badminton Men's Doubles  Silver  China  \n",
       "79           Athletics Men's 20 kilometres Walk  Silver  China  \n",
       "91                 Rowing Women's Double Sculls  Silver  China  \n",
       "109          Modern Pentathlon Men's Individual  Silver  China  \n",
       "118          Synchronized Swimming Women's Team  Silver  China  "
      ]
     },
     "execution_count": 54,
     "metadata": {},
     "output_type": "execute_result"
    }
   ],
   "source": [
    "silver_medals = ath_df[(ath_df.Medal == 'Silver')]\n",
    "silver_medals.head(10)"
   ]
  },
  {
   "cell_type": "code",
   "execution_count": 55,
   "id": "909deacc",
   "metadata": {},
   "outputs": [
    {
     "data": {
      "image/png": "[encoded data removed]",
      "text/plain": [
       "<Figure size 1440x720 with 1 Axes>"
      ]
     },
     "metadata": {},
     "output_type": "display_data"
    }
   ],
   "source": [
    "sns.set(style='darkgrid')\n",
    "plt.figure(figsize=(20,10))\n",
    "sns.countplot(silver_medals['Age'])\n",
    "plt.title('Distribution of Silver Medals')\n",
    "plt.show()"
   ]
  },
  {
   "cell_type": "markdown",
   "id": "e7719478",
   "metadata": {},
   "source": [
    "athletes whose age are 23 most silver medals and after that whose age are 24 and 25 won silver medals"
   ]
  },
  {
   "cell_type": "markdown",
   "id": "d5b261bf",
   "metadata": {},
   "source": [
    "# Bronze Medal athletes"
   ]
  },
  {
   "cell_type": "code",
   "execution_count": 56,
   "id": "f08a41b9",
   "metadata": {},
   "outputs": [
    {
     "data": {
      "text/html": [
       "<div>\n",
       "<style scoped>\n",
       "    .dataframe tbody tr th:only-of-type {\n",
       "        vertical-align: middle;\n",
       "    }\n",
       "\n",
       "    .dataframe tbody tr th {\n",
       "        vertical-align: top;\n",
       "    }\n",
       "\n",
       "    .dataframe thead th {\n",
       "        text-align: right;\n",
       "    }\n",
       "</style>\n",
       "<table border=\"1\" class=\"dataframe\">\n",
       "  <thead>\n",
       "    <tr style=\"text-align: right;\">\n",
       "      <th></th>\n",
       "      <th>ID</th>\n",
       "      <th>Name</th>\n",
       "      <th>Sex</th>\n",
       "      <th>Age</th>\n",
       "      <th>Height</th>\n",
       "      <th>Weight</th>\n",
       "      <th>Team</th>\n",
       "      <th>NOC</th>\n",
       "      <th>Games</th>\n",
       "      <th>Year</th>\n",
       "      <th>Season</th>\n",
       "      <th>City</th>\n",
       "      <th>Sport</th>\n",
       "      <th>Event</th>\n",
       "      <th>Medal</th>\n",
       "      <th>Region</th>\n",
       "    </tr>\n",
       "  </thead>\n",
       "  <tbody>\n",
       "    <tr>\n",
       "      <th>10</th>\n",
       "      <td>3610</td>\n",
       "      <td>An Yulong</td>\n",
       "      <td>M</td>\n",
       "      <td>19</td>\n",
       "      <td>173</td>\n",
       "      <td>70</td>\n",
       "      <td>China</td>\n",
       "      <td>CHN</td>\n",
       "      <td>1998 Winter</td>\n",
       "      <td>1998</td>\n",
       "      <td>Winter</td>\n",
       "      <td>Nagano</td>\n",
       "      <td>Short Track Speed Skating</td>\n",
       "      <td>Short Track Speed Skating Men's 5,000 metres R...</td>\n",
       "      <td>Bronze</td>\n",
       "      <td>China</td>\n",
       "    </tr>\n",
       "    <tr>\n",
       "      <th>11</th>\n",
       "      <td>3610</td>\n",
       "      <td>An Yulong</td>\n",
       "      <td>M</td>\n",
       "      <td>23</td>\n",
       "      <td>173</td>\n",
       "      <td>70</td>\n",
       "      <td>China</td>\n",
       "      <td>CHN</td>\n",
       "      <td>2002 Winter</td>\n",
       "      <td>2002</td>\n",
       "      <td>Winter</td>\n",
       "      <td>Salt Lake City</td>\n",
       "      <td>Short Track Speed Skating</td>\n",
       "      <td>Short Track Speed Skating Men's 5,000 metres R...</td>\n",
       "      <td>Bronze</td>\n",
       "      <td>China</td>\n",
       "    </tr>\n",
       "    <tr>\n",
       "      <th>17</th>\n",
       "      <td>6381</td>\n",
       "      <td>Ba Yan</td>\n",
       "      <td>F</td>\n",
       "      <td>21</td>\n",
       "      <td>183</td>\n",
       "      <td>78</td>\n",
       "      <td>China</td>\n",
       "      <td>CHN</td>\n",
       "      <td>1984 Summer</td>\n",
       "      <td>1984</td>\n",
       "      <td>Summer</td>\n",
       "      <td>Los Angeles</td>\n",
       "      <td>Basketball</td>\n",
       "      <td>Basketball Women's Basketball</td>\n",
       "      <td>Bronze</td>\n",
       "      <td>China</td>\n",
       "    </tr>\n",
       "    <tr>\n",
       "      <th>53</th>\n",
       "      <td>17282</td>\n",
       "      <td>Cai Huijue</td>\n",
       "      <td>F</td>\n",
       "      <td>16</td>\n",
       "      <td>174</td>\n",
       "      <td>63</td>\n",
       "      <td>China</td>\n",
       "      <td>CHN</td>\n",
       "      <td>1996 Summer</td>\n",
       "      <td>1996</td>\n",
       "      <td>Summer</td>\n",
       "      <td>Atlanta</td>\n",
       "      <td>Swimming</td>\n",
       "      <td>Swimming Women's 4 x 100 metres Medley Relay</td>\n",
       "      <td>Bronze</td>\n",
       "      <td>China</td>\n",
       "    </tr>\n",
       "    <tr>\n",
       "      <th>106</th>\n",
       "      <td>18005</td>\n",
       "      <td>Cao Yuan</td>\n",
       "      <td>M</td>\n",
       "      <td>21</td>\n",
       "      <td>160</td>\n",
       "      <td>42</td>\n",
       "      <td>China</td>\n",
       "      <td>CHN</td>\n",
       "      <td>2016 Summer</td>\n",
       "      <td>2016</td>\n",
       "      <td>Summer</td>\n",
       "      <td>Rio de Janeiro</td>\n",
       "      <td>Diving</td>\n",
       "      <td>Diving Men's Synchronized Springboard</td>\n",
       "      <td>Bronze</td>\n",
       "      <td>China</td>\n",
       "    </tr>\n",
       "    <tr>\n",
       "      <th>140</th>\n",
       "      <td>20181</td>\n",
       "      <td>Chen Dequan</td>\n",
       "      <td>M</td>\n",
       "      <td>18</td>\n",
       "      <td>176</td>\n",
       "      <td>66</td>\n",
       "      <td>China</td>\n",
       "      <td>CHN</td>\n",
       "      <td>2014 Winter</td>\n",
       "      <td>2014</td>\n",
       "      <td>Winter</td>\n",
       "      <td>Sochi</td>\n",
       "      <td>Short Track Speed Skating</td>\n",
       "      <td>Short Track Speed Skating Men's 5,000 metres R...</td>\n",
       "      <td>Bronze</td>\n",
       "      <td>China</td>\n",
       "    </tr>\n",
       "    <tr>\n",
       "      <th>176</th>\n",
       "      <td>20215</td>\n",
       "      <td>Chen Jin</td>\n",
       "      <td>M</td>\n",
       "      <td>22</td>\n",
       "      <td>181</td>\n",
       "      <td>73</td>\n",
       "      <td>China</td>\n",
       "      <td>CHN</td>\n",
       "      <td>2008 Summer</td>\n",
       "      <td>2008</td>\n",
       "      <td>Summer</td>\n",
       "      <td>Beijing</td>\n",
       "      <td>Badminton</td>\n",
       "      <td>Badminton Men's Singles</td>\n",
       "      <td>Bronze</td>\n",
       "      <td>China</td>\n",
       "    </tr>\n",
       "    <tr>\n",
       "      <th>203</th>\n",
       "      <td>20238</td>\n",
       "      <td>Chen Long</td>\n",
       "      <td>M</td>\n",
       "      <td>23</td>\n",
       "      <td>188</td>\n",
       "      <td>81</td>\n",
       "      <td>China</td>\n",
       "      <td>CHN</td>\n",
       "      <td>2012 Summer</td>\n",
       "      <td>2012</td>\n",
       "      <td>Summer</td>\n",
       "      <td>London</td>\n",
       "      <td>Badminton</td>\n",
       "      <td>Badminton Men's Singles</td>\n",
       "      <td>Bronze</td>\n",
       "      <td>China</td>\n",
       "    </tr>\n",
       "    <tr>\n",
       "      <th>208</th>\n",
       "      <td>20240</td>\n",
       "      <td>Chen Lu</td>\n",
       "      <td>F</td>\n",
       "      <td>17</td>\n",
       "      <td>162</td>\n",
       "      <td>52</td>\n",
       "      <td>China</td>\n",
       "      <td>CHN</td>\n",
       "      <td>1994 Winter</td>\n",
       "      <td>1994</td>\n",
       "      <td>Winter</td>\n",
       "      <td>Lillehammer</td>\n",
       "      <td>Figure Skating</td>\n",
       "      <td>Figure Skating Women's Singles</td>\n",
       "      <td>Bronze</td>\n",
       "      <td>China</td>\n",
       "    </tr>\n",
       "    <tr>\n",
       "      <th>209</th>\n",
       "      <td>20240</td>\n",
       "      <td>Chen Lu</td>\n",
       "      <td>F</td>\n",
       "      <td>21</td>\n",
       "      <td>162</td>\n",
       "      <td>52</td>\n",
       "      <td>China</td>\n",
       "      <td>CHN</td>\n",
       "      <td>1998 Winter</td>\n",
       "      <td>1998</td>\n",
       "      <td>Winter</td>\n",
       "      <td>Nagano</td>\n",
       "      <td>Figure Skating</td>\n",
       "      <td>Figure Skating Women's Singles</td>\n",
       "      <td>Bronze</td>\n",
       "      <td>China</td>\n",
       "    </tr>\n",
       "  </tbody>\n",
       "</table>\n",
       "</div>"
      ],
      "text/plain": [
       "        ID         Name Sex  Age  Height  Weight   Team  NOC        Games  \\\n",
       "10    3610    An Yulong   M   19     173      70  China  CHN  1998 Winter   \n",
       "11    3610    An Yulong   M   23     173      70  China  CHN  2002 Winter   \n",
       "17    6381       Ba Yan   F   21     183      78  China  CHN  1984 Summer   \n",
       "53   17282   Cai Huijue   F   16     174      63  China  CHN  1996 Summer   \n",
       "106  18005     Cao Yuan   M   21     160      42  China  CHN  2016 Summer   \n",
       "140  20181  Chen Dequan   M   18     176      66  China  CHN  2014 Winter   \n",
       "176  20215     Chen Jin   M   22     181      73  China  CHN  2008 Summer   \n",
       "203  20238    Chen Long   M   23     188      81  China  CHN  2012 Summer   \n",
       "208  20240      Chen Lu   F   17     162      52  China  CHN  1994 Winter   \n",
       "209  20240      Chen Lu   F   21     162      52  China  CHN  1998 Winter   \n",
       "\n",
       "     Year  Season            City                      Sport  \\\n",
       "10   1998  Winter          Nagano  Short Track Speed Skating   \n",
       "11   2002  Winter  Salt Lake City  Short Track Speed Skating   \n",
       "17   1984  Summer     Los Angeles                 Basketball   \n",
       "53   1996  Summer         Atlanta                   Swimming   \n",
       "106  2016  Summer  Rio de Janeiro                     Diving   \n",
       "140  2014  Winter           Sochi  Short Track Speed Skating   \n",
       "176  2008  Summer         Beijing                  Badminton   \n",
       "203  2012  Summer          London                  Badminton   \n",
       "208  1994  Winter     Lillehammer             Figure Skating   \n",
       "209  1998  Winter          Nagano             Figure Skating   \n",
       "\n",
       "                                                 Event   Medal Region  \n",
       "10   Short Track Speed Skating Men's 5,000 metres R...  Bronze  China  \n",
       "11   Short Track Speed Skating Men's 5,000 metres R...  Bronze  China  \n",
       "17                       Basketball Women's Basketball  Bronze  China  \n",
       "53        Swimming Women's 4 x 100 metres Medley Relay  Bronze  China  \n",
       "106              Diving Men's Synchronized Springboard  Bronze  China  \n",
       "140  Short Track Speed Skating Men's 5,000 metres R...  Bronze  China  \n",
       "176                            Badminton Men's Singles  Bronze  China  \n",
       "203                            Badminton Men's Singles  Bronze  China  \n",
       "208                     Figure Skating Women's Singles  Bronze  China  \n",
       "209                     Figure Skating Women's Singles  Bronze  China  "
      ]
     },
     "execution_count": 56,
     "metadata": {},
     "output_type": "execute_result"
    }
   ],
   "source": [
    "bronze_medals = ath_df[(ath_df.Medal == 'Bronze')]\n",
    "bronze_medals.head(10)"
   ]
  },
  {
   "cell_type": "code",
   "execution_count": 57,
   "id": "a1dd7ae1",
   "metadata": {},
   "outputs": [
    {
     "data": {
      "image/png": "[encoded data removed]",
      "text/plain": [
       "<Figure size 1440x720 with 1 Axes>"
      ]
     },
     "metadata": {},
     "output_type": "display_data"
    }
   ],
   "source": [
    "sns.set(style='darkgrid')\n",
    "plt.figure(figsize=(20,10))\n",
    "sns.countplot(bronze_medals['Age'])\n",
    "plt.title('Distribution of Bronze Medals')\n",
    "plt.show()"
   ]
  },
  {
   "cell_type": "markdown",
   "id": "581381ef",
   "metadata": {},
   "source": [
    "athletes whose age between 22 to 25 won most bronze medals"
   ]
  },
  {
   "cell_type": "markdown",
   "id": "f41031cf",
   "metadata": {},
   "source": [
    "# Top 10 country who won gold medal"
   ]
  },
  {
   "cell_type": "code",
   "execution_count": 58,
   "id": "49aeda8c",
   "metadata": {},
   "outputs": [
    {
     "data": {
      "text/html": [
       "<div>\n",
       "<style scoped>\n",
       "    .dataframe tbody tr th:only-of-type {\n",
       "        vertical-align: middle;\n",
       "    }\n",
       "\n",
       "    .dataframe tbody tr th {\n",
       "        vertical-align: top;\n",
       "    }\n",
       "\n",
       "    .dataframe thead th {\n",
       "        text-align: right;\n",
       "    }\n",
       "</style>\n",
       "<table border=\"1\" class=\"dataframe\">\n",
       "  <thead>\n",
       "    <tr style=\"text-align: right;\">\n",
       "      <th></th>\n",
       "      <th>Region</th>\n",
       "      <th>Medal</th>\n",
       "    </tr>\n",
       "  </thead>\n",
       "  <tbody>\n",
       "    <tr>\n",
       "      <th>0</th>\n",
       "      <td>USA</td>\n",
       "      <td>673</td>\n",
       "    </tr>\n",
       "    <tr>\n",
       "      <th>1</th>\n",
       "      <td>Russia</td>\n",
       "      <td>295</td>\n",
       "    </tr>\n",
       "    <tr>\n",
       "      <th>2</th>\n",
       "      <td>Germany</td>\n",
       "      <td>232</td>\n",
       "    </tr>\n",
       "    <tr>\n",
       "      <th>3</th>\n",
       "      <td>Italy</td>\n",
       "      <td>200</td>\n",
       "    </tr>\n",
       "    <tr>\n",
       "      <th>4</th>\n",
       "      <td>UK</td>\n",
       "      <td>199</td>\n",
       "    </tr>\n",
       "    <tr>\n",
       "      <th>5</th>\n",
       "      <td>France</td>\n",
       "      <td>181</td>\n",
       "    </tr>\n",
       "    <tr>\n",
       "      <th>6</th>\n",
       "      <td>Canada</td>\n",
       "      <td>115</td>\n",
       "    </tr>\n",
       "    <tr>\n",
       "      <th>7</th>\n",
       "      <td>Australia</td>\n",
       "      <td>100</td>\n",
       "    </tr>\n",
       "    <tr>\n",
       "      <th>8</th>\n",
       "      <td>Norway</td>\n",
       "      <td>99</td>\n",
       "    </tr>\n",
       "    <tr>\n",
       "      <th>9</th>\n",
       "      <td>Sweden</td>\n",
       "      <td>82</td>\n",
       "    </tr>\n",
       "  </tbody>\n",
       "</table>\n",
       "</div>"
      ],
      "text/plain": [
       "      Region  Medal\n",
       "0        USA    673\n",
       "1     Russia    295\n",
       "2    Germany    232\n",
       "3      Italy    200\n",
       "4         UK    199\n",
       "5     France    181\n",
       "6     Canada    115\n",
       "7  Australia    100\n",
       "8     Norway     99\n",
       "9     Sweden     82"
      ]
     },
     "execution_count": 58,
     "metadata": {},
     "output_type": "execute_result"
    }
   ],
   "source": [
    "gold_country = ath_df[ath_df.Medal == 'Gold'].groupby(['Region']).Medal.size()\n",
    "gold_top_10 = gold_country.sort_values(ascending= False)[:10]\n",
    "gold_top_10 = gold_top_10.reset_index()\n",
    "gold_top_10"
   ]
  },
  {
   "cell_type": "code",
   "execution_count": 59,
   "id": "dd9ff3c9",
   "metadata": {},
   "outputs": [
    {
     "data": {
      "image/png": "[encoded data removed]",
      "text/plain": [
       "<Figure size 720x720 with 1 Axes>"
      ]
     },
     "metadata": {},
     "output_type": "display_data"
    }
   ],
   "source": [
    "#barplot\n",
    "plt.figure(figsize=(10,10))\n",
    "sns.barplot(x=gold_top_10['Region'],y=gold_top_10['Medal'])\n",
    "plt.title('Region wise Medal Count',size=16)\n",
    "plt.xlabel('Region',size=14)\n",
    "plt.ylabel('Medal',size=14)\n",
    "plt.xticks(rotation=90)\n",
    "\n",
    "plt.show()"
   ]
  },
  {
   "cell_type": "markdown",
   "id": "25986e42",
   "metadata": {},
   "source": [
    "USA won most gold medal in all olympic season i.e - 2638"
   ]
  },
  {
   "cell_type": "markdown",
   "id": "96c827e5",
   "metadata": {},
   "source": [
    "# Top 10 country who won silver medal"
   ]
  },
  {
   "cell_type": "code",
   "execution_count": 60,
   "id": "d0f884bd",
   "metadata": {},
   "outputs": [
    {
     "data": {
      "text/html": [
       "<div>\n",
       "<style scoped>\n",
       "    .dataframe tbody tr th:only-of-type {\n",
       "        vertical-align: middle;\n",
       "    }\n",
       "\n",
       "    .dataframe tbody tr th {\n",
       "        vertical-align: top;\n",
       "    }\n",
       "\n",
       "    .dataframe thead th {\n",
       "        text-align: right;\n",
       "    }\n",
       "</style>\n",
       "<table border=\"1\" class=\"dataframe\">\n",
       "  <thead>\n",
       "    <tr style=\"text-align: right;\">\n",
       "      <th></th>\n",
       "      <th>Region</th>\n",
       "      <th>Medal</th>\n",
       "    </tr>\n",
       "  </thead>\n",
       "  <tbody>\n",
       "    <tr>\n",
       "      <th>0</th>\n",
       "      <td>USA</td>\n",
       "      <td>415</td>\n",
       "    </tr>\n",
       "    <tr>\n",
       "      <th>1</th>\n",
       "      <td>Germany</td>\n",
       "      <td>224</td>\n",
       "    </tr>\n",
       "    <tr>\n",
       "      <th>2</th>\n",
       "      <td>Russia</td>\n",
       "      <td>220</td>\n",
       "    </tr>\n",
       "    <tr>\n",
       "      <th>3</th>\n",
       "      <td>France</td>\n",
       "      <td>210</td>\n",
       "    </tr>\n",
       "    <tr>\n",
       "      <th>4</th>\n",
       "      <td>UK</td>\n",
       "      <td>199</td>\n",
       "    </tr>\n",
       "    <tr>\n",
       "      <th>5</th>\n",
       "      <td>Italy</td>\n",
       "      <td>178</td>\n",
       "    </tr>\n",
       "    <tr>\n",
       "      <th>6</th>\n",
       "      <td>Sweden</td>\n",
       "      <td>133</td>\n",
       "    </tr>\n",
       "    <tr>\n",
       "      <th>7</th>\n",
       "      <td>Australia</td>\n",
       "      <td>118</td>\n",
       "    </tr>\n",
       "    <tr>\n",
       "      <th>8</th>\n",
       "      <td>Canada</td>\n",
       "      <td>110</td>\n",
       "    </tr>\n",
       "    <tr>\n",
       "      <th>9</th>\n",
       "      <td>Netherlands</td>\n",
       "      <td>94</td>\n",
       "    </tr>\n",
       "  </tbody>\n",
       "</table>\n",
       "</div>"
      ],
      "text/plain": [
       "        Region  Medal\n",
       "0          USA    415\n",
       "1      Germany    224\n",
       "2       Russia    220\n",
       "3       France    210\n",
       "4           UK    199\n",
       "5        Italy    178\n",
       "6       Sweden    133\n",
       "7    Australia    118\n",
       "8       Canada    110\n",
       "9  Netherlands     94"
      ]
     },
     "execution_count": 60,
     "metadata": {},
     "output_type": "execute_result"
    }
   ],
   "source": [
    "silver_country = ath_df[ath_df.Medal == 'Silver'].groupby(['Region']).Medal.size()\n",
    "silver_top_10 = silver_country.sort_values(ascending= False)[:10]\n",
    "silver_top_10 = silver_top_10.reset_index()\n",
    "silver_top_10"
   ]
  },
  {
   "cell_type": "code",
   "execution_count": 61,
   "id": "ed412ce7",
   "metadata": {},
   "outputs": [
    {
     "data": {
      "image/png": "[encoded data removed]",
      "text/plain": [
       "<Figure size 720x720 with 1 Axes>"
      ]
     },
     "metadata": {},
     "output_type": "display_data"
    }
   ],
   "source": [
    "plt.figure(figsize=(10,10))\n",
    "sns.barplot(x=silver_top_10['Region'],y=silver_top_10['Medal'])\n",
    "plt.title('Region wise Medal Count',size=16)\n",
    "plt.xlabel('Region',size=14)\n",
    "plt.ylabel('Medal',size=14)\n",
    "plt.xticks(rotation=90)\n",
    "\n",
    "plt.show()"
   ]
  },
  {
   "cell_type": "markdown",
   "id": "2b362db2",
   "metadata": {},
   "source": [
    "USA won most silver medal in all season of olympics i.e-1641"
   ]
  },
  {
   "cell_type": "markdown",
   "id": "8333dc9c",
   "metadata": {},
   "source": [
    "# Top 10 country who won Bronze medal"
   ]
  },
  {
   "cell_type": "code",
   "execution_count": 62,
   "id": "73109fd3",
   "metadata": {},
   "outputs": [
    {
     "data": {
      "text/html": [
       "<div>\n",
       "<style scoped>\n",
       "    .dataframe tbody tr th:only-of-type {\n",
       "        vertical-align: middle;\n",
       "    }\n",
       "\n",
       "    .dataframe tbody tr th {\n",
       "        vertical-align: top;\n",
       "    }\n",
       "\n",
       "    .dataframe thead th {\n",
       "        text-align: right;\n",
       "    }\n",
       "</style>\n",
       "<table border=\"1\" class=\"dataframe\">\n",
       "  <thead>\n",
       "    <tr style=\"text-align: right;\">\n",
       "      <th></th>\n",
       "      <th>Region</th>\n",
       "      <th>Medal</th>\n",
       "    </tr>\n",
       "  </thead>\n",
       "  <tbody>\n",
       "    <tr>\n",
       "      <th>0</th>\n",
       "      <td>USA</td>\n",
       "      <td>347</td>\n",
       "    </tr>\n",
       "    <tr>\n",
       "      <th>1</th>\n",
       "      <td>France</td>\n",
       "      <td>242</td>\n",
       "    </tr>\n",
       "    <tr>\n",
       "      <th>2</th>\n",
       "      <td>Russia</td>\n",
       "      <td>236</td>\n",
       "    </tr>\n",
       "    <tr>\n",
       "      <th>3</th>\n",
       "      <td>Germany</td>\n",
       "      <td>222</td>\n",
       "    </tr>\n",
       "    <tr>\n",
       "      <th>4</th>\n",
       "      <td>UK</td>\n",
       "      <td>182</td>\n",
       "    </tr>\n",
       "    <tr>\n",
       "      <th>5</th>\n",
       "      <td>Italy</td>\n",
       "      <td>177</td>\n",
       "    </tr>\n",
       "    <tr>\n",
       "      <th>6</th>\n",
       "      <td>Australia</td>\n",
       "      <td>147</td>\n",
       "    </tr>\n",
       "    <tr>\n",
       "      <th>7</th>\n",
       "      <td>Sweden</td>\n",
       "      <td>140</td>\n",
       "    </tr>\n",
       "    <tr>\n",
       "      <th>8</th>\n",
       "      <td>Canada</td>\n",
       "      <td>120</td>\n",
       "    </tr>\n",
       "    <tr>\n",
       "      <th>9</th>\n",
       "      <td>Netherlands</td>\n",
       "      <td>114</td>\n",
       "    </tr>\n",
       "  </tbody>\n",
       "</table>\n",
       "</div>"
      ],
      "text/plain": [
       "        Region  Medal\n",
       "0          USA    347\n",
       "1       France    242\n",
       "2       Russia    236\n",
       "3      Germany    222\n",
       "4           UK    182\n",
       "5        Italy    177\n",
       "6    Australia    147\n",
       "7       Sweden    140\n",
       "8       Canada    120\n",
       "9  Netherlands    114"
      ]
     },
     "execution_count": 62,
     "metadata": {},
     "output_type": "execute_result"
    }
   ],
   "source": [
    "bronze_country = ath_df[ath_df.Medal == 'Bronze'].groupby(['Region']).Medal.size()\n",
    "bronze_top_10 = bronze_country.sort_values(ascending= False)[:10]\n",
    "bronze_top_10 = bronze_top_10.reset_index()\n",
    "bronze_top_10"
   ]
  },
  {
   "cell_type": "code",
   "execution_count": 63,
   "id": "2c002023",
   "metadata": {},
   "outputs": [
    {
     "data": {
      "image/png": "[encoded data removed]",
      "text/plain": [
       "<Figure size 720x720 with 1 Axes>"
      ]
     },
     "metadata": {},
     "output_type": "display_data"
    }
   ],
   "source": [
    "plt.figure(figsize=(10,10))\n",
    "sns.barplot(x=bronze_top_10['Region'],y=bronze_top_10['Medal'])\n",
    "plt.title('Region wise Medal Count',size=16)\n",
    "plt.xlabel('Region',size=14)\n",
    "plt.ylabel('Medal',size=14)\n",
    "plt.xticks(rotation=90)\n",
    "\n",
    "plt.show()"
   ]
  },
  {
   "cell_type": "markdown",
   "id": "f0a82dac",
   "metadata": {},
   "source": [
    "USA won most bronze medal in all olympics season i.e-1358"
   ]
  },
  {
   "cell_type": "markdown",
   "id": "34c46453",
   "metadata": {},
   "source": [
    "# Indian Gold Medalist list"
   ]
  },
  {
   "cell_type": "code",
   "execution_count": 64,
   "id": "f91f48eb",
   "metadata": {},
   "outputs": [
    {
     "data": {
      "text/html": [
       "<div>\n",
       "<style scoped>\n",
       "    .dataframe tbody tr th:only-of-type {\n",
       "        vertical-align: middle;\n",
       "    }\n",
       "\n",
       "    .dataframe tbody tr th {\n",
       "        vertical-align: top;\n",
       "    }\n",
       "\n",
       "    .dataframe thead th {\n",
       "        text-align: right;\n",
       "    }\n",
       "</style>\n",
       "<table border=\"1\" class=\"dataframe\">\n",
       "  <thead>\n",
       "    <tr style=\"text-align: right;\">\n",
       "      <th></th>\n",
       "      <th>ID</th>\n",
       "      <th>Name</th>\n",
       "      <th>Sex</th>\n",
       "      <th>Age</th>\n",
       "      <th>Height</th>\n",
       "      <th>Weight</th>\n",
       "      <th>Team</th>\n",
       "      <th>NOC</th>\n",
       "      <th>Games</th>\n",
       "      <th>Year</th>\n",
       "      <th>Season</th>\n",
       "      <th>City</th>\n",
       "      <th>Sport</th>\n",
       "      <th>Event</th>\n",
       "      <th>Medal</th>\n",
       "      <th>Region</th>\n",
       "    </tr>\n",
       "  </thead>\n",
       "  <tbody>\n",
       "    <tr>\n",
       "      <th>41191</th>\n",
       "      <td>2699</td>\n",
       "      <td>Shaukat Ali</td>\n",
       "      <td>M</td>\n",
       "      <td>30</td>\n",
       "      <td>0</td>\n",
       "      <td>0</td>\n",
       "      <td>India</td>\n",
       "      <td>IND</td>\n",
       "      <td>1928 Summer</td>\n",
       "      <td>1928</td>\n",
       "      <td>Summer</td>\n",
       "      <td>Amsterdam</td>\n",
       "      <td>Hockey</td>\n",
       "      <td>Hockey Men's Hockey</td>\n",
       "      <td>Gold</td>\n",
       "      <td>India</td>\n",
       "    </tr>\n",
       "    <tr>\n",
       "      <th>41193</th>\n",
       "      <td>2703</td>\n",
       "      <td>Syed Mushtaq Ali</td>\n",
       "      <td>M</td>\n",
       "      <td>22</td>\n",
       "      <td>165</td>\n",
       "      <td>61</td>\n",
       "      <td>India</td>\n",
       "      <td>IND</td>\n",
       "      <td>1964 Summer</td>\n",
       "      <td>1964</td>\n",
       "      <td>Summer</td>\n",
       "      <td>Tokyo</td>\n",
       "      <td>Hockey</td>\n",
       "      <td>Hockey Men's Hockey</td>\n",
       "      <td>Gold</td>\n",
       "      <td>India</td>\n",
       "    </tr>\n",
       "    <tr>\n",
       "      <th>41195</th>\n",
       "      <td>2864</td>\n",
       "      <td>Richard James Allen</td>\n",
       "      <td>M</td>\n",
       "      <td>25</td>\n",
       "      <td>172</td>\n",
       "      <td>0</td>\n",
       "      <td>India</td>\n",
       "      <td>IND</td>\n",
       "      <td>1928 Summer</td>\n",
       "      <td>1928</td>\n",
       "      <td>Summer</td>\n",
       "      <td>Amsterdam</td>\n",
       "      <td>Hockey</td>\n",
       "      <td>Hockey Men's Hockey</td>\n",
       "      <td>Gold</td>\n",
       "      <td>India</td>\n",
       "    </tr>\n",
       "    <tr>\n",
       "      <th>41196</th>\n",
       "      <td>2864</td>\n",
       "      <td>Richard James Allen</td>\n",
       "      <td>M</td>\n",
       "      <td>30</td>\n",
       "      <td>172</td>\n",
       "      <td>0</td>\n",
       "      <td>India</td>\n",
       "      <td>IND</td>\n",
       "      <td>1932 Summer</td>\n",
       "      <td>1932</td>\n",
       "      <td>Summer</td>\n",
       "      <td>Los Angeles</td>\n",
       "      <td>Hockey</td>\n",
       "      <td>Hockey Men's Hockey</td>\n",
       "      <td>Gold</td>\n",
       "      <td>India</td>\n",
       "    </tr>\n",
       "    <tr>\n",
       "      <th>41197</th>\n",
       "      <td>2864</td>\n",
       "      <td>Richard James Allen</td>\n",
       "      <td>M</td>\n",
       "      <td>34</td>\n",
       "      <td>172</td>\n",
       "      <td>0</td>\n",
       "      <td>India</td>\n",
       "      <td>IND</td>\n",
       "      <td>1936 Summer</td>\n",
       "      <td>1936</td>\n",
       "      <td>Summer</td>\n",
       "      <td>Berlin</td>\n",
       "      <td>Hockey</td>\n",
       "      <td>Hockey Men's Hockey</td>\n",
       "      <td>Gold</td>\n",
       "      <td>India</td>\n",
       "    </tr>\n",
       "    <tr>\n",
       "      <th>41217</th>\n",
       "      <td>5618</td>\n",
       "      <td>Sardar Mohammad Aslam</td>\n",
       "      <td>M</td>\n",
       "      <td>0</td>\n",
       "      <td>0</td>\n",
       "      <td>0</td>\n",
       "      <td>India</td>\n",
       "      <td>IND</td>\n",
       "      <td>1932 Summer</td>\n",
       "      <td>1932</td>\n",
       "      <td>Summer</td>\n",
       "      <td>Los Angeles</td>\n",
       "      <td>Hockey</td>\n",
       "      <td>Hockey Men's Hockey</td>\n",
       "      <td>Gold</td>\n",
       "      <td>India</td>\n",
       "    </tr>\n",
       "    <tr>\n",
       "      <th>41266</th>\n",
       "      <td>11197</td>\n",
       "      <td>Vasudevan Bhaskaran</td>\n",
       "      <td>M</td>\n",
       "      <td>29</td>\n",
       "      <td>174</td>\n",
       "      <td>68</td>\n",
       "      <td>India</td>\n",
       "      <td>IND</td>\n",
       "      <td>1980 Summer</td>\n",
       "      <td>1980</td>\n",
       "      <td>Summer</td>\n",
       "      <td>Moskva</td>\n",
       "      <td>Hockey</td>\n",
       "      <td>Hockey Men's Hockey</td>\n",
       "      <td>Gold</td>\n",
       "      <td>India</td>\n",
       "    </tr>\n",
       "    <tr>\n",
       "      <th>41294</th>\n",
       "      <td>11601</td>\n",
       "      <td>Abhinav Bindra</td>\n",
       "      <td>M</td>\n",
       "      <td>25</td>\n",
       "      <td>173</td>\n",
       "      <td>70</td>\n",
       "      <td>India</td>\n",
       "      <td>IND</td>\n",
       "      <td>2008 Summer</td>\n",
       "      <td>2008</td>\n",
       "      <td>Summer</td>\n",
       "      <td>Beijing</td>\n",
       "      <td>Shooting</td>\n",
       "      <td>Shooting Men's Air Rifle, 10 metres</td>\n",
       "      <td>Gold</td>\n",
       "      <td>India</td>\n",
       "    </tr>\n",
       "    <tr>\n",
       "      <th>41309</th>\n",
       "      <td>12911</td>\n",
       "      <td>Lal Shah S. Bokhari</td>\n",
       "      <td>M</td>\n",
       "      <td>23</td>\n",
       "      <td>173</td>\n",
       "      <td>0</td>\n",
       "      <td>India</td>\n",
       "      <td>IND</td>\n",
       "      <td>1932 Summer</td>\n",
       "      <td>1932</td>\n",
       "      <td>Summer</td>\n",
       "      <td>Los Angeles</td>\n",
       "      <td>Hockey</td>\n",
       "      <td>Hockey Men's Hockey</td>\n",
       "      <td>Gold</td>\n",
       "      <td>India</td>\n",
       "    </tr>\n",
       "    <tr>\n",
       "      <th>41316</th>\n",
       "      <td>15011</td>\n",
       "      <td>Frank Gerald Singlehurst Brewin</td>\n",
       "      <td>M</td>\n",
       "      <td>22</td>\n",
       "      <td>0</td>\n",
       "      <td>0</td>\n",
       "      <td>India</td>\n",
       "      <td>IND</td>\n",
       "      <td>1932 Summer</td>\n",
       "      <td>1932</td>\n",
       "      <td>Summer</td>\n",
       "      <td>Los Angeles</td>\n",
       "      <td>Hockey</td>\n",
       "      <td>Hockey Men's Hockey</td>\n",
       "      <td>Gold</td>\n",
       "      <td>India</td>\n",
       "    </tr>\n",
       "    <tr>\n",
       "      <th>41329</th>\n",
       "      <td>18475</td>\n",
       "      <td>Richard John \"Dickie\" Carr</td>\n",
       "      <td>M</td>\n",
       "      <td>21</td>\n",
       "      <td>180</td>\n",
       "      <td>0</td>\n",
       "      <td>India</td>\n",
       "      <td>IND</td>\n",
       "      <td>1932 Summer</td>\n",
       "      <td>1932</td>\n",
       "      <td>Summer</td>\n",
       "      <td>Los Angeles</td>\n",
       "      <td>Hockey</td>\n",
       "      <td>Hockey Men's Hockey</td>\n",
       "      <td>Gold</td>\n",
       "      <td>India</td>\n",
       "    </tr>\n",
       "    <tr>\n",
       "      <th>41338</th>\n",
       "      <td>19716</td>\n",
       "      <td>Dhyan Chand Bais</td>\n",
       "      <td>M</td>\n",
       "      <td>22</td>\n",
       "      <td>169</td>\n",
       "      <td>0</td>\n",
       "      <td>India</td>\n",
       "      <td>IND</td>\n",
       "      <td>1928 Summer</td>\n",
       "      <td>1928</td>\n",
       "      <td>Summer</td>\n",
       "      <td>Amsterdam</td>\n",
       "      <td>Hockey</td>\n",
       "      <td>Hockey Men's Hockey</td>\n",
       "      <td>Gold</td>\n",
       "      <td>India</td>\n",
       "    </tr>\n",
       "    <tr>\n",
       "      <th>41339</th>\n",
       "      <td>19716</td>\n",
       "      <td>Dhyan Chand Bais</td>\n",
       "      <td>M</td>\n",
       "      <td>26</td>\n",
       "      <td>169</td>\n",
       "      <td>0</td>\n",
       "      <td>India</td>\n",
       "      <td>IND</td>\n",
       "      <td>1932 Summer</td>\n",
       "      <td>1932</td>\n",
       "      <td>Summer</td>\n",
       "      <td>Los Angeles</td>\n",
       "      <td>Hockey</td>\n",
       "      <td>Hockey Men's Hockey</td>\n",
       "      <td>Gold</td>\n",
       "      <td>India</td>\n",
       "    </tr>\n",
       "    <tr>\n",
       "      <th>41340</th>\n",
       "      <td>19716</td>\n",
       "      <td>Dhyan Chand Bais</td>\n",
       "      <td>M</td>\n",
       "      <td>30</td>\n",
       "      <td>169</td>\n",
       "      <td>0</td>\n",
       "      <td>India</td>\n",
       "      <td>IND</td>\n",
       "      <td>1936 Summer</td>\n",
       "      <td>1936</td>\n",
       "      <td>Summer</td>\n",
       "      <td>Berlin</td>\n",
       "      <td>Hockey</td>\n",
       "      <td>Hockey Men's Hockey</td>\n",
       "      <td>Gold</td>\n",
       "      <td>India</td>\n",
       "    </tr>\n",
       "    <tr>\n",
       "      <th>41373</th>\n",
       "      <td>20565</td>\n",
       "      <td>Bir Bahadur Chettri</td>\n",
       "      <td>M</td>\n",
       "      <td>24</td>\n",
       "      <td>165</td>\n",
       "      <td>68</td>\n",
       "      <td>India</td>\n",
       "      <td>IND</td>\n",
       "      <td>1980 Summer</td>\n",
       "      <td>1980</td>\n",
       "      <td>Summer</td>\n",
       "      <td>Moskva</td>\n",
       "      <td>Hockey</td>\n",
       "      <td>Hockey Men's Hockey</td>\n",
       "      <td>Gold</td>\n",
       "      <td>India</td>\n",
       "    </tr>\n",
       "    <tr>\n",
       "      <th>41381</th>\n",
       "      <td>21912</td>\n",
       "      <td>Leslie Walter Claudius</td>\n",
       "      <td>M</td>\n",
       "      <td>21</td>\n",
       "      <td>162</td>\n",
       "      <td>53</td>\n",
       "      <td>India</td>\n",
       "      <td>IND</td>\n",
       "      <td>1948 Summer</td>\n",
       "      <td>1948</td>\n",
       "      <td>Summer</td>\n",
       "      <td>London</td>\n",
       "      <td>Hockey</td>\n",
       "      <td>Hockey Men's Hockey</td>\n",
       "      <td>Gold</td>\n",
       "      <td>India</td>\n",
       "    </tr>\n",
       "    <tr>\n",
       "      <th>41382</th>\n",
       "      <td>21912</td>\n",
       "      <td>Leslie Walter Claudius</td>\n",
       "      <td>M</td>\n",
       "      <td>25</td>\n",
       "      <td>162</td>\n",
       "      <td>53</td>\n",
       "      <td>India</td>\n",
       "      <td>IND</td>\n",
       "      <td>1952 Summer</td>\n",
       "      <td>1952</td>\n",
       "      <td>Summer</td>\n",
       "      <td>Helsinki</td>\n",
       "      <td>Hockey</td>\n",
       "      <td>Hockey Men's Hockey</td>\n",
       "      <td>Gold</td>\n",
       "      <td>India</td>\n",
       "    </tr>\n",
       "    <tr>\n",
       "      <th>41383</th>\n",
       "      <td>21912</td>\n",
       "      <td>Leslie Walter Claudius</td>\n",
       "      <td>M</td>\n",
       "      <td>29</td>\n",
       "      <td>162</td>\n",
       "      <td>53</td>\n",
       "      <td>India</td>\n",
       "      <td>IND</td>\n",
       "      <td>1956 Summer</td>\n",
       "      <td>1956</td>\n",
       "      <td>Summer</td>\n",
       "      <td>Melbourne</td>\n",
       "      <td>Hockey</td>\n",
       "      <td>Hockey Men's Hockey</td>\n",
       "      <td>Gold</td>\n",
       "      <td>India</td>\n",
       "    </tr>\n",
       "    <tr>\n",
       "      <th>41389</th>\n",
       "      <td>25047</td>\n",
       "      <td>Meldric St. Clair daLuz Vieira</td>\n",
       "      <td>M</td>\n",
       "      <td>31</td>\n",
       "      <td>0</td>\n",
       "      <td>0</td>\n",
       "      <td>India</td>\n",
       "      <td>IND</td>\n",
       "      <td>1952 Summer</td>\n",
       "      <td>1952</td>\n",
       "      <td>Summer</td>\n",
       "      <td>Helsinki</td>\n",
       "      <td>Hockey</td>\n",
       "      <td>Hockey Men's Hockey</td>\n",
       "      <td>Gold</td>\n",
       "      <td>India</td>\n",
       "    </tr>\n",
       "    <tr>\n",
       "      <th>41392</th>\n",
       "      <td>25339</td>\n",
       "      <td>Ali Iqtidar Shah Dara</td>\n",
       "      <td>M</td>\n",
       "      <td>21</td>\n",
       "      <td>0</td>\n",
       "      <td>0</td>\n",
       "      <td>India</td>\n",
       "      <td>IND</td>\n",
       "      <td>1936 Summer</td>\n",
       "      <td>1936</td>\n",
       "      <td>Summer</td>\n",
       "      <td>Berlin</td>\n",
       "      <td>Hockey</td>\n",
       "      <td>Hockey Men's Hockey</td>\n",
       "      <td>Gold</td>\n",
       "      <td>India</td>\n",
       "    </tr>\n",
       "    <tr>\n",
       "      <th>41404</th>\n",
       "      <td>26677</td>\n",
       "      <td>Walter Louis Joseph de Sousa</td>\n",
       "      <td>M</td>\n",
       "      <td>27</td>\n",
       "      <td>0</td>\n",
       "      <td>0</td>\n",
       "      <td>India</td>\n",
       "      <td>IND</td>\n",
       "      <td>1948 Summer</td>\n",
       "      <td>1948</td>\n",
       "      <td>Summer</td>\n",
       "      <td>London</td>\n",
       "      <td>Hockey</td>\n",
       "      <td>Hockey Men's Hockey</td>\n",
       "      <td>Gold</td>\n",
       "      <td>India</td>\n",
       "    </tr>\n",
       "    <tr>\n",
       "      <th>41405</th>\n",
       "      <td>27792</td>\n",
       "      <td>Chinadorai Deshmutu</td>\n",
       "      <td>M</td>\n",
       "      <td>19</td>\n",
       "      <td>0</td>\n",
       "      <td>0</td>\n",
       "      <td>India</td>\n",
       "      <td>IND</td>\n",
       "      <td>1952 Summer</td>\n",
       "      <td>1952</td>\n",
       "      <td>Summer</td>\n",
       "      <td>Helsinki</td>\n",
       "      <td>Hockey</td>\n",
       "      <td>Hockey Men's Hockey</td>\n",
       "      <td>Gold</td>\n",
       "      <td>India</td>\n",
       "    </tr>\n",
       "    <tr>\n",
       "      <th>41439</th>\n",
       "      <td>30911</td>\n",
       "      <td>Keshav Chandra Dutt</td>\n",
       "      <td>M</td>\n",
       "      <td>22</td>\n",
       "      <td>0</td>\n",
       "      <td>0</td>\n",
       "      <td>India</td>\n",
       "      <td>IND</td>\n",
       "      <td>1948 Summer</td>\n",
       "      <td>1948</td>\n",
       "      <td>Summer</td>\n",
       "      <td>London</td>\n",
       "      <td>Hockey</td>\n",
       "      <td>Hockey Men's Hockey</td>\n",
       "      <td>Gold</td>\n",
       "      <td>India</td>\n",
       "    </tr>\n",
       "    <tr>\n",
       "      <th>41440</th>\n",
       "      <td>30911</td>\n",
       "      <td>Keshav Chandra Dutt</td>\n",
       "      <td>M</td>\n",
       "      <td>26</td>\n",
       "      <td>0</td>\n",
       "      <td>0</td>\n",
       "      <td>India</td>\n",
       "      <td>IND</td>\n",
       "      <td>1952 Summer</td>\n",
       "      <td>1952</td>\n",
       "      <td>Summer</td>\n",
       "      <td>Helsinki</td>\n",
       "      <td>Hockey</td>\n",
       "      <td>Hockey Men's Hockey</td>\n",
       "      <td>Gold</td>\n",
       "      <td>India</td>\n",
       "    </tr>\n",
       "    <tr>\n",
       "      <th>41455</th>\n",
       "      <td>32514</td>\n",
       "      <td>Lionel Charles Renwick Emmett</td>\n",
       "      <td>M</td>\n",
       "      <td>23</td>\n",
       "      <td>0</td>\n",
       "      <td>0</td>\n",
       "      <td>India</td>\n",
       "      <td>IND</td>\n",
       "      <td>1936 Summer</td>\n",
       "      <td>1936</td>\n",
       "      <td>Summer</td>\n",
       "      <td>Berlin</td>\n",
       "      <td>Hockey</td>\n",
       "      <td>Hockey Men's Hockey</td>\n",
       "      <td>Gold</td>\n",
       "      <td>India</td>\n",
       "    </tr>\n",
       "  </tbody>\n",
       "</table>\n",
       "</div>"
      ],
      "text/plain": [
       "          ID                             Name Sex  Age  Height  Weight   Team  \\\n",
       "41191   2699                      Shaukat Ali   M   30       0       0  India   \n",
       "41193   2703                 Syed Mushtaq Ali   M   22     165      61  India   \n",
       "41195   2864              Richard James Allen   M   25     172       0  India   \n",
       "41196   2864              Richard James Allen   M   30     172       0  India   \n",
       "41197   2864              Richard James Allen   M   34     172       0  India   \n",
       "41217   5618            Sardar Mohammad Aslam   M    0       0       0  India   \n",
       "41266  11197              Vasudevan Bhaskaran   M   29     174      68  India   \n",
       "41294  11601                   Abhinav Bindra   M   25     173      70  India   \n",
       "41309  12911              Lal Shah S. Bokhari   M   23     173       0  India   \n",
       "41316  15011  Frank Gerald Singlehurst Brewin   M   22       0       0  India   \n",
       "41329  18475       Richard John \"Dickie\" Carr   M   21     180       0  India   \n",
       "41338  19716                 Dhyan Chand Bais   M   22     169       0  India   \n",
       "41339  19716                 Dhyan Chand Bais   M   26     169       0  India   \n",
       "41340  19716                 Dhyan Chand Bais   M   30     169       0  India   \n",
       "41373  20565              Bir Bahadur Chettri   M   24     165      68  India   \n",
       "41381  21912           Leslie Walter Claudius   M   21     162      53  India   \n",
       "41382  21912           Leslie Walter Claudius   M   25     162      53  India   \n",
       "41383  21912           Leslie Walter Claudius   M   29     162      53  India   \n",
       "41389  25047   Meldric St. Clair daLuz Vieira   M   31       0       0  India   \n",
       "41392  25339            Ali Iqtidar Shah Dara   M   21       0       0  India   \n",
       "41404  26677     Walter Louis Joseph de Sousa   M   27       0       0  India   \n",
       "41405  27792              Chinadorai Deshmutu   M   19       0       0  India   \n",
       "41439  30911              Keshav Chandra Dutt   M   22       0       0  India   \n",
       "41440  30911              Keshav Chandra Dutt   M   26       0       0  India   \n",
       "41455  32514    Lionel Charles Renwick Emmett   M   23       0       0  India   \n",
       "\n",
       "       NOC        Games  Year  Season         City     Sport  \\\n",
       "41191  IND  1928 Summer  1928  Summer    Amsterdam    Hockey   \n",
       "41193  IND  1964 Summer  1964  Summer        Tokyo    Hockey   \n",
       "41195  IND  1928 Summer  1928  Summer    Amsterdam    Hockey   \n",
       "41196  IND  1932 Summer  1932  Summer  Los Angeles    Hockey   \n",
       "41197  IND  1936 Summer  1936  Summer       Berlin    Hockey   \n",
       "41217  IND  1932 Summer  1932  Summer  Los Angeles    Hockey   \n",
       "41266  IND  1980 Summer  1980  Summer       Moskva    Hockey   \n",
       "41294  IND  2008 Summer  2008  Summer      Beijing  Shooting   \n",
       "41309  IND  1932 Summer  1932  Summer  Los Angeles    Hockey   \n",
       "41316  IND  1932 Summer  1932  Summer  Los Angeles    Hockey   \n",
       "41329  IND  1932 Summer  1932  Summer  Los Angeles    Hockey   \n",
       "41338  IND  1928 Summer  1928  Summer    Amsterdam    Hockey   \n",
       "41339  IND  1932 Summer  1932  Summer  Los Angeles    Hockey   \n",
       "41340  IND  1936 Summer  1936  Summer       Berlin    Hockey   \n",
       "41373  IND  1980 Summer  1980  Summer       Moskva    Hockey   \n",
       "41381  IND  1948 Summer  1948  Summer       London    Hockey   \n",
       "41382  IND  1952 Summer  1952  Summer     Helsinki    Hockey   \n",
       "41383  IND  1956 Summer  1956  Summer    Melbourne    Hockey   \n",
       "41389  IND  1952 Summer  1952  Summer     Helsinki    Hockey   \n",
       "41392  IND  1936 Summer  1936  Summer       Berlin    Hockey   \n",
       "41404  IND  1948 Summer  1948  Summer       London    Hockey   \n",
       "41405  IND  1952 Summer  1952  Summer     Helsinki    Hockey   \n",
       "41439  IND  1948 Summer  1948  Summer       London    Hockey   \n",
       "41440  IND  1952 Summer  1952  Summer     Helsinki    Hockey   \n",
       "41455  IND  1936 Summer  1936  Summer       Berlin    Hockey   \n",
       "\n",
       "                                     Event Medal Region  \n",
       "41191                  Hockey Men's Hockey  Gold  India  \n",
       "41193                  Hockey Men's Hockey  Gold  India  \n",
       "41195                  Hockey Men's Hockey  Gold  India  \n",
       "41196                  Hockey Men's Hockey  Gold  India  \n",
       "41197                  Hockey Men's Hockey  Gold  India  \n",
       "41217                  Hockey Men's Hockey  Gold  India  \n",
       "41266                  Hockey Men's Hockey  Gold  India  \n",
       "41294  Shooting Men's Air Rifle, 10 metres  Gold  India  \n",
       "41309                  Hockey Men's Hockey  Gold  India  \n",
       "41316                  Hockey Men's Hockey  Gold  India  \n",
       "41329                  Hockey Men's Hockey  Gold  India  \n",
       "41338                  Hockey Men's Hockey  Gold  India  \n",
       "41339                  Hockey Men's Hockey  Gold  India  \n",
       "41340                  Hockey Men's Hockey  Gold  India  \n",
       "41373                  Hockey Men's Hockey  Gold  India  \n",
       "41381                  Hockey Men's Hockey  Gold  India  \n",
       "41382                  Hockey Men's Hockey  Gold  India  \n",
       "41383                  Hockey Men's Hockey  Gold  India  \n",
       "41389                  Hockey Men's Hockey  Gold  India  \n",
       "41392                  Hockey Men's Hockey  Gold  India  \n",
       "41404                  Hockey Men's Hockey  Gold  India  \n",
       "41405                  Hockey Men's Hockey  Gold  India  \n",
       "41439                  Hockey Men's Hockey  Gold  India  \n",
       "41440                  Hockey Men's Hockey  Gold  India  \n",
       "41455                  Hockey Men's Hockey  Gold  India  "
      ]
     },
     "execution_count": 64,
     "metadata": {},
     "output_type": "execute_result"
    }
   ],
   "source": [
    "g_medal_India = ath_df[(ath_df.Medal == 'Gold') & (ath_df.Team == 'India')]\n",
    "g_medal_India"
   ]
  },
  {
   "cell_type": "markdown",
   "id": "bbc6b6f2",
   "metadata": {},
   "source": [
    "# Age wise Distribution of Indian Gold medalist"
   ]
  },
  {
   "cell_type": "code",
   "execution_count": 65,
   "id": "26a1031f",
   "metadata": {},
   "outputs": [
    {
     "data": {
      "image/png": "[encoded data removed]",
      "text/plain": [
       "<Figure size 1440x720 with 1 Axes>"
      ]
     },
     "metadata": {},
     "output_type": "display_data"
    }
   ],
   "source": [
    "plt.figure(figsize=(20,10))\n",
    "sns.countplot(g_medal_India['Age'])\n",
    "plt.title('Distribution of Gold Medals of India')\n",
    "plt.show()"
   ]
  },
  {
   "cell_type": "markdown",
   "id": "dd7d70be",
   "metadata": {},
   "source": [
    "# Name sport in which India won Gold Medal"
   ]
  },
  {
   "cell_type": "code",
   "execution_count": 66,
   "id": "95530074",
   "metadata": {},
   "outputs": [
    {
     "data": {
      "text/plain": [
       "41191      Hockey\n",
       "41193      Hockey\n",
       "41195      Hockey\n",
       "41196      Hockey\n",
       "41197      Hockey\n",
       "41217      Hockey\n",
       "41266      Hockey\n",
       "41294    Shooting\n",
       "41309      Hockey\n",
       "41316      Hockey\n",
       "41329      Hockey\n",
       "41338      Hockey\n",
       "41339      Hockey\n",
       "41340      Hockey\n",
       "41373      Hockey\n",
       "41381      Hockey\n",
       "41382      Hockey\n",
       "41383      Hockey\n",
       "41389      Hockey\n",
       "41392      Hockey\n",
       "41404      Hockey\n",
       "41405      Hockey\n",
       "41439      Hockey\n",
       "41440      Hockey\n",
       "41455      Hockey\n",
       "Name: Sport, dtype: object"
      ]
     },
     "execution_count": 66,
     "metadata": {},
     "output_type": "execute_result"
    }
   ],
   "source": [
    "sporting_event = g_medal_India['Sport']\n",
    "sporting_event"
   ]
  },
  {
   "cell_type": "markdown",
   "id": "de55bbbb",
   "metadata": {},
   "source": [
    "# Indian Silver Medalist list"
   ]
  },
  {
   "cell_type": "code",
   "execution_count": 67,
   "id": "f5f9e370",
   "metadata": {},
   "outputs": [
    {
     "data": {
      "text/html": [
       "<div>\n",
       "<style scoped>\n",
       "    .dataframe tbody tr th:only-of-type {\n",
       "        vertical-align: middle;\n",
       "    }\n",
       "\n",
       "    .dataframe tbody tr th {\n",
       "        vertical-align: top;\n",
       "    }\n",
       "\n",
       "    .dataframe thead th {\n",
       "        text-align: right;\n",
       "    }\n",
       "</style>\n",
       "<table border=\"1\" class=\"dataframe\">\n",
       "  <thead>\n",
       "    <tr style=\"text-align: right;\">\n",
       "      <th></th>\n",
       "      <th>ID</th>\n",
       "      <th>Name</th>\n",
       "      <th>Sex</th>\n",
       "      <th>Age</th>\n",
       "      <th>Height</th>\n",
       "      <th>Weight</th>\n",
       "      <th>Team</th>\n",
       "      <th>NOC</th>\n",
       "      <th>Games</th>\n",
       "      <th>Year</th>\n",
       "      <th>Season</th>\n",
       "      <th>City</th>\n",
       "      <th>Sport</th>\n",
       "      <th>Event</th>\n",
       "      <th>Medal</th>\n",
       "      <th>Region</th>\n",
       "    </tr>\n",
       "  </thead>\n",
       "  <tbody>\n",
       "    <tr>\n",
       "      <th>41209</th>\n",
       "      <td>4518</td>\n",
       "      <td>Joseph Anthony \"Joe\" Antic</td>\n",
       "      <td>M</td>\n",
       "      <td>29</td>\n",
       "      <td>168</td>\n",
       "      <td>59</td>\n",
       "      <td>India</td>\n",
       "      <td>IND</td>\n",
       "      <td>1960 Summer</td>\n",
       "      <td>1960</td>\n",
       "      <td>Summer</td>\n",
       "      <td>Roma</td>\n",
       "      <td>Hockey</td>\n",
       "      <td>Hockey Men's Hockey</td>\n",
       "      <td>Silver</td>\n",
       "      <td>India</td>\n",
       "    </tr>\n",
       "    <tr>\n",
       "      <th>41384</th>\n",
       "      <td>21912</td>\n",
       "      <td>Leslie Walter Claudius</td>\n",
       "      <td>M</td>\n",
       "      <td>33</td>\n",
       "      <td>162</td>\n",
       "      <td>53</td>\n",
       "      <td>India</td>\n",
       "      <td>IND</td>\n",
       "      <td>1960 Summer</td>\n",
       "      <td>1960</td>\n",
       "      <td>Summer</td>\n",
       "      <td>Roma</td>\n",
       "      <td>Hockey</td>\n",
       "      <td>Hockey Men's Hockey</td>\n",
       "      <td>Silver</td>\n",
       "      <td>India</td>\n",
       "    </tr>\n",
       "  </tbody>\n",
       "</table>\n",
       "</div>"
      ],
      "text/plain": [
       "          ID                        Name Sex  Age  Height  Weight   Team  NOC  \\\n",
       "41209   4518  Joseph Anthony \"Joe\" Antic   M   29     168      59  India  IND   \n",
       "41384  21912      Leslie Walter Claudius   M   33     162      53  India  IND   \n",
       "\n",
       "             Games  Year  Season  City   Sport                Event   Medal  \\\n",
       "41209  1960 Summer  1960  Summer  Roma  Hockey  Hockey Men's Hockey  Silver   \n",
       "41384  1960 Summer  1960  Summer  Roma  Hockey  Hockey Men's Hockey  Silver   \n",
       "\n",
       "      Region  \n",
       "41209  India  \n",
       "41384  India  "
      ]
     },
     "execution_count": 67,
     "metadata": {},
     "output_type": "execute_result"
    }
   ],
   "source": [
    "s_medal_India = ath_df[(ath_df.Medal == 'Silver') & (ath_df.Team == 'India')]\n",
    "s_medal_India"
   ]
  },
  {
   "cell_type": "markdown",
   "id": "e0e7df57",
   "metadata": {},
   "source": [
    "# Age wise Distribution of Indian Silver medalist"
   ]
  },
  {
   "cell_type": "code",
   "execution_count": 68,
   "id": "6991ee9c",
   "metadata": {},
   "outputs": [
    {
     "data": {
      "image/png": "[encoded data removed]",
      "text/plain": [
       "<Figure size 1440x720 with 1 Axes>"
      ]
     },
     "metadata": {},
     "output_type": "display_data"
    }
   ],
   "source": [
    "plt.figure(figsize=(20,10))\n",
    "sns.countplot(s_medal_India['Age'])\n",
    "plt.title('Distribution of Silver Medals of India')\n",
    "plt.show()"
   ]
  },
  {
   "cell_type": "markdown",
   "id": "57b28575",
   "metadata": {},
   "source": [
    "# Name sport in which India won Silver Medal"
   ]
  },
  {
   "cell_type": "code",
   "execution_count": 69,
   "id": "e072d434",
   "metadata": {},
   "outputs": [
    {
     "data": {
      "text/plain": [
       "41209    Hockey\n",
       "41384    Hockey\n",
       "Name: Sport, dtype: object"
      ]
     },
     "execution_count": 69,
     "metadata": {},
     "output_type": "execute_result"
    }
   ],
   "source": [
    "sporting_event = s_medal_India['Sport']\n",
    "sporting_event"
   ]
  },
  {
   "cell_type": "markdown",
   "id": "14633ae4",
   "metadata": {},
   "source": [
    "# Indian Bronze Medalist list"
   ]
  },
  {
   "cell_type": "code",
   "execution_count": 70,
   "id": "f3cffaba",
   "metadata": {},
   "outputs": [
    {
     "data": {
      "text/html": [
       "<div>\n",
       "<style scoped>\n",
       "    .dataframe tbody tr th:only-of-type {\n",
       "        vertical-align: middle;\n",
       "    }\n",
       "\n",
       "    .dataframe tbody tr th {\n",
       "        vertical-align: top;\n",
       "    }\n",
       "\n",
       "    .dataframe thead th {\n",
       "        text-align: right;\n",
       "    }\n",
       "</style>\n",
       "<table border=\"1\" class=\"dataframe\">\n",
       "  <thead>\n",
       "    <tr style=\"text-align: right;\">\n",
       "      <th></th>\n",
       "      <th>ID</th>\n",
       "      <th>Name</th>\n",
       "      <th>Sex</th>\n",
       "      <th>Age</th>\n",
       "      <th>Height</th>\n",
       "      <th>Weight</th>\n",
       "      <th>Team</th>\n",
       "      <th>NOC</th>\n",
       "      <th>Games</th>\n",
       "      <th>Year</th>\n",
       "      <th>Season</th>\n",
       "      <th>City</th>\n",
       "      <th>Sport</th>\n",
       "      <th>Event</th>\n",
       "      <th>Medal</th>\n",
       "      <th>Region</th>\n",
       "    </tr>\n",
       "  </thead>\n",
       "  <tbody>\n",
       "    <tr>\n",
       "      <th>41289</th>\n",
       "      <td>11520</td>\n",
       "      <td>Govinda Billimogaputtaswamy</td>\n",
       "      <td>M</td>\n",
       "      <td>20</td>\n",
       "      <td>171</td>\n",
       "      <td>60</td>\n",
       "      <td>India</td>\n",
       "      <td>IND</td>\n",
       "      <td>1972 Summer</td>\n",
       "      <td>1972</td>\n",
       "      <td>Summer</td>\n",
       "      <td>Munich</td>\n",
       "      <td>Hockey</td>\n",
       "      <td>Hockey Men's Hockey</td>\n",
       "      <td>Bronze</td>\n",
       "      <td>India</td>\n",
       "    </tr>\n",
       "    <tr>\n",
       "      <th>41378</th>\n",
       "      <td>21339</td>\n",
       "      <td>Rajendra Absolem Christy</td>\n",
       "      <td>M</td>\n",
       "      <td>30</td>\n",
       "      <td>165</td>\n",
       "      <td>58</td>\n",
       "      <td>India</td>\n",
       "      <td>IND</td>\n",
       "      <td>1968 Summer</td>\n",
       "      <td>1968</td>\n",
       "      <td>Summer</td>\n",
       "      <td>Mexico City</td>\n",
       "      <td>Hockey</td>\n",
       "      <td>Hockey Men's Hockey</td>\n",
       "      <td>Bronze</td>\n",
       "      <td>India</td>\n",
       "    </tr>\n",
       "    <tr>\n",
       "      <th>41385</th>\n",
       "      <td>23098</td>\n",
       "      <td>Charles Cornelius</td>\n",
       "      <td>M</td>\n",
       "      <td>26</td>\n",
       "      <td>170</td>\n",
       "      <td>65</td>\n",
       "      <td>India</td>\n",
       "      <td>IND</td>\n",
       "      <td>1972 Summer</td>\n",
       "      <td>1972</td>\n",
       "      <td>Summer</td>\n",
       "      <td>Munich</td>\n",
       "      <td>Hockey</td>\n",
       "      <td>Hockey Men's Hockey</td>\n",
       "      <td>Bronze</td>\n",
       "      <td>India</td>\n",
       "    </tr>\n",
       "    <tr>\n",
       "      <th>41444</th>\n",
       "      <td>30913</td>\n",
       "      <td>Yogeshwar Dutt</td>\n",
       "      <td>M</td>\n",
       "      <td>29</td>\n",
       "      <td>168</td>\n",
       "      <td>65</td>\n",
       "      <td>India</td>\n",
       "      <td>IND</td>\n",
       "      <td>2012 Summer</td>\n",
       "      <td>2012</td>\n",
       "      <td>Summer</td>\n",
       "      <td>London</td>\n",
       "      <td>Wrestling</td>\n",
       "      <td>Wrestling Men's Lightweight, Freestyle</td>\n",
       "      <td>Bronze</td>\n",
       "      <td>India</td>\n",
       "    </tr>\n",
       "  </tbody>\n",
       "</table>\n",
       "</div>"
      ],
      "text/plain": [
       "          ID                         Name Sex  Age  Height  Weight   Team  \\\n",
       "41289  11520  Govinda Billimogaputtaswamy   M   20     171      60  India   \n",
       "41378  21339     Rajendra Absolem Christy   M   30     165      58  India   \n",
       "41385  23098            Charles Cornelius   M   26     170      65  India   \n",
       "41444  30913               Yogeshwar Dutt   M   29     168      65  India   \n",
       "\n",
       "       NOC        Games  Year  Season         City      Sport  \\\n",
       "41289  IND  1972 Summer  1972  Summer       Munich     Hockey   \n",
       "41378  IND  1968 Summer  1968  Summer  Mexico City     Hockey   \n",
       "41385  IND  1972 Summer  1972  Summer       Munich     Hockey   \n",
       "41444  IND  2012 Summer  2012  Summer       London  Wrestling   \n",
       "\n",
       "                                        Event   Medal Region  \n",
       "41289                     Hockey Men's Hockey  Bronze  India  \n",
       "41378                     Hockey Men's Hockey  Bronze  India  \n",
       "41385                     Hockey Men's Hockey  Bronze  India  \n",
       "41444  Wrestling Men's Lightweight, Freestyle  Bronze  India  "
      ]
     },
     "execution_count": 70,
     "metadata": {},
     "output_type": "execute_result"
    }
   ],
   "source": [
    "b_medal_India = ath_df[(ath_df.Medal == 'Bronze') & (ath_df.Team == 'India')]\n",
    "b_medal_India"
   ]
  },
  {
   "cell_type": "markdown",
   "id": "c9546129",
   "metadata": {},
   "source": [
    "# Age wise Distribution of Indian Bronze medalist"
   ]
  },
  {
   "cell_type": "code",
   "execution_count": 71,
   "id": "b9ca3bbc",
   "metadata": {},
   "outputs": [
    {
     "data": {
      "image/png": "[encoded data removed]",
      "text/plain": [
       "<Figure size 1440x720 with 1 Axes>"
      ]
     },
     "metadata": {},
     "output_type": "display_data"
    }
   ],
   "source": [
    "plt.figure(figsize=(20,10))\n",
    "sns.countplot(b_medal_India['Age'])\n",
    "plt.title('Distribution of Bronze Medals of India')\n",
    "plt.show()"
   ]
  },
  {
   "cell_type": "markdown",
   "id": "d835b00a",
   "metadata": {},
   "source": [
    "# Name sport in which India won Bronze Medal"
   ]
  },
  {
   "cell_type": "code",
   "execution_count": 72,
   "id": "589f8f7a",
   "metadata": {},
   "outputs": [
    {
     "data": {
      "text/plain": [
       "41289       Hockey\n",
       "41378       Hockey\n",
       "41385       Hockey\n",
       "41444    Wrestling\n",
       "Name: Sport, dtype: object"
      ]
     },
     "execution_count": 72,
     "metadata": {},
     "output_type": "execute_result"
    }
   ],
   "source": [
    "sporting_event = b_medal_India['Sport']\n",
    "sporting_event"
   ]
  },
  {
   "cell_type": "markdown",
   "id": "a1955f70",
   "metadata": {},
   "source": [
    "# Prediction"
   ]
  },
  {
   "cell_type": "code",
   "execution_count": 73,
   "id": "9018ad95",
   "metadata": {},
   "outputs": [
    {
     "data": {
      "text/html": [
       "<div>\n",
       "<style scoped>\n",
       "    .dataframe tbody tr th:only-of-type {\n",
       "        vertical-align: middle;\n",
       "    }\n",
       "\n",
       "    .dataframe tbody tr th {\n",
       "        vertical-align: top;\n",
       "    }\n",
       "\n",
       "    .dataframe thead th {\n",
       "        text-align: right;\n",
       "    }\n",
       "</style>\n",
       "<table border=\"1\" class=\"dataframe\">\n",
       "  <thead>\n",
       "    <tr style=\"text-align: right;\">\n",
       "      <th></th>\n",
       "      <th>ID</th>\n",
       "      <th>Name</th>\n",
       "      <th>Sex</th>\n",
       "      <th>Age</th>\n",
       "      <th>Height</th>\n",
       "      <th>Weight</th>\n",
       "      <th>Team</th>\n",
       "      <th>NOC</th>\n",
       "      <th>Games</th>\n",
       "      <th>Year</th>\n",
       "      <th>Season</th>\n",
       "      <th>City</th>\n",
       "      <th>Sport</th>\n",
       "      <th>Event</th>\n",
       "      <th>Medal</th>\n",
       "    </tr>\n",
       "  </thead>\n",
       "  <tbody>\n",
       "    <tr>\n",
       "      <th>0</th>\n",
       "      <td>1</td>\n",
       "      <td>A Dijiang</td>\n",
       "      <td>M</td>\n",
       "      <td>24.0</td>\n",
       "      <td>180.0</td>\n",
       "      <td>80.0</td>\n",
       "      <td>China</td>\n",
       "      <td>CHN</td>\n",
       "      <td>1992 Summer</td>\n",
       "      <td>1992</td>\n",
       "      <td>Summer</td>\n",
       "      <td>Barcelona</td>\n",
       "      <td>Basketball</td>\n",
       "      <td>Basketball Men's Basketball</td>\n",
       "      <td>No Medal</td>\n",
       "    </tr>\n",
       "    <tr>\n",
       "      <th>1</th>\n",
       "      <td>2</td>\n",
       "      <td>A Lamusi</td>\n",
       "      <td>M</td>\n",
       "      <td>23.0</td>\n",
       "      <td>170.0</td>\n",
       "      <td>60.0</td>\n",
       "      <td>China</td>\n",
       "      <td>CHN</td>\n",
       "      <td>2012 Summer</td>\n",
       "      <td>2012</td>\n",
       "      <td>Summer</td>\n",
       "      <td>London</td>\n",
       "      <td>Judo</td>\n",
       "      <td>Judo Men's Extra-Lightweight</td>\n",
       "      <td>No Medal</td>\n",
       "    </tr>\n",
       "    <tr>\n",
       "      <th>2</th>\n",
       "      <td>3</td>\n",
       "      <td>Gunnar Nielsen Aaby</td>\n",
       "      <td>M</td>\n",
       "      <td>24.0</td>\n",
       "      <td>NaN</td>\n",
       "      <td>NaN</td>\n",
       "      <td>Denmark</td>\n",
       "      <td>DEN</td>\n",
       "      <td>1920 Summer</td>\n",
       "      <td>1920</td>\n",
       "      <td>Summer</td>\n",
       "      <td>Antwerpen</td>\n",
       "      <td>Football</td>\n",
       "      <td>Football Men's Football</td>\n",
       "      <td>No Medal</td>\n",
       "    </tr>\n",
       "    <tr>\n",
       "      <th>3</th>\n",
       "      <td>4</td>\n",
       "      <td>Edgar Lindenau Aabye</td>\n",
       "      <td>M</td>\n",
       "      <td>34.0</td>\n",
       "      <td>NaN</td>\n",
       "      <td>NaN</td>\n",
       "      <td>Denmark/Sweden</td>\n",
       "      <td>DEN</td>\n",
       "      <td>1900 Summer</td>\n",
       "      <td>1900</td>\n",
       "      <td>Summer</td>\n",
       "      <td>Paris</td>\n",
       "      <td>Tug-Of-War</td>\n",
       "      <td>Tug-Of-War Men's Tug-Of-War</td>\n",
       "      <td>Gold</td>\n",
       "    </tr>\n",
       "    <tr>\n",
       "      <th>4</th>\n",
       "      <td>5</td>\n",
       "      <td>Christine Jacoba Aaftink</td>\n",
       "      <td>F</td>\n",
       "      <td>21.0</td>\n",
       "      <td>185.0</td>\n",
       "      <td>82.0</td>\n",
       "      <td>Netherlands</td>\n",
       "      <td>NED</td>\n",
       "      <td>1988 Winter</td>\n",
       "      <td>1988</td>\n",
       "      <td>Winter</td>\n",
       "      <td>Calgary</td>\n",
       "      <td>Speed Skating</td>\n",
       "      <td>Speed Skating Women's 500 metres</td>\n",
       "      <td>No Medal</td>\n",
       "    </tr>\n",
       "    <tr>\n",
       "      <th>...</th>\n",
       "      <td>...</td>\n",
       "      <td>...</td>\n",
       "      <td>...</td>\n",
       "      <td>...</td>\n",
       "      <td>...</td>\n",
       "      <td>...</td>\n",
       "      <td>...</td>\n",
       "      <td>...</td>\n",
       "      <td>...</td>\n",
       "      <td>...</td>\n",
       "      <td>...</td>\n",
       "      <td>...</td>\n",
       "      <td>...</td>\n",
       "      <td>...</td>\n",
       "      <td>...</td>\n",
       "    </tr>\n",
       "    <tr>\n",
       "      <th>65530</th>\n",
       "      <td>33537</td>\n",
       "      <td>Nelson vora</td>\n",
       "      <td>M</td>\n",
       "      <td>24.0</td>\n",
       "      <td>183.0</td>\n",
       "      <td>76.0</td>\n",
       "      <td>Portugal</td>\n",
       "      <td>POR</td>\n",
       "      <td>2008 Summer</td>\n",
       "      <td>2008</td>\n",
       "      <td>Summer</td>\n",
       "      <td>Beijing</td>\n",
       "      <td>Athletics</td>\n",
       "      <td>Athletics Men's Triple Jump</td>\n",
       "      <td>Gold</td>\n",
       "    </tr>\n",
       "    <tr>\n",
       "      <th>65531</th>\n",
       "      <td>33537</td>\n",
       "      <td>Nelson vora</td>\n",
       "      <td>M</td>\n",
       "      <td>32.0</td>\n",
       "      <td>183.0</td>\n",
       "      <td>76.0</td>\n",
       "      <td>Portugal</td>\n",
       "      <td>POR</td>\n",
       "      <td>2016 Summer</td>\n",
       "      <td>2016</td>\n",
       "      <td>Summer</td>\n",
       "      <td>Rio de Janeiro</td>\n",
       "      <td>Athletics</td>\n",
       "      <td>Athletics Men's Triple Jump</td>\n",
       "      <td>No Medal</td>\n",
       "    </tr>\n",
       "    <tr>\n",
       "      <th>65532</th>\n",
       "      <td>33538</td>\n",
       "      <td>Joseph Evouna</td>\n",
       "      <td>M</td>\n",
       "      <td>19.0</td>\n",
       "      <td>172.0</td>\n",
       "      <td>69.0</td>\n",
       "      <td>Cameroon</td>\n",
       "      <td>CMR</td>\n",
       "      <td>1972 Summer</td>\n",
       "      <td>1972</td>\n",
       "      <td>Summer</td>\n",
       "      <td>Munich</td>\n",
       "      <td>Cycling</td>\n",
       "      <td>Cycling Men's Road Race, Individual</td>\n",
       "      <td>No Medal</td>\n",
       "    </tr>\n",
       "    <tr>\n",
       "      <th>65533</th>\n",
       "      <td>33538</td>\n",
       "      <td>Joseph Evouna</td>\n",
       "      <td>M</td>\n",
       "      <td>19.0</td>\n",
       "      <td>172.0</td>\n",
       "      <td>69.0</td>\n",
       "      <td>Cameroon</td>\n",
       "      <td>CMR</td>\n",
       "      <td>1972 Summer</td>\n",
       "      <td>1972</td>\n",
       "      <td>Summer</td>\n",
       "      <td>Munich</td>\n",
       "      <td>Cycling</td>\n",
       "      <td>Cycling Men's 100 kilometres Team Time Trial</td>\n",
       "      <td>No Medal</td>\n",
       "    </tr>\n",
       "    <tr>\n",
       "      <th>65534</th>\n",
       "      <td>33538</td>\n",
       "      <td>Joseph Evouna</td>\n",
       "      <td>M</td>\n",
       "      <td>27.0</td>\n",
       "      <td>172.0</td>\n",
       "      <td>69.0</td>\n",
       "      <td>Cameroon</td>\n",
       "      <td>CMR</td>\n",
       "      <td>1980 Summer</td>\n",
       "      <td>1980</td>\n",
       "      <td>Summer</td>\n",
       "      <td>Moskva</td>\n",
       "      <td>Cycling</td>\n",
       "      <td>Cycling Men's Road Race, Individual</td>\n",
       "      <td>No Medal</td>\n",
       "    </tr>\n",
       "  </tbody>\n",
       "</table>\n",
       "<p>65535 rows × 15 columns</p>\n",
       "</div>"
      ],
      "text/plain": [
       "          ID                      Name Sex   Age  Height  Weight  \\\n",
       "0          1                 A Dijiang   M  24.0   180.0    80.0   \n",
       "1          2                  A Lamusi   M  23.0   170.0    60.0   \n",
       "2          3       Gunnar Nielsen Aaby   M  24.0     NaN     NaN   \n",
       "3          4      Edgar Lindenau Aabye   M  34.0     NaN     NaN   \n",
       "4          5  Christine Jacoba Aaftink   F  21.0   185.0    82.0   \n",
       "...      ...                       ...  ..   ...     ...     ...   \n",
       "65530  33537               Nelson vora   M  24.0   183.0    76.0   \n",
       "65531  33537               Nelson vora   M  32.0   183.0    76.0   \n",
       "65532  33538             Joseph Evouna   M  19.0   172.0    69.0   \n",
       "65533  33538             Joseph Evouna   M  19.0   172.0    69.0   \n",
       "65534  33538             Joseph Evouna   M  27.0   172.0    69.0   \n",
       "\n",
       "                 Team  NOC        Games  Year  Season            City  \\\n",
       "0               China  CHN  1992 Summer  1992  Summer       Barcelona   \n",
       "1               China  CHN  2012 Summer  2012  Summer          London   \n",
       "2             Denmark  DEN  1920 Summer  1920  Summer       Antwerpen   \n",
       "3      Denmark/Sweden  DEN  1900 Summer  1900  Summer           Paris   \n",
       "4         Netherlands  NED  1988 Winter  1988  Winter         Calgary   \n",
       "...               ...  ...          ...   ...     ...             ...   \n",
       "65530        Portugal  POR  2008 Summer  2008  Summer         Beijing   \n",
       "65531        Portugal  POR  2016 Summer  2016  Summer  Rio de Janeiro   \n",
       "65532        Cameroon  CMR  1972 Summer  1972  Summer          Munich   \n",
       "65533        Cameroon  CMR  1972 Summer  1972  Summer          Munich   \n",
       "65534        Cameroon  CMR  1980 Summer  1980  Summer          Moskva   \n",
       "\n",
       "               Sport                                         Event     Medal  \n",
       "0         Basketball                   Basketball Men's Basketball  No Medal  \n",
       "1               Judo                  Judo Men's Extra-Lightweight  No Medal  \n",
       "2           Football                       Football Men's Football  No Medal  \n",
       "3         Tug-Of-War                   Tug-Of-War Men's Tug-Of-War      Gold  \n",
       "4      Speed Skating              Speed Skating Women's 500 metres  No Medal  \n",
       "...              ...                                           ...       ...  \n",
       "65530      Athletics                   Athletics Men's Triple Jump      Gold  \n",
       "65531      Athletics                   Athletics Men's Triple Jump  No Medal  \n",
       "65532        Cycling           Cycling Men's Road Race, Individual  No Medal  \n",
       "65533        Cycling  Cycling Men's 100 kilometres Team Time Trial  No Medal  \n",
       "65534        Cycling           Cycling Men's Road Race, Individual  No Medal  \n",
       "\n",
       "[65535 rows x 15 columns]"
      ]
     },
     "execution_count": 73,
     "metadata": {},
     "output_type": "execute_result"
    }
   ],
   "source": [
    "ath"
   ]
  },
  {
   "cell_type": "code",
   "execution_count": 74,
   "id": "bba7a13f",
   "metadata": {},
   "outputs": [
    {
     "data": {
      "text/html": [
       "<div>\n",
       "<style scoped>\n",
       "    .dataframe tbody tr th:only-of-type {\n",
       "        vertical-align: middle;\n",
       "    }\n",
       "\n",
       "    .dataframe tbody tr th {\n",
       "        vertical-align: top;\n",
       "    }\n",
       "\n",
       "    .dataframe thead th {\n",
       "        text-align: right;\n",
       "    }\n",
       "</style>\n",
       "<table border=\"1\" class=\"dataframe\">\n",
       "  <thead>\n",
       "    <tr style=\"text-align: right;\">\n",
       "      <th></th>\n",
       "      <th>Sex</th>\n",
       "      <th>Age</th>\n",
       "      <th>Height</th>\n",
       "      <th>Weight</th>\n",
       "      <th>Season</th>\n",
       "      <th>Medal</th>\n",
       "    </tr>\n",
       "  </thead>\n",
       "  <tbody>\n",
       "    <tr>\n",
       "      <th>0</th>\n",
       "      <td>M</td>\n",
       "      <td>24.0</td>\n",
       "      <td>180.0</td>\n",
       "      <td>80.0</td>\n",
       "      <td>Summer</td>\n",
       "      <td>No Medal</td>\n",
       "    </tr>\n",
       "    <tr>\n",
       "      <th>1</th>\n",
       "      <td>M</td>\n",
       "      <td>23.0</td>\n",
       "      <td>170.0</td>\n",
       "      <td>60.0</td>\n",
       "      <td>Summer</td>\n",
       "      <td>No Medal</td>\n",
       "    </tr>\n",
       "    <tr>\n",
       "      <th>2</th>\n",
       "      <td>M</td>\n",
       "      <td>24.0</td>\n",
       "      <td>NaN</td>\n",
       "      <td>NaN</td>\n",
       "      <td>Summer</td>\n",
       "      <td>No Medal</td>\n",
       "    </tr>\n",
       "    <tr>\n",
       "      <th>3</th>\n",
       "      <td>M</td>\n",
       "      <td>34.0</td>\n",
       "      <td>NaN</td>\n",
       "      <td>NaN</td>\n",
       "      <td>Summer</td>\n",
       "      <td>Gold</td>\n",
       "    </tr>\n",
       "    <tr>\n",
       "      <th>4</th>\n",
       "      <td>F</td>\n",
       "      <td>21.0</td>\n",
       "      <td>185.0</td>\n",
       "      <td>82.0</td>\n",
       "      <td>Winter</td>\n",
       "      <td>No Medal</td>\n",
       "    </tr>\n",
       "    <tr>\n",
       "      <th>...</th>\n",
       "      <td>...</td>\n",
       "      <td>...</td>\n",
       "      <td>...</td>\n",
       "      <td>...</td>\n",
       "      <td>...</td>\n",
       "      <td>...</td>\n",
       "    </tr>\n",
       "    <tr>\n",
       "      <th>65530</th>\n",
       "      <td>M</td>\n",
       "      <td>24.0</td>\n",
       "      <td>183.0</td>\n",
       "      <td>76.0</td>\n",
       "      <td>Summer</td>\n",
       "      <td>Gold</td>\n",
       "    </tr>\n",
       "    <tr>\n",
       "      <th>65531</th>\n",
       "      <td>M</td>\n",
       "      <td>32.0</td>\n",
       "      <td>183.0</td>\n",
       "      <td>76.0</td>\n",
       "      <td>Summer</td>\n",
       "      <td>No Medal</td>\n",
       "    </tr>\n",
       "    <tr>\n",
       "      <th>65532</th>\n",
       "      <td>M</td>\n",
       "      <td>19.0</td>\n",
       "      <td>172.0</td>\n",
       "      <td>69.0</td>\n",
       "      <td>Summer</td>\n",
       "      <td>No Medal</td>\n",
       "    </tr>\n",
       "    <tr>\n",
       "      <th>65533</th>\n",
       "      <td>M</td>\n",
       "      <td>19.0</td>\n",
       "      <td>172.0</td>\n",
       "      <td>69.0</td>\n",
       "      <td>Summer</td>\n",
       "      <td>No Medal</td>\n",
       "    </tr>\n",
       "    <tr>\n",
       "      <th>65534</th>\n",
       "      <td>M</td>\n",
       "      <td>27.0</td>\n",
       "      <td>172.0</td>\n",
       "      <td>69.0</td>\n",
       "      <td>Summer</td>\n",
       "      <td>No Medal</td>\n",
       "    </tr>\n",
       "  </tbody>\n",
       "</table>\n",
       "<p>65535 rows × 6 columns</p>\n",
       "</div>"
      ],
      "text/plain": [
       "      Sex   Age  Height  Weight  Season     Medal\n",
       "0       M  24.0   180.0    80.0  Summer  No Medal\n",
       "1       M  23.0   170.0    60.0  Summer  No Medal\n",
       "2       M  24.0     NaN     NaN  Summer  No Medal\n",
       "3       M  34.0     NaN     NaN  Summer      Gold\n",
       "4       F  21.0   185.0    82.0  Winter  No Medal\n",
       "...    ..   ...     ...     ...     ...       ...\n",
       "65530   M  24.0   183.0    76.0  Summer      Gold\n",
       "65531   M  32.0   183.0    76.0  Summer  No Medal\n",
       "65532   M  19.0   172.0    69.0  Summer  No Medal\n",
       "65533   M  19.0   172.0    69.0  Summer  No Medal\n",
       "65534   M  27.0   172.0    69.0  Summer  No Medal\n",
       "\n",
       "[65535 rows x 6 columns]"
      ]
     },
     "execution_count": 74,
     "metadata": {},
     "output_type": "execute_result"
    }
   ],
   "source": [
    "new = ath[['Sex','Age','Height','Weight','Season','Medal']]\n",
    "new"
   ]
  },
  {
   "cell_type": "markdown",
   "id": "bae9dcb0",
   "metadata": {},
   "source": [
    "# Checking Null Values"
   ]
  },
  {
   "cell_type": "code",
   "execution_count": 75,
   "id": "098250df",
   "metadata": {},
   "outputs": [
    {
     "data": {
      "text/plain": [
       "Sex           0\n",
       "Age        2548\n",
       "Height    15289\n",
       "Weight    16079\n",
       "Season        0\n",
       "Medal         0\n",
       "dtype: int64"
      ]
     },
     "execution_count": 75,
     "metadata": {},
     "output_type": "execute_result"
    }
   ],
   "source": [
    "new.isna().sum()"
   ]
  },
  {
   "cell_type": "markdown",
   "id": "cd4dd13e",
   "metadata": {},
   "source": [
    "# Replace Values"
   ]
  },
  {
   "cell_type": "code",
   "execution_count": 76,
   "id": "4f96d2bf",
   "metadata": {},
   "outputs": [],
   "source": [
    "new.Medal=new.Medal.replace({'No Medal':1,'Gold':2,'Silver':3,'Bronze':4})\n",
    "new.Season=new.Season.replace({'Summer':1,'Winter':0})\n",
    "new.Sex=new.Sex.replace({'M':7,'F':9})"
   ]
  },
  {
   "cell_type": "markdown",
   "id": "2fe9f0d0",
   "metadata": {},
   "source": [
    "# Checking datatypes"
   ]
  },
  {
   "cell_type": "code",
   "execution_count": 77,
   "id": "c72ccab1",
   "metadata": {},
   "outputs": [
    {
     "data": {
      "text/plain": [
       "Sex         int64\n",
       "Age       float64\n",
       "Height    float64\n",
       "Weight    float64\n",
       "Season      int64\n",
       "Medal       int64\n",
       "dtype: object"
      ]
     },
     "execution_count": 77,
     "metadata": {},
     "output_type": "execute_result"
    }
   ],
   "source": [
    "new.dtypes"
   ]
  },
  {
   "cell_type": "markdown",
   "id": "f4fb258d",
   "metadata": {},
   "source": [
    "# Heatmap"
   ]
  },
  {
   "cell_type": "code",
   "execution_count": 78,
   "id": "7b99eb5a",
   "metadata": {},
   "outputs": [
    {
     "data": {
      "text/html": [
       "<div>\n",
       "<style scoped>\n",
       "    .dataframe tbody tr th:only-of-type {\n",
       "        vertical-align: middle;\n",
       "    }\n",
       "\n",
       "    .dataframe tbody tr th {\n",
       "        vertical-align: top;\n",
       "    }\n",
       "\n",
       "    .dataframe thead th {\n",
       "        text-align: right;\n",
       "    }\n",
       "</style>\n",
       "<table border=\"1\" class=\"dataframe\">\n",
       "  <thead>\n",
       "    <tr style=\"text-align: right;\">\n",
       "      <th></th>\n",
       "      <th>Sex</th>\n",
       "      <th>Age</th>\n",
       "      <th>Height</th>\n",
       "      <th>Weight</th>\n",
       "      <th>Season</th>\n",
       "      <th>Medal</th>\n",
       "    </tr>\n",
       "  </thead>\n",
       "  <tbody>\n",
       "    <tr>\n",
       "      <th>Sex</th>\n",
       "      <td>1.000000</td>\n",
       "      <td>-0.174068</td>\n",
       "      <td>-0.481459</td>\n",
       "      <td>-0.507355</td>\n",
       "      <td>-0.034339</td>\n",
       "      <td>0.005489</td>\n",
       "    </tr>\n",
       "    <tr>\n",
       "      <th>Age</th>\n",
       "      <td>-0.174068</td>\n",
       "      <td>1.000000</td>\n",
       "      <td>0.126696</td>\n",
       "      <td>0.211782</td>\n",
       "      <td>0.036862</td>\n",
       "      <td>0.022433</td>\n",
       "    </tr>\n",
       "    <tr>\n",
       "      <th>Height</th>\n",
       "      <td>-0.481459</td>\n",
       "      <td>0.126696</td>\n",
       "      <td>1.000000</td>\n",
       "      <td>0.782915</td>\n",
       "      <td>0.027195</td>\n",
       "      <td>0.080316</td>\n",
       "    </tr>\n",
       "    <tr>\n",
       "      <th>Weight</th>\n",
       "      <td>-0.507355</td>\n",
       "      <td>0.211782</td>\n",
       "      <td>0.782915</td>\n",
       "      <td>1.000000</td>\n",
       "      <td>0.000170</td>\n",
       "      <td>0.079173</td>\n",
       "    </tr>\n",
       "    <tr>\n",
       "      <th>Season</th>\n",
       "      <td>-0.034339</td>\n",
       "      <td>0.036862</td>\n",
       "      <td>0.027195</td>\n",
       "      <td>0.000170</td>\n",
       "      <td>1.000000</td>\n",
       "      <td>0.030842</td>\n",
       "    </tr>\n",
       "    <tr>\n",
       "      <th>Medal</th>\n",
       "      <td>0.005489</td>\n",
       "      <td>0.022433</td>\n",
       "      <td>0.080316</td>\n",
       "      <td>0.079173</td>\n",
       "      <td>0.030842</td>\n",
       "      <td>1.000000</td>\n",
       "    </tr>\n",
       "  </tbody>\n",
       "</table>\n",
       "</div>"
      ],
      "text/plain": [
       "             Sex       Age    Height    Weight    Season     Medal\n",
       "Sex     1.000000 -0.174068 -0.481459 -0.507355 -0.034339  0.005489\n",
       "Age    -0.174068  1.000000  0.126696  0.211782  0.036862  0.022433\n",
       "Height -0.481459  0.126696  1.000000  0.782915  0.027195  0.080316\n",
       "Weight -0.507355  0.211782  0.782915  1.000000  0.000170  0.079173\n",
       "Season -0.034339  0.036862  0.027195  0.000170  1.000000  0.030842\n",
       "Medal   0.005489  0.022433  0.080316  0.079173  0.030842  1.000000"
      ]
     },
     "execution_count": 78,
     "metadata": {},
     "output_type": "execute_result"
    }
   ],
   "source": [
    "new.corr()"
   ]
  },
  {
   "cell_type": "code",
   "execution_count": 79,
   "id": "e16e9d5b",
   "metadata": {},
   "outputs": [
    {
     "data": {
      "image/png": "[encoded data removed]",
      "text/plain": [
       "<Figure size 432x288 with 2 Axes>"
      ]
     },
     "metadata": {},
     "output_type": "display_data"
    }
   ],
   "source": [
    "sns.heatmap(new.corr(),cmap='RdBu',annot=True,fmt='.1f')\n",
    "plt.show()"
   ]
  },
  {
   "cell_type": "markdown",
   "id": "d215b311",
   "metadata": {},
   "source": [
    "We can see there is a positive correlation between Sex(Predictor) & Medal This makes sense since, The greater Sex results in a greater chance of medal."
   ]
  },
  {
   "cell_type": "markdown",
   "id": "7317b3f3",
   "metadata": {},
   "source": [
    "In addition, we see a negative correlation between season & our predictor i.e-sex."
   ]
  },
  {
   "cell_type": "markdown",
   "id": "b15900a9",
   "metadata": {},
   "source": [
    "# Seprating Dependent and Independent Variable"
   ]
  },
  {
   "cell_type": "code",
   "execution_count": 80,
   "id": "33af7379",
   "metadata": {},
   "outputs": [
    {
     "data": {
      "text/html": [
       "<div>\n",
       "<style scoped>\n",
       "    .dataframe tbody tr th:only-of-type {\n",
       "        vertical-align: middle;\n",
       "    }\n",
       "\n",
       "    .dataframe tbody tr th {\n",
       "        vertical-align: top;\n",
       "    }\n",
       "\n",
       "    .dataframe thead th {\n",
       "        text-align: right;\n",
       "    }\n",
       "</style>\n",
       "<table border=\"1\" class=\"dataframe\">\n",
       "  <thead>\n",
       "    <tr style=\"text-align: right;\">\n",
       "      <th></th>\n",
       "      <th>Sex</th>\n",
       "      <th>Age</th>\n",
       "      <th>Height</th>\n",
       "      <th>Weight</th>\n",
       "      <th>Season</th>\n",
       "      <th>Medal</th>\n",
       "    </tr>\n",
       "  </thead>\n",
       "  <tbody>\n",
       "    <tr>\n",
       "      <th>0</th>\n",
       "      <td>7</td>\n",
       "      <td>24.0</td>\n",
       "      <td>180.0</td>\n",
       "      <td>80.0</td>\n",
       "      <td>1</td>\n",
       "      <td>1</td>\n",
       "    </tr>\n",
       "    <tr>\n",
       "      <th>1</th>\n",
       "      <td>7</td>\n",
       "      <td>23.0</td>\n",
       "      <td>170.0</td>\n",
       "      <td>60.0</td>\n",
       "      <td>1</td>\n",
       "      <td>1</td>\n",
       "    </tr>\n",
       "    <tr>\n",
       "      <th>2</th>\n",
       "      <td>7</td>\n",
       "      <td>24.0</td>\n",
       "      <td>NaN</td>\n",
       "      <td>NaN</td>\n",
       "      <td>1</td>\n",
       "      <td>1</td>\n",
       "    </tr>\n",
       "    <tr>\n",
       "      <th>3</th>\n",
       "      <td>7</td>\n",
       "      <td>34.0</td>\n",
       "      <td>NaN</td>\n",
       "      <td>NaN</td>\n",
       "      <td>1</td>\n",
       "      <td>2</td>\n",
       "    </tr>\n",
       "    <tr>\n",
       "      <th>4</th>\n",
       "      <td>9</td>\n",
       "      <td>21.0</td>\n",
       "      <td>185.0</td>\n",
       "      <td>82.0</td>\n",
       "      <td>0</td>\n",
       "      <td>1</td>\n",
       "    </tr>\n",
       "    <tr>\n",
       "      <th>...</th>\n",
       "      <td>...</td>\n",
       "      <td>...</td>\n",
       "      <td>...</td>\n",
       "      <td>...</td>\n",
       "      <td>...</td>\n",
       "      <td>...</td>\n",
       "    </tr>\n",
       "    <tr>\n",
       "      <th>65530</th>\n",
       "      <td>7</td>\n",
       "      <td>24.0</td>\n",
       "      <td>183.0</td>\n",
       "      <td>76.0</td>\n",
       "      <td>1</td>\n",
       "      <td>2</td>\n",
       "    </tr>\n",
       "    <tr>\n",
       "      <th>65531</th>\n",
       "      <td>7</td>\n",
       "      <td>32.0</td>\n",
       "      <td>183.0</td>\n",
       "      <td>76.0</td>\n",
       "      <td>1</td>\n",
       "      <td>1</td>\n",
       "    </tr>\n",
       "    <tr>\n",
       "      <th>65532</th>\n",
       "      <td>7</td>\n",
       "      <td>19.0</td>\n",
       "      <td>172.0</td>\n",
       "      <td>69.0</td>\n",
       "      <td>1</td>\n",
       "      <td>1</td>\n",
       "    </tr>\n",
       "    <tr>\n",
       "      <th>65533</th>\n",
       "      <td>7</td>\n",
       "      <td>19.0</td>\n",
       "      <td>172.0</td>\n",
       "      <td>69.0</td>\n",
       "      <td>1</td>\n",
       "      <td>1</td>\n",
       "    </tr>\n",
       "    <tr>\n",
       "      <th>65534</th>\n",
       "      <td>7</td>\n",
       "      <td>27.0</td>\n",
       "      <td>172.0</td>\n",
       "      <td>69.0</td>\n",
       "      <td>1</td>\n",
       "      <td>1</td>\n",
       "    </tr>\n",
       "  </tbody>\n",
       "</table>\n",
       "<p>65535 rows × 6 columns</p>\n",
       "</div>"
      ],
      "text/plain": [
       "       Sex   Age  Height  Weight  Season  Medal\n",
       "0        7  24.0   180.0    80.0       1      1\n",
       "1        7  23.0   170.0    60.0       1      1\n",
       "2        7  24.0     NaN     NaN       1      1\n",
       "3        7  34.0     NaN     NaN       1      2\n",
       "4        9  21.0   185.0    82.0       0      1\n",
       "...    ...   ...     ...     ...     ...    ...\n",
       "65530    7  24.0   183.0    76.0       1      2\n",
       "65531    7  32.0   183.0    76.0       1      1\n",
       "65532    7  19.0   172.0    69.0       1      1\n",
       "65533    7  19.0   172.0    69.0       1      1\n",
       "65534    7  27.0   172.0    69.0       1      1\n",
       "\n",
       "[65535 rows x 6 columns]"
      ]
     },
     "execution_count": 80,
     "metadata": {},
     "output_type": "execute_result"
    }
   ],
   "source": [
    "new"
   ]
  },
  {
   "cell_type": "code",
   "execution_count": 81,
   "id": "c0cb1a19",
   "metadata": {},
   "outputs": [
    {
     "data": {
      "text/plain": [
       "Sex           0\n",
       "Age        2548\n",
       "Height    15289\n",
       "Weight    16079\n",
       "Season        0\n",
       "Medal         0\n",
       "dtype: int64"
      ]
     },
     "execution_count": 81,
     "metadata": {},
     "output_type": "execute_result"
    }
   ],
   "source": [
    "new.isna().sum()"
   ]
  },
  {
   "cell_type": "code",
   "execution_count": 82,
   "id": "aef38ceb",
   "metadata": {},
   "outputs": [],
   "source": [
    "new.dropna(inplace=True)"
   ]
  },
  {
   "cell_type": "code",
   "execution_count": 83,
   "id": "5957ab1f",
   "metadata": {},
   "outputs": [
    {
     "data": {
      "text/plain": [
       "Sex       0\n",
       "Age       0\n",
       "Height    0\n",
       "Weight    0\n",
       "Season    0\n",
       "Medal     0\n",
       "dtype: int64"
      ]
     },
     "execution_count": 83,
     "metadata": {},
     "output_type": "execute_result"
    }
   ],
   "source": [
    "new.isna().sum()"
   ]
  },
  {
   "cell_type": "code",
   "execution_count": 84,
   "id": "ed333bdc",
   "metadata": {},
   "outputs": [],
   "source": [
    "x = new.drop(['Sex'],axis=1)\n",
    "y = new.Sex"
   ]
  },
  {
   "cell_type": "code",
   "execution_count": 85,
   "id": "55baef0f",
   "metadata": {},
   "outputs": [
    {
     "data": {
      "text/html": [
       "<div>\n",
       "<style scoped>\n",
       "    .dataframe tbody tr th:only-of-type {\n",
       "        vertical-align: middle;\n",
       "    }\n",
       "\n",
       "    .dataframe tbody tr th {\n",
       "        vertical-align: top;\n",
       "    }\n",
       "\n",
       "    .dataframe thead th {\n",
       "        text-align: right;\n",
       "    }\n",
       "</style>\n",
       "<table border=\"1\" class=\"dataframe\">\n",
       "  <thead>\n",
       "    <tr style=\"text-align: right;\">\n",
       "      <th></th>\n",
       "      <th>Age</th>\n",
       "      <th>Height</th>\n",
       "      <th>Weight</th>\n",
       "      <th>Season</th>\n",
       "      <th>Medal</th>\n",
       "    </tr>\n",
       "  </thead>\n",
       "  <tbody>\n",
       "    <tr>\n",
       "      <th>0</th>\n",
       "      <td>24.0</td>\n",
       "      <td>180.0</td>\n",
       "      <td>80.0</td>\n",
       "      <td>1</td>\n",
       "      <td>1</td>\n",
       "    </tr>\n",
       "    <tr>\n",
       "      <th>1</th>\n",
       "      <td>23.0</td>\n",
       "      <td>170.0</td>\n",
       "      <td>60.0</td>\n",
       "      <td>1</td>\n",
       "      <td>1</td>\n",
       "    </tr>\n",
       "    <tr>\n",
       "      <th>4</th>\n",
       "      <td>21.0</td>\n",
       "      <td>185.0</td>\n",
       "      <td>82.0</td>\n",
       "      <td>0</td>\n",
       "      <td>1</td>\n",
       "    </tr>\n",
       "    <tr>\n",
       "      <th>5</th>\n",
       "      <td>21.0</td>\n",
       "      <td>185.0</td>\n",
       "      <td>82.0</td>\n",
       "      <td>0</td>\n",
       "      <td>1</td>\n",
       "    </tr>\n",
       "    <tr>\n",
       "      <th>6</th>\n",
       "      <td>25.0</td>\n",
       "      <td>185.0</td>\n",
       "      <td>82.0</td>\n",
       "      <td>0</td>\n",
       "      <td>1</td>\n",
       "    </tr>\n",
       "    <tr>\n",
       "      <th>...</th>\n",
       "      <td>...</td>\n",
       "      <td>...</td>\n",
       "      <td>...</td>\n",
       "      <td>...</td>\n",
       "      <td>...</td>\n",
       "    </tr>\n",
       "    <tr>\n",
       "      <th>65530</th>\n",
       "      <td>24.0</td>\n",
       "      <td>183.0</td>\n",
       "      <td>76.0</td>\n",
       "      <td>1</td>\n",
       "      <td>2</td>\n",
       "    </tr>\n",
       "    <tr>\n",
       "      <th>65531</th>\n",
       "      <td>32.0</td>\n",
       "      <td>183.0</td>\n",
       "      <td>76.0</td>\n",
       "      <td>1</td>\n",
       "      <td>1</td>\n",
       "    </tr>\n",
       "    <tr>\n",
       "      <th>65532</th>\n",
       "      <td>19.0</td>\n",
       "      <td>172.0</td>\n",
       "      <td>69.0</td>\n",
       "      <td>1</td>\n",
       "      <td>1</td>\n",
       "    </tr>\n",
       "    <tr>\n",
       "      <th>65533</th>\n",
       "      <td>19.0</td>\n",
       "      <td>172.0</td>\n",
       "      <td>69.0</td>\n",
       "      <td>1</td>\n",
       "      <td>1</td>\n",
       "    </tr>\n",
       "    <tr>\n",
       "      <th>65534</th>\n",
       "      <td>27.0</td>\n",
       "      <td>172.0</td>\n",
       "      <td>69.0</td>\n",
       "      <td>1</td>\n",
       "      <td>1</td>\n",
       "    </tr>\n",
       "  </tbody>\n",
       "</table>\n",
       "<p>48894 rows × 5 columns</p>\n",
       "</div>"
      ],
      "text/plain": [
       "        Age  Height  Weight  Season  Medal\n",
       "0      24.0   180.0    80.0       1      1\n",
       "1      23.0   170.0    60.0       1      1\n",
       "4      21.0   185.0    82.0       0      1\n",
       "5      21.0   185.0    82.0       0      1\n",
       "6      25.0   185.0    82.0       0      1\n",
       "...     ...     ...     ...     ...    ...\n",
       "65530  24.0   183.0    76.0       1      2\n",
       "65531  32.0   183.0    76.0       1      1\n",
       "65532  19.0   172.0    69.0       1      1\n",
       "65533  19.0   172.0    69.0       1      1\n",
       "65534  27.0   172.0    69.0       1      1\n",
       "\n",
       "[48894 rows x 5 columns]"
      ]
     },
     "execution_count": 85,
     "metadata": {},
     "output_type": "execute_result"
    }
   ],
   "source": [
    "x"
   ]
  },
  {
   "cell_type": "code",
   "execution_count": 86,
   "id": "576b737c",
   "metadata": {},
   "outputs": [
    {
     "data": {
      "text/plain": [
       "0        7\n",
       "1        7\n",
       "4        9\n",
       "5        9\n",
       "6        9\n",
       "        ..\n",
       "65530    7\n",
       "65531    7\n",
       "65532    7\n",
       "65533    7\n",
       "65534    7\n",
       "Name: Sex, Length: 48894, dtype: int64"
      ]
     },
     "execution_count": 86,
     "metadata": {},
     "output_type": "execute_result"
    }
   ],
   "source": [
    "y"
   ]
  },
  {
   "cell_type": "code",
   "execution_count": 87,
   "id": "495bb25f",
   "metadata": {},
   "outputs": [
    {
     "data": {
      "text/plain": [
       "7    33855\n",
       "9    15039\n",
       "Name: Sex, dtype: int64"
      ]
     },
     "execution_count": 87,
     "metadata": {},
     "output_type": "execute_result"
    }
   ],
   "source": [
    "y.value_counts()"
   ]
  },
  {
   "cell_type": "markdown",
   "id": "a7ac020d",
   "metadata": {},
   "source": [
    "# Import train-test Split"
   ]
  },
  {
   "cell_type": "code",
   "execution_count": 88,
   "id": "28897383",
   "metadata": {},
   "outputs": [],
   "source": [
    "from sklearn.model_selection import train_test_split"
   ]
  },
  {
   "cell_type": "code",
   "execution_count": 89,
   "id": "4a76a37e",
   "metadata": {},
   "outputs": [],
   "source": [
    "x_train,x_test,y_train,y_test=train_test_split(x,y,test_size=0.2)"
   ]
  },
  {
   "cell_type": "code",
   "execution_count": 90,
   "id": "91feee4f",
   "metadata": {},
   "outputs": [
    {
     "name": "stdout",
     "output_type": "stream",
     "text": [
      "(39115, 5)\n",
      "(9779, 5)\n",
      "(39115,)\n",
      "(9779,)\n"
     ]
    }
   ],
   "source": [
    "print(x_train.shape)\n",
    "print(x_test.shape)\n",
    "print(y_train.shape)\n",
    "print(y_test.shape)"
   ]
  },
  {
   "cell_type": "markdown",
   "id": "d2d06a3f",
   "metadata": {},
   "source": [
    "# 1 - Logistic Regression"
   ]
  },
  {
   "cell_type": "markdown",
   "id": "afee413c",
   "metadata": {},
   "source": [
    "Logistic regression is an example of supervised learning. It is used to calculate or predict the probability of a binary event occurring."
   ]
  },
  {
   "cell_type": "code",
   "execution_count": 91,
   "id": "1b80247b",
   "metadata": {},
   "outputs": [],
   "source": [
    "from sklearn.linear_model import LogisticRegression"
   ]
  },
  {
   "cell_type": "code",
   "execution_count": 92,
   "id": "754066fd",
   "metadata": {},
   "outputs": [],
   "source": [
    "model = LogisticRegression()"
   ]
  },
  {
   "cell_type": "code",
   "execution_count": 93,
   "id": "63fbfb7a",
   "metadata": {},
   "outputs": [
    {
     "data": {
      "text/plain": [
       "LogisticRegression()"
      ]
     },
     "execution_count": 93,
     "metadata": {},
     "output_type": "execute_result"
    }
   ],
   "source": [
    "model"
   ]
  },
  {
   "cell_type": "code",
   "execution_count": 94,
   "id": "b2b3e607",
   "metadata": {},
   "outputs": [
    {
     "data": {
      "text/plain": [
       "LogisticRegression()"
      ]
     },
     "execution_count": 94,
     "metadata": {},
     "output_type": "execute_result"
    }
   ],
   "source": [
    "model.fit(x_train,y_train)"
   ]
  },
  {
   "cell_type": "code",
   "execution_count": 95,
   "id": "8e176966",
   "metadata": {},
   "outputs": [
    {
     "data": {
      "text/plain": [
       "80.74907324555797"
      ]
     },
     "execution_count": 95,
     "metadata": {},
     "output_type": "execute_result"
    }
   ],
   "source": [
    "model.score(x_train,y_train)*100"
   ]
  },
  {
   "cell_type": "code",
   "execution_count": 96,
   "id": "507a5b2e",
   "metadata": {},
   "outputs": [
    {
     "data": {
      "text/plain": [
       "80.97965027098886"
      ]
     },
     "execution_count": 96,
     "metadata": {},
     "output_type": "execute_result"
    }
   ],
   "source": [
    "model.score(x_test,y_test)*100"
   ]
  },
  {
   "cell_type": "code",
   "execution_count": 97,
   "id": "fff40bb4",
   "metadata": {},
   "outputs": [],
   "source": [
    "y_predict = model.predict(x_test)"
   ]
  },
  {
   "cell_type": "code",
   "execution_count": 98,
   "id": "45d12ac9",
   "metadata": {},
   "outputs": [
    {
     "data": {
      "text/plain": [
       "array([7, 7, 9, ..., 7, 7, 7], dtype=int64)"
      ]
     },
     "execution_count": 98,
     "metadata": {},
     "output_type": "execute_result"
    }
   ],
   "source": [
    "y_predict"
   ]
  },
  {
   "cell_type": "code",
   "execution_count": 99,
   "id": "aeaeb5d2",
   "metadata": {},
   "outputs": [],
   "source": [
    "new = pd.DataFrame({'Actual':y_test,'Predicted':y_predict})"
   ]
  },
  {
   "cell_type": "code",
   "execution_count": 100,
   "id": "7f1d60bf",
   "metadata": {},
   "outputs": [
    {
     "data": {
      "text/html": [
       "<div>\n",
       "<style scoped>\n",
       "    .dataframe tbody tr th:only-of-type {\n",
       "        vertical-align: middle;\n",
       "    }\n",
       "\n",
       "    .dataframe tbody tr th {\n",
       "        vertical-align: top;\n",
       "    }\n",
       "\n",
       "    .dataframe thead th {\n",
       "        text-align: right;\n",
       "    }\n",
       "</style>\n",
       "<table border=\"1\" class=\"dataframe\">\n",
       "  <thead>\n",
       "    <tr style=\"text-align: right;\">\n",
       "      <th></th>\n",
       "      <th>Actual</th>\n",
       "      <th>Predicted</th>\n",
       "    </tr>\n",
       "  </thead>\n",
       "  <tbody>\n",
       "    <tr>\n",
       "      <th>46439</th>\n",
       "      <td>7</td>\n",
       "      <td>7</td>\n",
       "    </tr>\n",
       "    <tr>\n",
       "      <th>39521</th>\n",
       "      <td>9</td>\n",
       "      <td>7</td>\n",
       "    </tr>\n",
       "    <tr>\n",
       "      <th>20614</th>\n",
       "      <td>7</td>\n",
       "      <td>9</td>\n",
       "    </tr>\n",
       "    <tr>\n",
       "      <th>63809</th>\n",
       "      <td>9</td>\n",
       "      <td>7</td>\n",
       "    </tr>\n",
       "    <tr>\n",
       "      <th>23098</th>\n",
       "      <td>9</td>\n",
       "      <td>9</td>\n",
       "    </tr>\n",
       "    <tr>\n",
       "      <th>...</th>\n",
       "      <td>...</td>\n",
       "      <td>...</td>\n",
       "    </tr>\n",
       "    <tr>\n",
       "      <th>34439</th>\n",
       "      <td>7</td>\n",
       "      <td>7</td>\n",
       "    </tr>\n",
       "    <tr>\n",
       "      <th>12838</th>\n",
       "      <td>7</td>\n",
       "      <td>7</td>\n",
       "    </tr>\n",
       "    <tr>\n",
       "      <th>20987</th>\n",
       "      <td>7</td>\n",
       "      <td>7</td>\n",
       "    </tr>\n",
       "    <tr>\n",
       "      <th>18599</th>\n",
       "      <td>9</td>\n",
       "      <td>7</td>\n",
       "    </tr>\n",
       "    <tr>\n",
       "      <th>5645</th>\n",
       "      <td>7</td>\n",
       "      <td>7</td>\n",
       "    </tr>\n",
       "  </tbody>\n",
       "</table>\n",
       "<p>9779 rows × 2 columns</p>\n",
       "</div>"
      ],
      "text/plain": [
       "       Actual  Predicted\n",
       "46439       7          7\n",
       "39521       9          7\n",
       "20614       7          9\n",
       "63809       9          7\n",
       "23098       9          9\n",
       "...       ...        ...\n",
       "34439       7          7\n",
       "12838       7          7\n",
       "20987       7          7\n",
       "18599       9          7\n",
       "5645        7          7\n",
       "\n",
       "[9779 rows x 2 columns]"
      ]
     },
     "execution_count": 100,
     "metadata": {},
     "output_type": "execute_result"
    }
   ],
   "source": [
    "new"
   ]
  },
  {
   "cell_type": "code",
   "execution_count": 101,
   "id": "0569e488",
   "metadata": {},
   "outputs": [],
   "source": [
    "# checking accuracy\n",
    "\n",
    "from sklearn.metrics import accuracy_score"
   ]
  },
  {
   "cell_type": "code",
   "execution_count": 102,
   "id": "b0771612",
   "metadata": {},
   "outputs": [],
   "source": [
    "test_acc = accuracy_score(y_test,y_predict)*100"
   ]
  },
  {
   "cell_type": "code",
   "execution_count": 103,
   "id": "73afb7f3",
   "metadata": {},
   "outputs": [
    {
     "data": {
      "text/plain": [
       "80.97965027098886"
      ]
     },
     "execution_count": 103,
     "metadata": {},
     "output_type": "execute_result"
    }
   ],
   "source": [
    "test_acc"
   ]
  },
  {
   "cell_type": "markdown",
   "id": "701aa752",
   "metadata": {},
   "source": [
    "# Importing confusion matrix"
   ]
  },
  {
   "cell_type": "markdown",
   "id": "54ce2b66",
   "metadata": {},
   "source": [
    "A confusion matrix presents a table layout of the different outcomes of the prediction and results of a classification problem and helps visualize its outcomes."
   ]
  },
  {
   "cell_type": "code",
   "execution_count": 104,
   "id": "4ee2d5ac",
   "metadata": {},
   "outputs": [],
   "source": [
    "from sklearn.metrics import confusion_matrix"
   ]
  },
  {
   "cell_type": "code",
   "execution_count": 105,
   "id": "cbc2d3af",
   "metadata": {},
   "outputs": [],
   "source": [
    "performance = confusion_matrix(y_test,y_predict)"
   ]
  },
  {
   "cell_type": "code",
   "execution_count": 106,
   "id": "c024b123",
   "metadata": {},
   "outputs": [
    {
     "data": {
      "text/plain": [
       "array([[6141,  653],\n",
       "       [1207, 1778]], dtype=int64)"
      ]
     },
     "execution_count": 106,
     "metadata": {},
     "output_type": "execute_result"
    }
   ],
   "source": [
    "performance"
   ]
  },
  {
   "cell_type": "code",
   "execution_count": 107,
   "id": "ba346a0e",
   "metadata": {},
   "outputs": [],
   "source": [
    "from sklearn.metrics import plot_confusion_matrix"
   ]
  },
  {
   "cell_type": "code",
   "execution_count": 108,
   "id": "abfbc35a",
   "metadata": {},
   "outputs": [
    {
     "data": {
      "image/png": "[encoded data removed]",
      "text/plain": [
       "<Figure size 432x288 with 2 Axes>"
      ]
     },
     "metadata": {},
     "output_type": "display_data"
    }
   ],
   "source": [
    "plot_confusion_matrix(model,x_test,y_test)\n",
    "plt.show()"
   ]
  },
  {
   "cell_type": "markdown",
   "id": "ac4b1b73",
   "metadata": {},
   "source": [
    "6146 is the amount of True Positives in our data, while 1773 is the amount of True Negatives."
   ]
  },
  {
   "cell_type": "markdown",
   "id": "a26a2881",
   "metadata": {},
   "source": [
    "662 & 1198 are the number of errors."
   ]
  },
  {
   "cell_type": "markdown",
   "id": "6846f6b8",
   "metadata": {},
   "source": [
    "There are 662 type 1 error (False Positives)- You predicted positive and it’s false."
   ]
  },
  {
   "cell_type": "markdown",
   "id": "e4cbbdc6",
   "metadata": {},
   "source": [
    "There are 1198 type 2 error (False Negatives)- You predicted negative and it’s false."
   ]
  },
  {
   "cell_type": "markdown",
   "id": "d891880c",
   "metadata": {},
   "source": [
    "Hence if we calculate the accuracy its # Correct Predicted/ # Total. In other words, where TP, FN, FP and TN represent the number of true positives, false negatives, false positives and true negatives."
   ]
  },
  {
   "cell_type": "markdown",
   "id": "a1d31d58",
   "metadata": {},
   "source": [
    "(TP + TN)/(TP + TN + FP + FN).(6146+1773)/(6146+1773+662+1198)=0.809796 = 80.97% accuracy"
   ]
  },
  {
   "cell_type": "markdown",
   "id": "2d531dfb",
   "metadata": {},
   "source": [
    "Accuracy = 80.97%"
   ]
  },
  {
   "cell_type": "markdown",
   "id": "99e5b959",
   "metadata": {},
   "source": [
    "# Classification report"
   ]
  },
  {
   "cell_type": "markdown",
   "id": "c40f89a8",
   "metadata": {},
   "source": [
    "classification is a predictive modeling problem where the class label is anticipated for a specific example of input data."
   ]
  },
  {
   "cell_type": "code",
   "execution_count": 109,
   "id": "bb2f292f",
   "metadata": {},
   "outputs": [],
   "source": [
    "from sklearn.metrics import classification_report"
   ]
  },
  {
   "cell_type": "code",
   "execution_count": 110,
   "id": "e81b4e06",
   "metadata": {},
   "outputs": [],
   "source": [
    "performance = classification_report(y_test,y_predict)"
   ]
  },
  {
   "cell_type": "code",
   "execution_count": 111,
   "id": "901947ac",
   "metadata": {},
   "outputs": [
    {
     "name": "stdout",
     "output_type": "stream",
     "text": [
      "              precision    recall  f1-score   support\n",
      "\n",
      "           7       0.84      0.90      0.87      6794\n",
      "           9       0.73      0.60      0.66      2985\n",
      "\n",
      "    accuracy                           0.81      9779\n",
      "   macro avg       0.78      0.75      0.76      9779\n",
      "weighted avg       0.80      0.81      0.80      9779\n",
      "\n"
     ]
    }
   ],
   "source": [
    "print(performance)"
   ]
  },
  {
   "cell_type": "markdown",
   "id": "6ba2c700",
   "metadata": {},
   "source": [
    "# 2 - Decision Tree"
   ]
  },
  {
   "cell_type": "markdown",
   "id": "4b1d86d2",
   "metadata": {},
   "source": [
    "A decision tree is a type of supervised machine learning used to categorize or make predictions based on how a previous set of questions were answered."
   ]
  },
  {
   "cell_type": "code",
   "execution_count": 112,
   "id": "4c8ab152",
   "metadata": {},
   "outputs": [],
   "source": [
    "from sklearn.tree import DecisionTreeClassifier"
   ]
  },
  {
   "cell_type": "code",
   "execution_count": 113,
   "id": "ce393639",
   "metadata": {},
   "outputs": [],
   "source": [
    "model_dt = DecisionTreeClassifier()"
   ]
  },
  {
   "cell_type": "code",
   "execution_count": 114,
   "id": "a60759cc",
   "metadata": {},
   "outputs": [
    {
     "data": {
      "text/plain": [
       "DecisionTreeClassifier()"
      ]
     },
     "execution_count": 114,
     "metadata": {},
     "output_type": "execute_result"
    }
   ],
   "source": [
    "model_dt.fit(x_train,y_train)"
   ]
  },
  {
   "cell_type": "code",
   "execution_count": 115,
   "id": "f66590cb",
   "metadata": {},
   "outputs": [
    {
     "data": {
      "text/plain": [
       "93.43985683241723"
      ]
     },
     "execution_count": 115,
     "metadata": {},
     "output_type": "execute_result"
    }
   ],
   "source": [
    "model_dt.score(x_train,y_train)*100"
   ]
  },
  {
   "cell_type": "code",
   "execution_count": 116,
   "id": "1f4d0f4c",
   "metadata": {},
   "outputs": [
    {
     "data": {
      "text/plain": [
       "81.61366192862256"
      ]
     },
     "execution_count": 116,
     "metadata": {},
     "output_type": "execute_result"
    }
   ],
   "source": [
    "model_dt.score(x_test,y_test)*100"
   ]
  },
  {
   "cell_type": "code",
   "execution_count": 117,
   "id": "72a68536",
   "metadata": {},
   "outputs": [],
   "source": [
    "from sklearn.metrics import accuracy_score"
   ]
  },
  {
   "cell_type": "code",
   "execution_count": 118,
   "id": "034669c5",
   "metadata": {},
   "outputs": [],
   "source": [
    "y_predict = model_dt.predict(x_test)"
   ]
  },
  {
   "cell_type": "code",
   "execution_count": 119,
   "id": "7845346e",
   "metadata": {},
   "outputs": [
    {
     "data": {
      "text/plain": [
       "array([7, 7, 7, ..., 7, 9, 7], dtype=int64)"
      ]
     },
     "execution_count": 119,
     "metadata": {},
     "output_type": "execute_result"
    }
   ],
   "source": [
    "y_predict"
   ]
  },
  {
   "cell_type": "code",
   "execution_count": 120,
   "id": "e6e04b90",
   "metadata": {},
   "outputs": [],
   "source": [
    "test_acc = accuracy_score(y_test,y_predict)*100"
   ]
  },
  {
   "cell_type": "code",
   "execution_count": 121,
   "id": "c10d48f2",
   "metadata": {},
   "outputs": [
    {
     "data": {
      "text/plain": [
       "81.61366192862256"
      ]
     },
     "execution_count": 121,
     "metadata": {},
     "output_type": "execute_result"
    }
   ],
   "source": [
    "test_acc"
   ]
  },
  {
   "cell_type": "markdown",
   "id": "575b0b7a",
   "metadata": {},
   "source": [
    "# 3 - Random Forest"
   ]
  },
  {
   "cell_type": "markdown",
   "id": "93b9bce6",
   "metadata": {},
   "source": [
    "Random Forest is a powerful and versatile supervised machine learning algorithm that grows and combines multiple decision trees to create a “forest.”"
   ]
  },
  {
   "cell_type": "code",
   "execution_count": 122,
   "id": "7427005a",
   "metadata": {},
   "outputs": [],
   "source": [
    "from sklearn.ensemble import RandomForestClassifier"
   ]
  },
  {
   "cell_type": "code",
   "execution_count": 123,
   "id": "e58efeec",
   "metadata": {},
   "outputs": [],
   "source": [
    "model_rf = RandomForestClassifier(n_estimators=100)"
   ]
  },
  {
   "cell_type": "code",
   "execution_count": 124,
   "id": "c559a663",
   "metadata": {},
   "outputs": [
    {
     "data": {
      "text/plain": [
       "RandomForestClassifier()"
      ]
     },
     "execution_count": 124,
     "metadata": {},
     "output_type": "execute_result"
    }
   ],
   "source": [
    "model_rf.fit(x_train,y_train)"
   ]
  },
  {
   "cell_type": "code",
   "execution_count": 125,
   "id": "00ec5cf9",
   "metadata": {},
   "outputs": [
    {
     "data": {
      "text/plain": [
       "93.4321871404832"
      ]
     },
     "execution_count": 125,
     "metadata": {},
     "output_type": "execute_result"
    }
   ],
   "source": [
    "model_rf.score(x_train,y_train)*100"
   ]
  },
  {
   "cell_type": "code",
   "execution_count": 126,
   "id": "aa9f368b",
   "metadata": {},
   "outputs": [
    {
     "data": {
      "text/plain": [
       "82.88168524388996"
      ]
     },
     "execution_count": 126,
     "metadata": {},
     "output_type": "execute_result"
    }
   ],
   "source": [
    "model_rf.score(x_test,y_test)*100"
   ]
  },
  {
   "cell_type": "code",
   "execution_count": 127,
   "id": "561e3a98",
   "metadata": {},
   "outputs": [],
   "source": [
    "from sklearn.metrics import accuracy_score"
   ]
  },
  {
   "cell_type": "code",
   "execution_count": 128,
   "id": "ffb3eff2",
   "metadata": {},
   "outputs": [],
   "source": [
    "y_predict = model_rf.predict(x_test)"
   ]
  },
  {
   "cell_type": "code",
   "execution_count": 129,
   "id": "341a1720",
   "metadata": {},
   "outputs": [
    {
     "data": {
      "text/plain": [
       "array([7, 7, 7, ..., 7, 9, 7], dtype=int64)"
      ]
     },
     "execution_count": 129,
     "metadata": {},
     "output_type": "execute_result"
    }
   ],
   "source": [
    "y_predict"
   ]
  },
  {
   "cell_type": "code",
   "execution_count": 130,
   "id": "b2b902ea",
   "metadata": {},
   "outputs": [],
   "source": [
    "test_acc = accuracy_score(y_test,y_predict)*100"
   ]
  },
  {
   "cell_type": "code",
   "execution_count": 131,
   "id": "2b6faaf4",
   "metadata": {},
   "outputs": [
    {
     "data": {
      "text/plain": [
       "82.88168524388996"
      ]
     },
     "execution_count": 131,
     "metadata": {},
     "output_type": "execute_result"
    }
   ],
   "source": [
    "test_acc"
   ]
  },
  {
   "cell_type": "markdown",
   "id": "fbad693f",
   "metadata": {},
   "source": [
    "# 4- KNeighborsClassifier"
   ]
  },
  {
   "cell_type": "markdown",
   "id": "c76cddae",
   "metadata": {},
   "source": [
    "The k-nearest neighbors algorithm, also known as KNN or k-NN, is a non-parametric, supervised learning classifier, which uses proximity to make classifications or predictions about the grouping of an individual data point."
   ]
  },
  {
   "cell_type": "code",
   "execution_count": 132,
   "id": "a9909aae",
   "metadata": {},
   "outputs": [],
   "source": [
    "from sklearn.neighbors import KNeighborsClassifier"
   ]
  },
  {
   "cell_type": "code",
   "execution_count": 133,
   "id": "caad86f7",
   "metadata": {},
   "outputs": [],
   "source": [
    "model_knn = KNeighborsClassifier(n_neighbors=10)"
   ]
  },
  {
   "cell_type": "code",
   "execution_count": 134,
   "id": "6fcbb00e",
   "metadata": {},
   "outputs": [
    {
     "data": {
      "text/plain": [
       "KNeighborsClassifier(n_neighbors=10)"
      ]
     },
     "execution_count": 134,
     "metadata": {},
     "output_type": "execute_result"
    }
   ],
   "source": [
    "model_knn.fit(x_train,y_train)"
   ]
  },
  {
   "cell_type": "code",
   "execution_count": 135,
   "id": "5f5d1417",
   "metadata": {},
   "outputs": [
    {
     "data": {
      "text/plain": [
       "84.34360219864502"
      ]
     },
     "execution_count": 135,
     "metadata": {},
     "output_type": "execute_result"
    }
   ],
   "source": [
    "model_knn.score(x_train,y_train)*100"
   ]
  },
  {
   "cell_type": "code",
   "execution_count": 136,
   "id": "2c607296",
   "metadata": {},
   "outputs": [
    {
     "data": {
      "text/plain": [
       "81.88976377952756"
      ]
     },
     "execution_count": 136,
     "metadata": {},
     "output_type": "execute_result"
    }
   ],
   "source": [
    "model_knn.score(x_test,y_test)*100"
   ]
  },
  {
   "cell_type": "code",
   "execution_count": 137,
   "id": "3ac10f96",
   "metadata": {},
   "outputs": [],
   "source": [
    "from sklearn.metrics import accuracy_score"
   ]
  },
  {
   "cell_type": "code",
   "execution_count": 138,
   "id": "4f516046",
   "metadata": {},
   "outputs": [],
   "source": [
    "y_predict=model_knn.predict(x_test)"
   ]
  },
  {
   "cell_type": "code",
   "execution_count": 139,
   "id": "07fc54a7",
   "metadata": {},
   "outputs": [
    {
     "data": {
      "text/plain": [
       "array([7, 7, 7, ..., 7, 7, 7], dtype=int64)"
      ]
     },
     "execution_count": 139,
     "metadata": {},
     "output_type": "execute_result"
    }
   ],
   "source": [
    "y_predict"
   ]
  },
  {
   "cell_type": "code",
   "execution_count": 140,
   "id": "8162d905",
   "metadata": {},
   "outputs": [],
   "source": [
    "test_acc = accuracy_score(y_test,y_predict)*100"
   ]
  },
  {
   "cell_type": "code",
   "execution_count": 141,
   "id": "895c878c",
   "metadata": {},
   "outputs": [
    {
     "data": {
      "text/plain": [
       "81.88976377952756"
      ]
     },
     "execution_count": 141,
     "metadata": {},
     "output_type": "execute_result"
    }
   ],
   "source": [
    "test_acc"
   ]
  },
  {
   "cell_type": "markdown",
   "id": "029ba2ed",
   "metadata": {},
   "source": [
    "# 5 - Naive bayes"
   ]
  },
  {
   "cell_type": "markdown",
   "id": "5ff5742f",
   "metadata": {},
   "source": [
    "Naïve Bayes Classifier is one of the simple and most effective Classification algorithms which helps in building the fast machine learning models that can make quick predictions."
   ]
  },
  {
   "cell_type": "code",
   "execution_count": 142,
   "id": "22b52164",
   "metadata": {},
   "outputs": [],
   "source": [
    "from sklearn.naive_bayes import MultinomialNB"
   ]
  },
  {
   "cell_type": "code",
   "execution_count": 143,
   "id": "f6bdc1bd",
   "metadata": {},
   "outputs": [],
   "source": [
    "model_nb = MultinomialNB()"
   ]
  },
  {
   "cell_type": "code",
   "execution_count": 144,
   "id": "a8dc3e68",
   "metadata": {},
   "outputs": [
    {
     "data": {
      "text/plain": [
       "MultinomialNB()"
      ]
     },
     "execution_count": 144,
     "metadata": {},
     "output_type": "execute_result"
    }
   ],
   "source": [
    "model_nb.fit(x_train,y_train)"
   ]
  },
  {
   "cell_type": "code",
   "execution_count": 145,
   "id": "59bcd882",
   "metadata": {},
   "outputs": [
    {
     "data": {
      "text/plain": [
       "78.4532787933018"
      ]
     },
     "execution_count": 145,
     "metadata": {},
     "output_type": "execute_result"
    }
   ],
   "source": [
    "model_nb.score(x_train,y_train)*100"
   ]
  },
  {
   "cell_type": "code",
   "execution_count": 146,
   "id": "fb1d1a0b",
   "metadata": {},
   "outputs": [
    {
     "data": {
      "text/plain": [
       "78.15727579507107"
      ]
     },
     "execution_count": 146,
     "metadata": {},
     "output_type": "execute_result"
    }
   ],
   "source": [
    "model_nb.score(x_test,y_test)*100"
   ]
  },
  {
   "cell_type": "code",
   "execution_count": 147,
   "id": "3a84a167",
   "metadata": {},
   "outputs": [],
   "source": [
    "from sklearn.metrics import accuracy_score"
   ]
  },
  {
   "cell_type": "code",
   "execution_count": 148,
   "id": "d02411b3",
   "metadata": {},
   "outputs": [],
   "source": [
    "y_predict = model_nb.predict(x_test)"
   ]
  },
  {
   "cell_type": "code",
   "execution_count": 149,
   "id": "87e1fc4b",
   "metadata": {},
   "outputs": [
    {
     "data": {
      "text/plain": [
       "array([7, 7, 7, ..., 7, 7, 7], dtype=int64)"
      ]
     },
     "execution_count": 149,
     "metadata": {},
     "output_type": "execute_result"
    }
   ],
   "source": [
    "y_predict"
   ]
  },
  {
   "cell_type": "code",
   "execution_count": 150,
   "id": "96f3ec41",
   "metadata": {},
   "outputs": [],
   "source": [
    "test_acc = accuracy_score(y_test,y_predict)*100"
   ]
  },
  {
   "cell_type": "code",
   "execution_count": 151,
   "id": "f2a3be87",
   "metadata": {},
   "outputs": [
    {
     "data": {
      "text/plain": [
       "78.15727579507107"
      ]
     },
     "execution_count": 151,
     "metadata": {},
     "output_type": "execute_result"
    }
   ],
   "source": [
    "test_acc"
   ]
  }
 ],
 "metadata": {
  "kernelspec": {
   "display_name": "Python 3 (ipykernel)",
   "language": "python",
   "name": "python3"
  },
  "language_info": {
   "codemirror_mode": {
    "name": "ipython",
    "version": 3
   },
   "file_extension": ".py",
   "mimetype": "text/x-python",
   "name": "python",
   "nbconvert_exporter": "python",
   "pygments_lexer": "ipython3",
   "version": "3.9.12"
  }
 },
 "nbformat": 4,
 "nbformat_minor": 5
}
